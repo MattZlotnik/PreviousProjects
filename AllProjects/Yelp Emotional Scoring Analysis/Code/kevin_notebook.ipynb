{
 "cells": [
  {
   "cell_type": "code",
   "execution_count": 38,
   "metadata": {},
   "outputs": [
    {
     "data": {
      "text/html": [
       "<div>\n",
       "<style scoped>\n",
       "    .dataframe tbody tr th:only-of-type {\n",
       "        vertical-align: middle;\n",
       "    }\n",
       "\n",
       "    .dataframe tbody tr th {\n",
       "        vertical-align: top;\n",
       "    }\n",
       "\n",
       "    .dataframe thead th {\n",
       "        text-align: right;\n",
       "    }\n",
       "</style>\n",
       "<table border=\"1\" class=\"dataframe\">\n",
       "  <thead>\n",
       "    <tr style=\"text-align: right;\">\n",
       "      <th></th>\n",
       "      <th>Unnamed: 0</th>\n",
       "      <th>business_id</th>\n",
       "      <th>cool</th>\n",
       "      <th>date</th>\n",
       "      <th>funny</th>\n",
       "      <th>review_id</th>\n",
       "      <th>stars</th>\n",
       "      <th>useful</th>\n",
       "      <th>user_id</th>\n",
       "      <th>fear_score</th>\n",
       "      <th>...</th>\n",
       "      <th>neutral_score</th>\n",
       "      <th>surprise_score</th>\n",
       "      <th>disgust_score</th>\n",
       "      <th>fear_normalized</th>\n",
       "      <th>happy_normalized</th>\n",
       "      <th>sad_normalized</th>\n",
       "      <th>anger_normalized</th>\n",
       "      <th>neutral_normalized</th>\n",
       "      <th>surprise_normalized</th>\n",
       "      <th>disgust_normalized</th>\n",
       "    </tr>\n",
       "  </thead>\n",
       "  <tbody>\n",
       "    <tr>\n",
       "      <td>0</td>\n",
       "      <td>84442</td>\n",
       "      <td>XH2TZmZt6gzHHpjqk8C6pg</td>\n",
       "      <td>1</td>\n",
       "      <td>2009-05-26 13:42:02</td>\n",
       "      <td>3</td>\n",
       "      <td>rtQJU6GHxnxsXKBspKzWaA</td>\n",
       "      <td>5</td>\n",
       "      <td>6</td>\n",
       "      <td>lJzgOpVS1pmb2UW7j2GkDg</td>\n",
       "      <td>2.405523</td>\n",
       "      <td>...</td>\n",
       "      <td>1.005997</td>\n",
       "      <td>2.925512</td>\n",
       "      <td>1.423982</td>\n",
       "      <td>0.154263</td>\n",
       "      <td>0.194019</td>\n",
       "      <td>0.164339</td>\n",
       "      <td>0.143937</td>\n",
       "      <td>0.064513</td>\n",
       "      <td>0.187610</td>\n",
       "      <td>0.091318</td>\n",
       "    </tr>\n",
       "    <tr>\n",
       "      <td>1</td>\n",
       "      <td>75795</td>\n",
       "      <td>yNVcnSaMSrTmjJBMrHTy9w</td>\n",
       "      <td>2</td>\n",
       "      <td>2012-06-01 18:22:23</td>\n",
       "      <td>1</td>\n",
       "      <td>wU-awV0uGkZdjnIFsgoTQA</td>\n",
       "      <td>4</td>\n",
       "      <td>5</td>\n",
       "      <td>8iqGB11mHwCTLOOHkqnqmQ</td>\n",
       "      <td>0.532827</td>\n",
       "      <td>...</td>\n",
       "      <td>0.153021</td>\n",
       "      <td>0.549298</td>\n",
       "      <td>0.138426</td>\n",
       "      <td>0.200740</td>\n",
       "      <td>0.193448</td>\n",
       "      <td>0.136829</td>\n",
       "      <td>0.152236</td>\n",
       "      <td>0.057650</td>\n",
       "      <td>0.206945</td>\n",
       "      <td>0.052151</td>\n",
       "    </tr>\n",
       "    <tr>\n",
       "      <td>2</td>\n",
       "      <td>42057</td>\n",
       "      <td>zk3AimWhuz0EZsNgIddKdg</td>\n",
       "      <td>0</td>\n",
       "      <td>2018-05-19 16:05:50</td>\n",
       "      <td>0</td>\n",
       "      <td>WBE8cGKMIJggpXRA4KTaog</td>\n",
       "      <td>2</td>\n",
       "      <td>0</td>\n",
       "      <td>qFk5mtbEqpRgg2v2HRoryQ</td>\n",
       "      <td>0.365300</td>\n",
       "      <td>...</td>\n",
       "      <td>0.130912</td>\n",
       "      <td>0.293360</td>\n",
       "      <td>0.315442</td>\n",
       "      <td>0.132739</td>\n",
       "      <td>0.322269</td>\n",
       "      <td>0.110795</td>\n",
       "      <td>0.165409</td>\n",
       "      <td>0.047569</td>\n",
       "      <td>0.106598</td>\n",
       "      <td>0.114622</td>\n",
       "    </tr>\n",
       "    <tr>\n",
       "      <td>3</td>\n",
       "      <td>25891</td>\n",
       "      <td>MN0Pd66285k2k9lkpEtptA</td>\n",
       "      <td>0</td>\n",
       "      <td>2017-03-15 20:01:16</td>\n",
       "      <td>0</td>\n",
       "      <td>_NcurWksF9tSwXK9Mq3GIA</td>\n",
       "      <td>1</td>\n",
       "      <td>0</td>\n",
       "      <td>D4xs1lDiug7hU_NfPnJxpQ</td>\n",
       "      <td>1.301386</td>\n",
       "      <td>...</td>\n",
       "      <td>0.449623</td>\n",
       "      <td>1.360330</td>\n",
       "      <td>0.515131</td>\n",
       "      <td>0.176703</td>\n",
       "      <td>0.162737</td>\n",
       "      <td>0.137485</td>\n",
       "      <td>0.207375</td>\n",
       "      <td>0.061050</td>\n",
       "      <td>0.184706</td>\n",
       "      <td>0.069945</td>\n",
       "    </tr>\n",
       "    <tr>\n",
       "      <td>4</td>\n",
       "      <td>51127</td>\n",
       "      <td>N9oZ9GDPf65x6zv7fsKJvA</td>\n",
       "      <td>0</td>\n",
       "      <td>2012-11-07 23:02:55</td>\n",
       "      <td>1</td>\n",
       "      <td>bQ1zd9OOjNwMJexVp2jZSA</td>\n",
       "      <td>3</td>\n",
       "      <td>2</td>\n",
       "      <td>cuVrNmt7_WtBn1uz5L_p0g</td>\n",
       "      <td>0.148931</td>\n",
       "      <td>...</td>\n",
       "      <td>0.061737</td>\n",
       "      <td>0.425446</td>\n",
       "      <td>0.080027</td>\n",
       "      <td>0.104764</td>\n",
       "      <td>0.193086</td>\n",
       "      <td>0.117864</td>\n",
       "      <td>0.185288</td>\n",
       "      <td>0.043428</td>\n",
       "      <td>0.299275</td>\n",
       "      <td>0.056294</td>\n",
       "    </tr>\n",
       "  </tbody>\n",
       "</table>\n",
       "<p>5 rows × 23 columns</p>\n",
       "</div>"
      ],
      "text/plain": [
       "   Unnamed: 0             business_id  cool                 date  funny  \\\n",
       "0       84442  XH2TZmZt6gzHHpjqk8C6pg     1  2009-05-26 13:42:02      3   \n",
       "1       75795  yNVcnSaMSrTmjJBMrHTy9w     2  2012-06-01 18:22:23      1   \n",
       "2       42057  zk3AimWhuz0EZsNgIddKdg     0  2018-05-19 16:05:50      0   \n",
       "3       25891  MN0Pd66285k2k9lkpEtptA     0  2017-03-15 20:01:16      0   \n",
       "4       51127  N9oZ9GDPf65x6zv7fsKJvA     0  2012-11-07 23:02:55      1   \n",
       "\n",
       "                review_id  stars  useful                 user_id  fear_score  \\\n",
       "0  rtQJU6GHxnxsXKBspKzWaA      5       6  lJzgOpVS1pmb2UW7j2GkDg    2.405523   \n",
       "1  wU-awV0uGkZdjnIFsgoTQA      4       5  8iqGB11mHwCTLOOHkqnqmQ    0.532827   \n",
       "2  WBE8cGKMIJggpXRA4KTaog      2       0  qFk5mtbEqpRgg2v2HRoryQ    0.365300   \n",
       "3  _NcurWksF9tSwXK9Mq3GIA      1       0  D4xs1lDiug7hU_NfPnJxpQ    1.301386   \n",
       "4  bQ1zd9OOjNwMJexVp2jZSA      3       2  cuVrNmt7_WtBn1uz5L_p0g    0.148931   \n",
       "\n",
       "   ...  neutral_score  surprise_score  disgust_score  fear_normalized  \\\n",
       "0  ...       1.005997        2.925512       1.423982         0.154263   \n",
       "1  ...       0.153021        0.549298       0.138426         0.200740   \n",
       "2  ...       0.130912        0.293360       0.315442         0.132739   \n",
       "3  ...       0.449623        1.360330       0.515131         0.176703   \n",
       "4  ...       0.061737        0.425446       0.080027         0.104764   \n",
       "\n",
       "   happy_normalized  sad_normalized  anger_normalized  neutral_normalized  \\\n",
       "0          0.194019        0.164339          0.143937            0.064513   \n",
       "1          0.193448        0.136829          0.152236            0.057650   \n",
       "2          0.322269        0.110795          0.165409            0.047569   \n",
       "3          0.162737        0.137485          0.207375            0.061050   \n",
       "4          0.193086        0.117864          0.185288            0.043428   \n",
       "\n",
       "   surprise_normalized  disgust_normalized  \n",
       "0             0.187610            0.091318  \n",
       "1             0.206945            0.052151  \n",
       "2             0.106598            0.114622  \n",
       "3             0.184706            0.069945  \n",
       "4             0.299275            0.056294  \n",
       "\n",
       "[5 rows x 23 columns]"
      ]
     },
     "execution_count": 38,
     "metadata": {},
     "output_type": "execute_result"
    }
   ],
   "source": [
    "import pandas as pd\n",
    "from sklearn.model_selection import train_test_split\n",
    "from sklearn import linear_model\n",
    "from sklearn.metrics import mean_absolute_error\n",
    "import numpy as np\n",
    "\n",
    "df = pd.read_csv(\"1000 reviews with normalized scores.csv\")\n",
    "df.head()"
   ]
  },
  {
   "cell_type": "code",
   "execution_count": 39,
   "metadata": {
    "scrolled": true
   },
   "outputs": [
    {
     "data": {
      "text/plain": [
       "Index(['Unnamed: 0', 'business_id', 'cool', 'date', 'funny', 'review_id',\n",
       "       'stars', 'useful', 'user_id', 'fear_score', 'happy_score', 'sad_score',\n",
       "       'anger_score', 'neutral_score', 'surprise_score', 'disgust_score',\n",
       "       'fear_normalized', 'happy_normalized', 'sad_normalized',\n",
       "       'anger_normalized', 'neutral_normalized', 'surprise_normalized',\n",
       "       'disgust_normalized'],\n",
       "      dtype='object')"
      ]
     },
     "execution_count": 39,
     "metadata": {},
     "output_type": "execute_result"
    }
   ],
   "source": [
    "df.columns"
   ]
  },
  {
   "cell_type": "code",
   "execution_count": 70,
   "metadata": {},
   "outputs": [
    {
     "data": {
      "text/plain": [
       "(array([758., 100.,  45.,  26.,  21.,   9.,   8.,   7.,   7.,   3.,   1.,\n",
       "          0.,   1.,   1.,   1.,   2.,   1.,   2.,   1.,   1.,   0.,   1.,\n",
       "          0.,   0.,   0.,   0.,   0.,   0.,   0.,   0.,   1.,   0.,   0.,\n",
       "          1.,   0.,   0.,   0.,   1.,   0.,   1.]),\n",
       " array([ 0.  ,  1.05,  2.1 ,  3.15,  4.2 ,  5.25,  6.3 ,  7.35,  8.4 ,\n",
       "         9.45, 10.5 , 11.55, 12.6 , 13.65, 14.7 , 15.75, 16.8 , 17.85,\n",
       "        18.9 , 19.95, 21.  , 22.05, 23.1 , 24.15, 25.2 , 26.25, 27.3 ,\n",
       "        28.35, 29.4 , 30.45, 31.5 , 32.55, 33.6 , 34.65, 35.7 , 36.75,\n",
       "        37.8 , 38.85, 39.9 , 40.95, 42.  ]),\n",
       " <a list of 40 Patch objects>)"
      ]
     },
     "execution_count": 70,
     "metadata": {},
     "output_type": "execute_result"
    },
    {
     "data": {
      "image/png": "[encoded data removed]",
      "text/plain": [
       "<Figure size 432x288 with 1 Axes>"
      ]
     },
     "metadata": {
      "needs_background": "light"
     },
     "output_type": "display_data"
    },
    {
     "data": {
      "image/png": "[encoded data removed]",
      "text/plain": [
       "<Figure size 432x288 with 1 Axes>"
      ]
     },
     "metadata": {
      "needs_background": "light"
     },
     "output_type": "display_data"
    },
    {
     "data": {
      "image/png": "[encoded data removed]",
      "text/plain": [
       "<Figure size 432x288 with 1 Axes>"
      ]
     },
     "metadata": {
      "needs_background": "light"
     },
     "output_type": "display_data"
    }
   ],
   "source": [
    "import matplotlib.pyplot as plt\n",
    "\n",
    "tags = pd.DataFrame(df, columns = ['cool', 'funny', 'useful'])\n",
    "\n",
    "#X_binary_train\n",
    "fig1 = plt.figure()\n",
    "ax1 = fig1.add_subplot(1, 1, 1)\n",
    "ax1.hist(tags['cool'], bins = 40)\n",
    "fig2 = plt.figure()\n",
    "ax2 = fig2.add_subplot(1, 1, 1)\n",
    "ax2.hist(tags['funny'], bins = 40)\n",
    "fig3 = plt.figure()\n",
    "ax3 = fig3.add_subplot(1, 1, 1)\n",
    "ax3.hist(tags['useful'], bins = 40)"
   ]
  },
  {
   "cell_type": "code",
   "execution_count": 71,
   "metadata": {
    "scrolled": true
   },
   "outputs": [
    {
     "name": "stdout",
     "output_type": "stream",
     "text": [
      "                            OLS Regression Results                            \n",
      "==============================================================================\n",
      "Dep. Variable:                  funny   R-squared:                       0.011\n",
      "Model:                            OLS   Adj. R-squared:                  0.003\n",
      "Method:                 Least Squares   F-statistic:                     1.340\n",
      "Date:                Fri, 01 Nov 2019   Prob (F-statistic):              0.237\n",
      "Time:                        12:32:14   Log-Likelihood:                -1477.3\n",
      "No. Observations:                 700   AIC:                             2969.\n",
      "Df Residuals:                     693   BIC:                             3000.\n",
      "Df Model:                           6                                         \n",
      "Covariance Type:            nonrobust                                         \n",
      "=======================================================================================\n",
      "                          coef    std err          t      P>|t|      [0.025      0.975]\n",
      "---------------------------------------------------------------------------------------\n",
      "fear_normalized         4.5106      2.067      2.182      0.029       0.451       8.570\n",
      "happy_normalized       -1.2173      0.964     -1.262      0.207      -3.111       0.676\n",
      "sad_normalized         -1.0666      1.667     -0.640      0.522      -4.339       2.206\n",
      "anger_normalized        0.3090      1.573      0.196      0.844      -2.780       3.398\n",
      "neutral_normalized     -2.3724      4.571     -0.519      0.604     -11.346       6.602\n",
      "surprise_normalized     0.5679      1.307      0.435      0.664      -1.998       3.133\n",
      "disgust_normalized      2.8171      3.017      0.934      0.351      -3.107       8.741\n",
      "==============================================================================\n",
      "Omnibus:                     1049.024   Durbin-Watson:                   2.045\n",
      "Prob(Omnibus):                  0.000   Jarque-Bera (JB):           234708.296\n",
      "Skew:                           8.597   Prob(JB):                         0.00\n",
      "Kurtosis:                      91.043   Cond. No.                         25.2\n",
      "==============================================================================\n",
      "\n",
      "Warnings:\n",
      "[1] Standard Errors assume that the covariance matrix of the errors is correctly specified.\n"
     ]
    }
   ],
   "source": [
    "#linear for funny\n",
    "import statsmodels.api as sm\n",
    "from scipy import stats\n",
    "\n",
    "X = pd.DataFrame(df, columns = [\"fear_normalized\", \"happy_normalized\", \"sad_normalized\", \"anger_normalized\",\\\n",
    "                                \"neutral_normalized\", \"surprise_normalized\",\"disgust_normalized\"])\n",
    "\n",
    "X_train_funny, X_test_funny, Y_train_funny, Y_test_funny = train_test_split(X,tags['funny'],test_size = 0.30, random_state=11)\n",
    "\n",
    "funny_linear = sm.OLS(Y_train_funny, X_train_funny)\n",
    "funny_linear_fit = funny_linear.fit()\n",
    "print(funny_linear_fit.summary())"
   ]
  },
  {
   "cell_type": "code",
   "execution_count": null,
   "metadata": {},
   "outputs": [],
   "source": [
    "import statsmodels.api as sm\n",
    "from scipy import stats\n",
    "\n",
    "X = pd.DataFrame(df, columns = [\"fear_normalized\", \"happy_normalized\", \"sad_normalized\", \"anger_normalized\",\\\n",
    "                                \"neutral_normalized\", \"surprise_normalized\",\"disgust_normalized\"])"
   ]
  },
  {
   "cell_type": "code",
   "execution_count": 41,
   "metadata": {},
   "outputs": [
    {
     "data": {
      "text/plain": [
       "array([5, 5, 5, 5, 5, 5, 5, 5, 2, 5, 5, 5, 5, 5, 5, 5, 4, 5, 5, 5, 5, 5,\n",
       "       5, 5, 5, 4, 5, 5, 5, 4, 5, 5, 4, 5, 5, 4, 5, 4, 5, 5, 5, 1, 2, 2,\n",
       "       5, 5, 5, 5, 5, 2, 5, 1, 5, 5, 5, 5, 5, 5, 5, 5, 5, 5, 5, 5, 5, 5,\n",
       "       5, 5, 5, 5, 5, 5, 5, 5, 1, 4, 5, 5, 5, 4, 5, 5, 2, 5, 5, 1, 2, 5,\n",
       "       5, 5, 5, 5, 5, 5, 5, 5, 5, 2, 5, 5, 5, 5, 5, 5, 5, 5, 5, 5, 5, 5,\n",
       "       4, 4, 5, 5, 5, 4, 5, 5, 4, 5, 5, 4, 4, 5, 5, 5, 5, 4, 5, 5, 1, 4,\n",
       "       5, 5, 5, 5, 5, 5, 5, 2, 5, 4, 5, 5, 5, 5, 5, 5, 5, 5, 5, 4, 5, 5,\n",
       "       5, 4, 5, 5, 5, 5, 5, 5, 5, 5, 1, 5, 5, 5, 5, 5, 4, 5, 5, 5, 5, 5,\n",
       "       4, 5, 5, 5, 4, 5, 5, 5, 4, 4, 2, 2, 5, 5, 5, 5, 5, 5, 5, 5, 5, 5,\n",
       "       5, 5, 5, 5, 5, 5, 4, 5, 5, 1, 5, 5, 5, 5, 5, 5, 5, 5, 5, 5, 4, 5,\n",
       "       5, 5, 5, 5, 5, 4, 5, 4, 5, 5, 5, 5, 5, 4, 5, 5, 5, 5, 5, 5, 4, 4,\n",
       "       4, 4, 5, 5, 5, 2, 5, 5, 1, 5, 5, 5, 5, 5, 5, 5, 5, 5, 5, 4, 5, 5,\n",
       "       5, 1, 2, 5, 4, 5, 5, 5, 5, 5, 5, 5, 5, 5, 4, 5, 5, 4, 5, 5, 5, 5,\n",
       "       5, 2, 5, 5, 5, 5, 2, 5, 2, 5, 2, 5, 5, 5, 5, 5, 5, 5, 5, 5, 5, 5,\n",
       "       5, 5, 5, 5, 5, 5, 5, 2, 4, 5, 5, 5, 5, 4, 2, 5, 5, 5, 4, 5, 5, 5,\n",
       "       5, 5, 5, 5, 5, 5, 4, 5, 2, 2, 5, 5, 5, 2, 5, 5, 5, 5, 5, 5, 5, 5,\n",
       "       5, 5, 5, 5, 5, 2, 5, 5, 5, 5, 5, 5, 5, 5, 4, 5, 5, 5, 5, 5, 5, 5,\n",
       "       1, 4, 5, 5, 5, 5, 5, 5, 5, 4, 5, 5, 5, 5, 5, 5, 5, 5, 5, 5, 5, 5,\n",
       "       2, 5, 5, 5, 5, 2, 5, 5, 5, 5, 5, 4, 2, 5, 5, 5, 5, 5, 5, 5, 5, 5,\n",
       "       5, 5, 5, 5, 5, 5, 5, 4, 4, 5, 5, 5, 5, 5, 5, 4, 5, 5, 5, 5, 4, 5,\n",
       "       5, 5, 5, 4, 5, 5, 5, 1, 5, 5, 5, 5, 5, 5, 4, 4, 5, 4, 5, 5, 2, 5,\n",
       "       5, 4, 5, 5, 4, 5, 5, 4, 5, 5, 5, 5, 5, 5, 4, 2, 5, 5, 5, 5, 4, 5,\n",
       "       5, 5, 5, 1, 4, 5, 4, 5, 5, 5, 5, 5, 5, 5, 5, 4, 4, 5, 5, 5, 5, 5,\n",
       "       5, 5, 4, 5, 5, 5, 5, 4, 5, 5, 5, 5, 5, 5, 5, 5, 5, 4, 5, 5, 5, 5,\n",
       "       4, 5, 5, 5, 5, 4, 5, 5, 5, 5, 5, 4, 5, 5, 5, 5, 5, 5, 5, 5, 5, 5,\n",
       "       5, 5, 5, 5, 5, 5, 5, 5, 5, 5, 5, 5, 5, 5, 5, 5, 5, 5, 5, 5, 5, 2,\n",
       "       5, 5, 5, 5, 5, 5, 5, 5, 5, 5, 5, 5, 4, 5, 5, 5, 1, 5, 5, 5, 5, 5,\n",
       "       5, 5, 5, 5, 5, 5, 5, 5, 4, 5, 5, 5, 5, 5, 5, 5, 5, 5, 5, 5, 4, 5,\n",
       "       5, 4, 5, 4, 5, 5, 5, 5, 5, 5, 5, 5, 5, 5, 5, 5, 5, 5, 2, 4, 5, 5,\n",
       "       5, 5, 5, 4, 4, 5, 5, 5, 5, 5, 4, 5, 2, 5, 5, 5, 4, 5, 5, 5, 4, 5,\n",
       "       5, 5, 4, 5, 5, 2, 5, 5, 4, 5, 5, 5, 5, 5, 5, 4, 5, 5, 5, 5, 5, 5,\n",
       "       5, 2, 4, 2, 5, 5, 4, 5, 2, 5, 4, 5, 5, 5, 5, 5, 5, 5], dtype=int64)"
      ]
     },
     "execution_count": 41,
     "metadata": {},
     "output_type": "execute_result"
    }
   ],
   "source": [
    "from sklearn.linear_model import SGDClassifier\n",
    "\n",
    "sgd_clf = SGDClassifier(random_state = 42)\n",
    "sgd_clf.fit(X_train, Y_train)\n",
    "sgd_clf.predict(X_train)"
   ]
  },
  {
   "cell_type": "code",
   "execution_count": 42,
   "metadata": {},
   "outputs": [
    {
     "data": {
      "text/plain": [
       "array([4, 5, 5, 5, 1, 4, 3, 5, 5, 5, 3, 5, 2, 4, 4, 4, 2, 4, 5, 5, 5, 4,\n",
       "       5, 1, 5, 1, 5, 5, 5, 1, 5, 3, 1, 5, 1, 4, 5, 1, 5, 5, 5, 1, 5, 2,\n",
       "       5, 4, 5, 3, 1, 1, 1, 1, 4, 2, 2, 4, 5, 1, 1, 3, 5, 3, 5, 5, 5, 5,\n",
       "       2, 5, 4, 5, 5, 5, 4, 4, 1, 5, 5, 5, 5, 1, 1, 5, 5, 5, 5, 5, 2, 5,\n",
       "       5, 5, 5, 2, 1, 5, 5, 5, 4, 2, 5, 4, 4, 1, 5, 2, 4, 5, 5, 2, 5, 5,\n",
       "       1, 1, 5, 5, 5, 3, 1, 5, 4, 4, 5, 3, 4, 5, 4, 4, 5, 2, 4, 3, 5, 1,\n",
       "       5, 4, 5, 4, 4, 4, 1, 1, 3, 3, 3, 2, 5, 4, 5, 5, 4, 5, 3, 1, 4, 5,\n",
       "       5, 1, 4, 5, 5, 3, 5, 3, 5, 3, 1, 5, 5, 5, 5, 4, 5, 3, 5, 3, 3, 4,\n",
       "       3, 5, 5, 5, 4, 5, 2, 5, 3, 5, 2, 2, 3, 1, 4, 3, 4, 4, 5, 4, 5, 5,\n",
       "       4, 4, 5, 5, 5, 5, 2, 5, 2, 5, 5, 3, 3, 5, 1, 5, 5, 5, 5, 3, 5, 3,\n",
       "       5, 5, 5, 5, 5, 4, 5, 1, 5, 5, 5, 5, 5, 1, 4, 5, 2, 5, 1, 4, 2, 1,\n",
       "       1, 5, 2, 5, 5, 2, 5, 5, 1, 3, 5, 5, 5, 5, 5, 1, 3, 2, 4, 3, 5, 5,\n",
       "       4, 5, 4, 5, 1, 5, 5, 5, 4, 3, 3, 1, 1, 5, 3, 2, 5, 5, 3, 4, 3, 5,\n",
       "       4, 1, 5, 5, 1, 5, 1, 5, 2, 5, 1, 3, 5, 2, 5, 4, 5, 5, 5, 5, 5, 4,\n",
       "       2, 5, 3, 5, 5, 2, 2, 5, 2, 5, 1, 3, 5, 1, 1, 5, 2, 4, 4, 2, 1, 5,\n",
       "       2, 5, 5, 5, 5, 4, 3, 2, 5, 1, 5, 5, 3, 4, 5, 2, 5, 4, 2, 4, 5, 4,\n",
       "       5, 3, 2, 5, 4, 3, 5, 5, 5, 5, 5, 5, 5, 5, 2, 3, 5, 5, 5, 5, 4, 4,\n",
       "       1, 3, 5, 1, 5, 3, 5, 4, 5, 5, 4, 4, 4, 4, 1, 5, 5, 4, 4, 5, 1, 4,\n",
       "       2, 1, 5, 2, 5, 2, 4, 5, 5, 5, 5, 2, 1, 4, 5, 4, 5, 5, 3, 1, 3, 5,\n",
       "       5, 1, 5, 4, 5, 5, 5, 1, 1, 5, 2, 5, 4, 5, 4, 3, 3, 5, 5, 5, 5, 5,\n",
       "       4, 5, 5, 3, 4, 5, 5, 1, 1, 3, 3, 4, 4, 4, 1, 5, 5, 1, 4, 1, 1, 5,\n",
       "       4, 4, 4, 5, 1, 4, 5, 2, 5, 5, 5, 4, 4, 5, 3, 2, 5, 4, 3, 5, 4, 3,\n",
       "       5, 1, 2, 1, 2, 3, 1, 4, 3, 1, 4, 3, 5, 4, 5, 4, 4, 4, 3, 5, 4, 5,\n",
       "       5, 4, 3, 4, 3, 4, 5, 4, 1, 2, 5, 5, 5, 4, 5, 4, 5, 5, 5, 3, 4, 5,\n",
       "       1, 5, 4, 4, 4, 5, 5, 4, 5, 3, 4, 4, 4, 2, 4, 5, 3, 4, 3, 5, 5, 5,\n",
       "       5, 5, 1, 5, 5, 5, 4, 1, 4, 5, 5, 5, 3, 5, 4, 2, 1, 5, 5, 4, 5, 5,\n",
       "       5, 1, 5, 3, 5, 5, 2, 5, 3, 5, 5, 5, 1, 4, 4, 5, 1, 4, 5, 5, 5, 4,\n",
       "       2, 4, 1, 1, 5, 3, 5, 5, 5, 5, 5, 5, 1, 1, 5, 5, 4, 5, 5, 5, 2, 5,\n",
       "       5, 2, 5, 1, 4, 5, 4, 5, 1, 5, 5, 5, 5, 5, 4, 4, 5, 5, 1, 2, 5, 3,\n",
       "       1, 5, 5, 1, 3, 4, 4, 4, 1, 5, 5, 3, 2, 5, 4, 5, 1, 3, 5, 2, 5, 4,\n",
       "       4, 4, 4, 3, 4, 3, 5, 5, 5, 5, 5, 4, 5, 5, 5, 4, 5, 5, 5, 5, 3, 5,\n",
       "       5, 1, 3, 1, 4, 4, 5, 5, 5, 4, 4, 5, 5, 3, 5, 5, 4, 1], dtype=int64)"
      ]
     },
     "execution_count": 42,
     "metadata": {},
     "output_type": "execute_result"
    }
   ],
   "source": [
    "Y_train.ravel()"
   ]
  },
  {
   "cell_type": "code",
   "execution_count": 43,
   "metadata": {},
   "outputs": [
    {
     "data": {
      "text/plain": [
       "array([0.42735043, 0.47863248, 0.4612069 ])"
      ]
     },
     "execution_count": 43,
     "metadata": {},
     "output_type": "execute_result"
    }
   ],
   "source": [
    "from sklearn.model_selection import cross_val_score\n",
    "cross_val_score(sgd_clf, X_train, Y_train, cv = 3, scoring = \"accuracy\")"
   ]
  },
  {
   "cell_type": "code",
   "execution_count": 44,
   "metadata": {},
   "outputs": [
    {
     "data": {
      "text/plain": [
       "<bound method BaseEstimator.get_params of SGDClassifier(alpha=0.0001, average=False, class_weight=None,\n",
       "              early_stopping=False, epsilon=0.1, eta0=0.0, fit_intercept=True,\n",
       "              l1_ratio=0.15, learning_rate='optimal', loss='hinge',\n",
       "              max_iter=1000, n_iter_no_change=5, n_jobs=None, penalty='l2',\n",
       "              power_t=0.5, random_state=42, shuffle=True, tol=0.001,\n",
       "              validation_fraction=0.1, verbose=0, warm_start=False)>"
      ]
     },
     "execution_count": 44,
     "metadata": {},
     "output_type": "execute_result"
    }
   ],
   "source": [
    "sgd_clf.get_params"
   ]
  },
  {
   "cell_type": "code",
   "execution_count": 45,
   "metadata": {},
   "outputs": [
    {
     "data": {
      "text/plain": [
       "array([1, 2, 3, 4, 5], dtype=int64)"
      ]
     },
     "execution_count": 45,
     "metadata": {},
     "output_type": "execute_result"
    }
   ],
   "source": [
    "sgd_clf.classes_"
   ]
  },
  {
   "cell_type": "code",
   "execution_count": 55,
   "metadata": {},
   "outputs": [
    {
     "name": "stdout",
     "output_type": "stream",
     "text": [
      "cool: 0\n",
      "funny: 0\n",
      "useful: 0\n"
     ]
    }
   ],
   "source": [
    "#Verify that most common value is 0\n",
    "print('cool: ' + str(tags['cool'].value_counts().idxmax()) + \n",
    "      '\\nfunny: ' + str(tags['funny'].value_counts().idxmax()) + \n",
    "      '\\nuseful: ' + str(tags['useful'].value_counts().idxmax()))"
   ]
  },
  {
   "cell_type": "code",
   "execution_count": 54,
   "metadata": {},
   "outputs": [
    {
     "name": "stdout",
     "output_type": "stream",
     "text": [
      "cool: 0.629\n",
      "funny: 0.496\n",
      "useful: 1.378\n"
     ]
    }
   ],
   "source": [
    "print('cool: ' + str(tags['cool'].mean()) + \n",
    "      '\\nfunny: ' + str(tags['funny'].mean()) + \n",
    "      '\\nuseful: ' + str(tags['useful'].mean()))"
   ]
  },
  {
   "cell_type": "code",
   "execution_count": 56,
   "metadata": {},
   "outputs": [
    {
     "name": "stdout",
     "output_type": "stream",
     "text": [
      "cool: 5.349359000000027\n",
      "funny: 3.9319840000000323\n",
      "useful: 11.08911600000007\n"
     ]
    }
   ],
   "source": [
    "#are means equal to variances? if so, POISSON REGRESSION\n",
    "print('cool: ' + str(np.var(tags['cool'])) + \n",
    "      '\\nfunny: ' + str(np.var(tags['funny'])) + \n",
    "      '\\nuseful: ' + str(np.var(tags['useful'])))"
   ]
  },
  {
   "cell_type": "code",
   "execution_count": 64,
   "metadata": {
    "scrolled": true
   },
   "outputs": [
    {
     "name": "stderr",
     "output_type": "stream",
     "text": [
      "C:\\Users\\kevin\\Anaconda3\\lib\\site-packages\\ipykernel_launcher.py:12: SettingWithCopyWarning: \n",
      "A value is trying to be set on a copy of a slice from a DataFrame.\n",
      "Try using .loc[row_indexer,col_indexer] = value instead\n",
      "\n",
      "See the caveats in the documentation: http://pandas.pydata.org/pandas-docs/stable/user_guide/indexing.html#returning-a-view-versus-a-copy\n",
      "  if sys.path[0] == '':\n"
     ]
    },
    {
     "ename": "KeyError",
     "evalue": "'subject'",
     "output_type": "error",
     "traceback": [
      "\u001b[1;31m---------------------------------------------------------------------------\u001b[0m",
      "\u001b[1;31mKeyError\u001b[0m                                  Traceback (most recent call last)",
      "\u001b[1;32m~\\Anaconda3\\lib\\site-packages\\pandas\\core\\indexes\\base.py\u001b[0m in \u001b[0;36mget_loc\u001b[1;34m(self, key, method, tolerance)\u001b[0m\n\u001b[0;32m   2896\u001b[0m             \u001b[1;32mtry\u001b[0m\u001b[1;33m:\u001b[0m\u001b[1;33m\u001b[0m\u001b[1;33m\u001b[0m\u001b[0m\n\u001b[1;32m-> 2897\u001b[1;33m                 \u001b[1;32mreturn\u001b[0m \u001b[0mself\u001b[0m\u001b[1;33m.\u001b[0m\u001b[0m_engine\u001b[0m\u001b[1;33m.\u001b[0m\u001b[0mget_loc\u001b[0m\u001b[1;33m(\u001b[0m\u001b[0mkey\u001b[0m\u001b[1;33m)\u001b[0m\u001b[1;33m\u001b[0m\u001b[1;33m\u001b[0m\u001b[0m\n\u001b[0m\u001b[0;32m   2898\u001b[0m             \u001b[1;32mexcept\u001b[0m \u001b[0mKeyError\u001b[0m\u001b[1;33m:\u001b[0m\u001b[1;33m\u001b[0m\u001b[1;33m\u001b[0m\u001b[0m\n",
      "\u001b[1;32mpandas\\_libs\\index.pyx\u001b[0m in \u001b[0;36mpandas._libs.index.IndexEngine.get_loc\u001b[1;34m()\u001b[0m\n",
      "\u001b[1;32mpandas\\_libs\\index.pyx\u001b[0m in \u001b[0;36mpandas._libs.index.IndexEngine.get_loc\u001b[1;34m()\u001b[0m\n",
      "\u001b[1;32mpandas\\_libs\\hashtable_class_helper.pxi\u001b[0m in \u001b[0;36mpandas._libs.hashtable.PyObjectHashTable.get_item\u001b[1;34m()\u001b[0m\n",
      "\u001b[1;32mpandas\\_libs\\hashtable_class_helper.pxi\u001b[0m in \u001b[0;36mpandas._libs.hashtable.PyObjectHashTable.get_item\u001b[1;34m()\u001b[0m\n",
      "\u001b[1;31mKeyError\u001b[0m: 'subject'",
      "\nDuring handling of the above exception, another exception occurred:\n",
      "\u001b[1;31mKeyError\u001b[0m                                  Traceback (most recent call last)",
      "\u001b[1;32m<ipython-input-64-910137d5ddfe>\u001b[0m in \u001b[0;36m<module>\u001b[1;34m\u001b[0m\n\u001b[0;32m     15\u001b[0m \u001b[0mind\u001b[0m \u001b[1;33m=\u001b[0m \u001b[0mIndependence\u001b[0m\u001b[1;33m(\u001b[0m\u001b[1;33m)\u001b[0m\u001b[1;33m\u001b[0m\u001b[1;33m\u001b[0m\u001b[0m\n\u001b[0;32m     16\u001b[0m funny_model = smf.gee(\"funny ~ fear_normalized + happy_normalized + sad_normalized + anger_normalized +\\\n\u001b[1;32m---> 17\u001b[1;33m                             neutral_normalized + surprise_normalized + disgust_normalized\",'subject', data= input_df, cov_struct=ind, family=fam)\n\u001b[0m\u001b[0;32m     18\u001b[0m \u001b[0mfunny_result\u001b[0m \u001b[1;33m=\u001b[0m \u001b[0mfunny_model\u001b[0m\u001b[1;33m.\u001b[0m\u001b[0mfit\u001b[0m\u001b[1;33m(\u001b[0m\u001b[1;33m)\u001b[0m\u001b[1;33m\u001b[0m\u001b[1;33m\u001b[0m\u001b[0m\n\u001b[0;32m     19\u001b[0m \u001b[0mprint\u001b[0m\u001b[1;33m(\u001b[0m\u001b[0mfunny_result\u001b[0m\u001b[1;33m.\u001b[0m\u001b[0msummary\u001b[0m\u001b[1;33m(\u001b[0m\u001b[1;33m)\u001b[0m\u001b[1;33m)\u001b[0m\u001b[1;33m\u001b[0m\u001b[1;33m\u001b[0m\u001b[0m\n",
      "\u001b[1;32m~\\Anaconda3\\lib\\site-packages\\statsmodels\\genmod\\generalized_estimating_equations.py\u001b[0m in \u001b[0;36mfrom_formula\u001b[1;34m(cls, formula, groups, data, subset, time, offset, exposure, *args, **kwargs)\u001b[0m\n\u001b[0;32m    720\u001b[0m         \u001b[1;32mif\u001b[0m \u001b[0misinstance\u001b[0m\u001b[1;33m(\u001b[0m\u001b[0mgroups\u001b[0m\u001b[1;33m,\u001b[0m \u001b[0mstr\u001b[0m\u001b[1;33m)\u001b[0m\u001b[1;33m:\u001b[0m\u001b[1;33m\u001b[0m\u001b[1;33m\u001b[0m\u001b[0m\n\u001b[0;32m    721\u001b[0m             \u001b[0mgroups_name\u001b[0m \u001b[1;33m=\u001b[0m \u001b[0mgroups\u001b[0m\u001b[1;33m\u001b[0m\u001b[1;33m\u001b[0m\u001b[0m\n\u001b[1;32m--> 722\u001b[1;33m             \u001b[0mgroups\u001b[0m \u001b[1;33m=\u001b[0m \u001b[0mdata\u001b[0m\u001b[1;33m[\u001b[0m\u001b[0mgroups\u001b[0m\u001b[1;33m]\u001b[0m\u001b[1;33m\u001b[0m\u001b[1;33m\u001b[0m\u001b[0m\n\u001b[0m\u001b[0;32m    723\u001b[0m \u001b[1;33m\u001b[0m\u001b[0m\n\u001b[0;32m    724\u001b[0m         \u001b[1;32mif\u001b[0m \u001b[0misinstance\u001b[0m\u001b[1;33m(\u001b[0m\u001b[0mtime\u001b[0m\u001b[1;33m,\u001b[0m \u001b[0mstr\u001b[0m\u001b[1;33m)\u001b[0m\u001b[1;33m:\u001b[0m\u001b[1;33m\u001b[0m\u001b[1;33m\u001b[0m\u001b[0m\n",
      "\u001b[1;32m~\\Anaconda3\\lib\\site-packages\\pandas\\core\\frame.py\u001b[0m in \u001b[0;36m__getitem__\u001b[1;34m(self, key)\u001b[0m\n\u001b[0;32m   2978\u001b[0m             \u001b[1;32mif\u001b[0m \u001b[0mself\u001b[0m\u001b[1;33m.\u001b[0m\u001b[0mcolumns\u001b[0m\u001b[1;33m.\u001b[0m\u001b[0mnlevels\u001b[0m \u001b[1;33m>\u001b[0m \u001b[1;36m1\u001b[0m\u001b[1;33m:\u001b[0m\u001b[1;33m\u001b[0m\u001b[1;33m\u001b[0m\u001b[0m\n\u001b[0;32m   2979\u001b[0m                 \u001b[1;32mreturn\u001b[0m \u001b[0mself\u001b[0m\u001b[1;33m.\u001b[0m\u001b[0m_getitem_multilevel\u001b[0m\u001b[1;33m(\u001b[0m\u001b[0mkey\u001b[0m\u001b[1;33m)\u001b[0m\u001b[1;33m\u001b[0m\u001b[1;33m\u001b[0m\u001b[0m\n\u001b[1;32m-> 2980\u001b[1;33m             \u001b[0mindexer\u001b[0m \u001b[1;33m=\u001b[0m \u001b[0mself\u001b[0m\u001b[1;33m.\u001b[0m\u001b[0mcolumns\u001b[0m\u001b[1;33m.\u001b[0m\u001b[0mget_loc\u001b[0m\u001b[1;33m(\u001b[0m\u001b[0mkey\u001b[0m\u001b[1;33m)\u001b[0m\u001b[1;33m\u001b[0m\u001b[1;33m\u001b[0m\u001b[0m\n\u001b[0m\u001b[0;32m   2981\u001b[0m             \u001b[1;32mif\u001b[0m \u001b[0mis_integer\u001b[0m\u001b[1;33m(\u001b[0m\u001b[0mindexer\u001b[0m\u001b[1;33m)\u001b[0m\u001b[1;33m:\u001b[0m\u001b[1;33m\u001b[0m\u001b[1;33m\u001b[0m\u001b[0m\n\u001b[0;32m   2982\u001b[0m                 \u001b[0mindexer\u001b[0m \u001b[1;33m=\u001b[0m \u001b[1;33m[\u001b[0m\u001b[0mindexer\u001b[0m\u001b[1;33m]\u001b[0m\u001b[1;33m\u001b[0m\u001b[1;33m\u001b[0m\u001b[0m\n",
      "\u001b[1;32m~\\Anaconda3\\lib\\site-packages\\pandas\\core\\indexes\\base.py\u001b[0m in \u001b[0;36mget_loc\u001b[1;34m(self, key, method, tolerance)\u001b[0m\n\u001b[0;32m   2897\u001b[0m                 \u001b[1;32mreturn\u001b[0m \u001b[0mself\u001b[0m\u001b[1;33m.\u001b[0m\u001b[0m_engine\u001b[0m\u001b[1;33m.\u001b[0m\u001b[0mget_loc\u001b[0m\u001b[1;33m(\u001b[0m\u001b[0mkey\u001b[0m\u001b[1;33m)\u001b[0m\u001b[1;33m\u001b[0m\u001b[1;33m\u001b[0m\u001b[0m\n\u001b[0;32m   2898\u001b[0m             \u001b[1;32mexcept\u001b[0m \u001b[0mKeyError\u001b[0m\u001b[1;33m:\u001b[0m\u001b[1;33m\u001b[0m\u001b[1;33m\u001b[0m\u001b[0m\n\u001b[1;32m-> 2899\u001b[1;33m                 \u001b[1;32mreturn\u001b[0m \u001b[0mself\u001b[0m\u001b[1;33m.\u001b[0m\u001b[0m_engine\u001b[0m\u001b[1;33m.\u001b[0m\u001b[0mget_loc\u001b[0m\u001b[1;33m(\u001b[0m\u001b[0mself\u001b[0m\u001b[1;33m.\u001b[0m\u001b[0m_maybe_cast_indexer\u001b[0m\u001b[1;33m(\u001b[0m\u001b[0mkey\u001b[0m\u001b[1;33m)\u001b[0m\u001b[1;33m)\u001b[0m\u001b[1;33m\u001b[0m\u001b[1;33m\u001b[0m\u001b[0m\n\u001b[0m\u001b[0;32m   2900\u001b[0m         \u001b[0mindexer\u001b[0m \u001b[1;33m=\u001b[0m \u001b[0mself\u001b[0m\u001b[1;33m.\u001b[0m\u001b[0mget_indexer\u001b[0m\u001b[1;33m(\u001b[0m\u001b[1;33m[\u001b[0m\u001b[0mkey\u001b[0m\u001b[1;33m]\u001b[0m\u001b[1;33m,\u001b[0m \u001b[0mmethod\u001b[0m\u001b[1;33m=\u001b[0m\u001b[0mmethod\u001b[0m\u001b[1;33m,\u001b[0m \u001b[0mtolerance\u001b[0m\u001b[1;33m=\u001b[0m\u001b[0mtolerance\u001b[0m\u001b[1;33m)\u001b[0m\u001b[1;33m\u001b[0m\u001b[1;33m\u001b[0m\u001b[0m\n\u001b[0;32m   2901\u001b[0m         \u001b[1;32mif\u001b[0m \u001b[0mindexer\u001b[0m\u001b[1;33m.\u001b[0m\u001b[0mndim\u001b[0m \u001b[1;33m>\u001b[0m \u001b[1;36m1\u001b[0m \u001b[1;32mor\u001b[0m \u001b[0mindexer\u001b[0m\u001b[1;33m.\u001b[0m\u001b[0msize\u001b[0m \u001b[1;33m>\u001b[0m \u001b[1;36m1\u001b[0m\u001b[1;33m:\u001b[0m\u001b[1;33m\u001b[0m\u001b[1;33m\u001b[0m\u001b[0m\n",
      "\u001b[1;32mpandas\\_libs\\index.pyx\u001b[0m in \u001b[0;36mpandas._libs.index.IndexEngine.get_loc\u001b[1;34m()\u001b[0m\n",
      "\u001b[1;32mpandas\\_libs\\index.pyx\u001b[0m in \u001b[0;36mpandas._libs.index.IndexEngine.get_loc\u001b[1;34m()\u001b[0m\n",
      "\u001b[1;32mpandas\\_libs\\hashtable_class_helper.pxi\u001b[0m in \u001b[0;36mpandas._libs.hashtable.PyObjectHashTable.get_item\u001b[1;34m()\u001b[0m\n",
      "\u001b[1;32mpandas\\_libs\\hashtable_class_helper.pxi\u001b[0m in \u001b[0;36mpandas._libs.hashtable.PyObjectHashTable.get_item\u001b[1;34m()\u001b[0m\n",
      "\u001b[1;31mKeyError\u001b[0m: 'subject'"
     ]
    }
   ],
   "source": [
    "#screw it, trying POISSON anyway because I'm curious ERROR THAT I CAN'T FIGURE OUT\n",
    "from statsmodels.genmod.generalized_estimating_equations import GEE\n",
    "from statsmodels.genmod.cov_struct import (Exchangeable,\n",
    "    Independence,Autoregressive)\n",
    "from statsmodels.genmod.families import Poisson\n",
    "\n",
    "import statsmodels.api as sm\n",
    "import statsmodels.formula.api as smf\n",
    "\n",
    "input_df = X_train_funny\n",
    "input_df['funny']=funny_train\n",
    "\n",
    "fam = Poisson()\n",
    "ind = Independence()\n",
    "funny_model = smf.gee(\"funny ~ fear_normalized + happy_normalized + sad_normalized + anger_normalized +\\\n",
    "                            neutral_normalized + surprise_normalized + disgust_normalized\",'subject', data= input_df, cov_struct=ind, family=fam)\n",
    "funny_result = funny_model.fit()\n",
    "print(funny_result.summary())"
   ]
  },
  {
   "cell_type": "code",
   "execution_count": 67,
   "metadata": {},
   "outputs": [
    {
     "name": "stderr",
     "output_type": "stream",
     "text": [
      "C:\\Users\\kevin\\Anaconda3\\lib\\site-packages\\sklearn\\discriminant_analysis.py:388: UserWarning: Variables are collinear.\n",
      "  warnings.warn(\"Variables are collinear.\")\n"
     ]
    },
    {
     "data": {
      "text/plain": [
       "array([ 0,  0,  0,  0,  0,  0,  0,  0,  0,  0,  0,  0,  0,  0,  0,  0,  0,\n",
       "        0,  0,  0,  0,  0,  0,  0,  0,  0,  0,  0,  0,  0,  0,  0,  0,  0,\n",
       "        0,  0,  0,  0,  0,  0,  0,  0,  0,  0,  0,  0,  0,  0,  0,  0,  0,\n",
       "        0,  0,  0,  0,  0,  0,  0,  0,  0,  0,  0,  0,  0,  0,  0,  0,  0,\n",
       "        0,  0,  8,  0,  0,  0,  0,  0,  0,  0,  0,  0,  0,  0,  0,  0,  0,\n",
       "        7,  0,  0,  0,  0,  0,  0,  0,  0,  0,  0,  0,  0,  0,  0,  0,  0,\n",
       "        0,  0,  0,  0,  0,  0,  0,  0,  0,  0,  0,  0,  0,  0,  0,  0,  0,\n",
       "        0,  0,  0,  0,  0,  0,  0,  0,  0,  0,  0,  0,  0,  0,  0,  0,  0,\n",
       "        0,  0,  0,  0,  0,  0,  0,  0,  0,  0,  0,  0,  0,  0,  0,  0,  0,\n",
       "        0,  0,  0,  0,  0,  0,  0,  0,  0,  0,  0,  0,  0,  0,  0,  0,  0,\n",
       "        0,  0,  0,  0,  0,  0,  0,  0,  8,  0,  0,  0,  0,  0,  0,  0,  0,\n",
       "        0,  0,  0,  0,  0,  0,  0,  0,  0,  0,  0,  0,  0,  0,  0,  0,  0,\n",
       "        0,  0,  0,  0,  0,  0,  0,  0,  0,  0,  0,  0,  0,  0,  0,  0,  0,\n",
       "        0,  0, 10,  0,  0,  0,  0,  0,  0,  0,  0,  0,  0,  0,  0,  0,  0,\n",
       "        0,  0,  0,  0,  0,  0,  0,  0,  0,  0,  0,  0,  0,  0,  0,  0,  0,\n",
       "        0,  0,  0,  0,  0,  0,  0,  0,  0,  0,  0,  0,  0,  0,  0,  0,  0,\n",
       "        0,  0,  0,  0,  0,  0,  0,  0,  0,  0,  0,  0,  0,  0,  0,  0,  0,\n",
       "        0,  0,  0,  0,  0,  0,  0,  0,  0,  0,  0,  0,  0,  0,  0,  0,  0,\n",
       "       10,  0,  0,  0,  0,  0,  0,  0,  0,  0,  0,  0,  0,  0,  0,  0,  0,\n",
       "        0,  0,  0,  0,  0,  0,  0,  0,  0,  0,  0,  0,  0,  0,  0,  0,  0,\n",
       "        0,  0,  0,  0,  0,  0,  0,  0,  0,  0,  0,  0,  0,  0,  0,  0,  0,\n",
       "        0,  0,  0,  0,  0,  0,  0,  0,  0,  0,  0,  0,  0,  0,  8,  0,  0,\n",
       "        0,  0,  0,  0,  0,  0,  0,  0,  0,  0,  0,  0,  0,  0,  0,  0,  0,\n",
       "        0,  0,  0,  0,  0,  0,  0,  0,  0,  0,  0,  0,  0,  0,  0,  0,  0,\n",
       "        0,  0,  0,  0,  0,  0,  0,  0,  0,  0,  0,  0,  0,  0,  0,  0,  0,\n",
       "        0,  0,  0,  0,  0,  0,  0,  0,  0,  0,  0,  0,  0,  0,  0,  0,  0,\n",
       "        0,  0,  0,  0,  0,  0,  0,  0,  0,  0,  0,  0,  0,  0,  0,  0,  0,\n",
       "        0,  0,  0,  0,  0,  0,  0,  0,  0,  0,  0,  0,  0,  0,  0,  0,  0,\n",
       "        0,  0,  0,  0,  0,  0,  0,  0,  0,  0,  0,  0,  0,  0,  0,  0,  0,\n",
       "        0,  0,  0,  0,  0,  0,  0,  0,  0,  0,  0,  0,  0,  0,  0,  0,  0,\n",
       "        0,  0,  0,  0,  0,  0,  0, 10,  0,  0,  0,  0,  0,  0,  0,  0,  0,\n",
       "        0,  0,  0,  0,  0,  0,  0,  0,  0,  0,  0,  0,  0,  0,  0,  0,  0,\n",
       "        0,  0,  0,  0,  0,  0,  0,  0,  0,  0,  0,  0,  0,  0,  0,  0,  0,\n",
       "        0,  0,  0,  0,  0,  0,  0,  0,  0,  0,  0,  0,  0,  0,  0,  0,  0,\n",
       "        0,  0,  0,  0,  0,  0,  0,  0,  0,  0,  0,  0,  0,  0,  0,  0,  0,\n",
       "        0,  0,  0,  0,  0,  0,  0,  0,  0,  0,  0,  0,  0,  0,  0,  0,  0,\n",
       "        0,  0,  0,  0,  0,  0,  0,  0,  0,  0,  0,  0,  0,  0,  0,  0,  0,\n",
       "        0,  0,  0,  0,  0,  0,  0,  0,  0,  0,  0,  0,  0,  0,  0,  0,  0,\n",
       "        0,  0,  0,  0,  0,  0,  0,  0,  0,  0,  0,  0,  0,  0,  0,  0,  0,\n",
       "        0,  0,  0,  0,  0,  0,  0,  0,  0,  0,  0,  0,  0,  0,  0,  0,  0,\n",
       "        0,  0,  0,  0,  0,  0,  0,  0,  0,  0,  0,  0,  0,  0,  0,  0,  0,\n",
       "        0,  0,  0], dtype=int64)"
      ]
     },
     "execution_count": 67,
     "metadata": {},
     "output_type": "execute_result"
    }
   ],
   "source": [
    "#LDA on funny\n",
    "X_train_funny, X_test_funny, funny_train, funny_test = train_test_split(X,tags['funny'],test_size = 0.30, random_state=11)\n",
    "\n",
    "lda_funny = LinearDiscriminantAnalysis()\n",
    "lda_funny.fit(X_train_funny, funny_train)\n",
    "lda_funny.predict(X_train_funny)"
   ]
  },
  {
   "cell_type": "code",
   "execution_count": 68,
   "metadata": {
    "scrolled": true
   },
   "outputs": [
    {
     "data": {
      "text/plain": [
       "array([ 0,  0,  0,  0,  1,  0,  0,  0,  1,  1,  1,  3,  1,  6,  0,  0,  0,\n",
       "       24,  0,  0,  0,  0,  1,  0,  1,  0,  2,  0,  0,  0,  0,  0,  1,  0,\n",
       "        0,  2,  0,  0,  0,  0,  0,  0,  0,  1,  0,  0,  0,  0,  0,  0,  0,\n",
       "        0,  1,  0,  0,  0,  0,  0,  0,  0,  0,  0,  0,  0,  0,  0,  0,  0,\n",
       "        0,  1,  0,  1,  0,  0,  0,  0,  0,  0,  0,  0,  0,  0,  0,  0,  0,\n",
       "        0,  0,  0,  0,  0,  0,  0,  0,  0,  0,  0,  0,  0,  0,  0,  0,  0,\n",
       "        0,  0,  1,  0,  0,  1, 10,  0,  0,  0,  0,  0,  0,  0,  0,  2,  0,\n",
       "        0,  0,  0,  1,  0,  2,  0,  0,  0,  0,  0,  0,  0,  0,  0,  0,  0,\n",
       "        0,  0,  1,  0,  0,  0,  1,  0,  0,  0,  0,  0,  0,  0,  0,  2,  0,\n",
       "        0,  0,  0,  0,  1,  0,  0,  0,  0,  2,  0,  0,  0,  1,  0,  0,  0,\n",
       "        0,  0,  0,  0,  0,  0,  0,  0,  0,  0,  0,  0,  0,  0,  0,  0,  2,\n",
       "        4,  1,  0,  1,  0,  0,  0,  0,  0,  1,  0,  2,  0,  0,  0,  0,  0,\n",
       "        0,  0,  0,  3,  0,  0,  2,  0,  0,  3,  0,  0,  0,  0,  0,  0,  0,\n",
       "        0,  1,  0,  0,  0,  0,  1,  0,  0,  0,  0,  0,  0,  3,  0,  0,  0,\n",
       "        0, 23,  0,  3,  1,  0,  0,  0,  2,  0,  0,  0,  0,  0,  0,  0,  0,\n",
       "        1,  0,  0,  0,  0,  0,  0,  0,  1,  2,  0,  0,  0,  0,  0,  0,  0,\n",
       "        0,  1,  0,  0,  0,  0,  0,  0,  0,  0,  0,  0,  0,  1,  8,  0,  0,\n",
       "        0,  1,  0,  0,  0,  0,  0,  0,  0,  0,  0,  3,  0,  0,  0,  0,  0,\n",
       "        0,  0, 19,  0,  0,  0,  0,  3,  1,  0,  1,  0,  0,  2,  0,  0,  0,\n",
       "        0,  0,  2,  0,  0,  0,  0,  2,  1,  0,  1,  0,  0,  0,  1,  0,  0,\n",
       "        0,  0,  0,  0,  0,  0,  4,  0,  0,  0,  0,  0,  0,  0,  0,  0,  0,\n",
       "        0,  1,  0,  0,  0,  0,  0,  0,  0,  1,  0,  0,  0,  0,  0,  0,  0,\n",
       "        0,  2,  0,  0,  0,  1,  0,  1,  0,  0,  0,  0,  0,  0,  0,  0,  0,\n",
       "        1,  0,  0,  0,  0,  1,  0,  0,  0,  0,  0,  0,  0,  0,  0,  0,  1,\n",
       "        0,  0,  0,  0,  1,  0,  2,  0,  0,  0,  6,  2,  0,  0,  0,  0,  1,\n",
       "        0,  0,  0,  0,  0,  0,  0,  0,  0,  0,  0,  1,  0,  2,  0,  0,  0,\n",
       "        0,  0,  0,  6,  0,  0,  1,  0, 24,  0,  0,  0,  0,  0,  0,  0,  0,\n",
       "        0,  1,  0,  0,  0,  1,  0,  0,  1,  3,  0,  1,  0,  0,  0,  0,  1,\n",
       "        1,  1,  0,  0,  0,  0,  0,  0,  0,  0,  1,  0,  0,  0,  0,  0,  0,\n",
       "        0,  0,  0,  0,  1,  5,  0,  0,  0,  0,  0,  1,  0,  0,  0,  3,  0,\n",
       "        0,  0,  0,  0,  0,  0,  0,  0,  2,  0,  0,  0,  0,  0,  0,  1,  0,\n",
       "        0,  0,  0,  0,  0,  0,  0,  0,  3,  0,  0,  0,  1,  0,  0,  0,  0,\n",
       "        0,  1,  0,  0,  0,  0,  0,  0,  0,  0,  0,  0,  0,  0,  0,  0,  0,\n",
       "        0,  0,  0,  0,  2,  0,  0,  0,  1,  1,  0,  0,  0,  0,  0,  0,  0,\n",
       "        1,  0,  0, 14,  0,  0,  0,  0,  0,  0,  0,  0,  0,  0,  0,  0,  1,\n",
       "        0,  0,  0,  0,  0,  2,  0,  1,  0,  0,  0,  1,  0,  0,  0,  0,  0,\n",
       "        0,  0,  0,  0,  0,  0,  0,  1,  1,  1,  0,  0,  0,  0,  1,  1,  0,\n",
       "        0,  0,  1,  3,  0,  0,  0,  0,  7,  0,  0,  0,  0,  0,  0,  0,  0,\n",
       "        2,  0,  4,  0,  0,  1,  0,  0,  0,  0,  0,  5,  4,  0,  0,  1,  1,\n",
       "        3,  0,  0,  1,  0,  0,  0,  0,  4,  0,  0,  0,  0,  0,  1,  0,  0,\n",
       "        1,  0,  0,  3,  0,  4,  0,  1,  0,  0,  0,  0,  0,  1,  0,  0,  0,\n",
       "        0,  0,  2], dtype=int64)"
      ]
     },
     "execution_count": 68,
     "metadata": {},
     "output_type": "execute_result"
    }
   ],
   "source": [
    "funny_train.ravel()"
   ]
  },
  {
   "cell_type": "code",
   "execution_count": 69,
   "metadata": {},
   "outputs": [
    {
     "name": "stderr",
     "output_type": "stream",
     "text": [
      "C:\\Users\\kevin\\Anaconda3\\lib\\site-packages\\sklearn\\model_selection\\_split.py:657: Warning: The least populated class in y has only 1 members, which is too few. The minimum number of members in any class cannot be less than n_splits=3.\n",
      "  % (min_groups, self.n_splits)), Warning)\n",
      "C:\\Users\\kevin\\Anaconda3\\lib\\site-packages\\sklearn\\discriminant_analysis.py:388: UserWarning: Variables are collinear.\n",
      "  warnings.warn(\"Variables are collinear.\")\n",
      "C:\\Users\\kevin\\Anaconda3\\lib\\site-packages\\sklearn\\discriminant_analysis.py:388: UserWarning: Variables are collinear.\n",
      "  warnings.warn(\"Variables are collinear.\")\n",
      "C:\\Users\\kevin\\Anaconda3\\lib\\site-packages\\sklearn\\discriminant_analysis.py:388: UserWarning: Variables are collinear.\n",
      "  warnings.warn(\"Variables are collinear.\")\n"
     ]
    },
    {
     "data": {
      "text/plain": [
       "array([0.775     , 0.80172414, 0.81578947])"
      ]
     },
     "execution_count": 69,
     "metadata": {},
     "output_type": "execute_result"
    }
   ],
   "source": [
    "cross_val_score(lda_funny, X_train_funny, funny_train, cv = 3, scoring = \"accuracy\")"
   ]
  },
  {
   "cell_type": "code",
   "execution_count": 13,
   "metadata": {},
   "outputs": [
    {
     "data": {
      "text/plain": [
       "[Text(0.5, 0, 'fear_normalized'),\n",
       " Text(1.5, 0, 'happy_normalized'),\n",
       " Text(2.5, 0, 'sad_normalized'),\n",
       " Text(3.5, 0, 'anger_normalized'),\n",
       " Text(4.5, 0, 'neutral_normalized'),\n",
       " Text(5.5, 0, 'surprise_normalized'),\n",
       " Text(6.5, 0, 'disgust_normalized')]"
      ]
     },
     "execution_count": 13,
     "metadata": {},
     "output_type": "execute_result"
    }
   ],
   "source": [
    "import seaborn as sns\n",
    "corr = X.corr()\n",
    "ax = sns.heatmap(\n",
    "    corr, \n",
    "    vmin=-1, vmax=1, center=0,\n",
    "    cmap=sns.diverging_palette(20, 220, n=200),\n",
    "    square=True\n",
    ")\n",
    "ax.set_xticklabels(\n",
    "    ax.get_xticklabels(),\n",
    "    rotation=45,\n",
    "    horizontalalignment='right'\n",
    ")"
   ]
  },
  {
   "cell_type": "code",
   "execution_count": 14,
   "metadata": {},
   "outputs": [
    {
     "data": {
      "image/png": "[encoded data removed]",
      "text/plain": [
       "<Figure size 1440x1080 with 9 Axes>"
      ]
     },
     "metadata": {
      "needs_background": "light"
     },
     "output_type": "display_data"
    }
   ],
   "source": [
    "import matplotlib.pyplot as plt\n",
    "X.hist(bins = 50, figsize = (20, 15))\n",
    "plt.show()"
   ]
  },
  {
   "cell_type": "code",
   "execution_count": 15,
   "metadata": {},
   "outputs": [
    {
     "data": {
      "image/png": "[encoded data removed]",
      "text/plain": [
       "<Figure size 432x288 with 1 Axes>"
      ]
     },
     "metadata": {
      "needs_background": "light"
     },
     "output_type": "display_data"
    }
   ],
   "source": [
    "plt.scatter(X[\"happy_normalized\"], X[\"surprise_normalized\"])\n",
    "plt.show()"
   ]
  },
  {
   "cell_type": "code",
   "execution_count": 16,
   "metadata": {},
   "outputs": [],
   "source": [
    "from sklearn.ensemble import RandomForestClassifier\n",
    "from sklearn.ensemble import VotingClassifier\n",
    "from sklearn.linear_model import LogisticRegression\n",
    "from sklearn.svm import SVC"
   ]
  },
  {
   "cell_type": "code",
   "execution_count": 17,
   "metadata": {},
   "outputs": [
    {
     "name": "stderr",
     "output_type": "stream",
     "text": [
      "C:\\Users\\kevin\\Anaconda3\\lib\\site-packages\\sklearn\\linear_model\\logistic.py:432: FutureWarning: Default solver will be changed to 'lbfgs' in 0.22. Specify a solver to silence this warning.\n",
      "  FutureWarning)\n",
      "C:\\Users\\kevin\\Anaconda3\\lib\\site-packages\\sklearn\\linear_model\\logistic.py:469: FutureWarning: Default multi_class will be changed to 'auto' in 0.22. Specify the multi_class option to silence this warning.\n",
      "  \"this warning.\", FutureWarning)\n",
      "C:\\Users\\kevin\\Anaconda3\\lib\\site-packages\\sklearn\\ensemble\\forest.py:245: FutureWarning: The default value of n_estimators will change from 10 in version 0.20 to 100 in 0.22.\n",
      "  \"10 in version 0.20 to 100 in 0.22.\", FutureWarning)\n",
      "C:\\Users\\kevin\\Anaconda3\\lib\\site-packages\\sklearn\\svm\\base.py:193: FutureWarning: The default value of gamma will change from 'auto' to 'scale' in version 0.22 to account better for unscaled features. Set gamma explicitly to 'auto' or 'scale' to avoid this warning.\n",
      "  \"avoid this warning.\", FutureWarning)\n",
      "C:\\Users\\kevin\\Anaconda3\\lib\\site-packages\\sklearn\\linear_model\\logistic.py:432: FutureWarning: Default solver will be changed to 'lbfgs' in 0.22. Specify a solver to silence this warning.\n",
      "  FutureWarning)\n",
      "C:\\Users\\kevin\\Anaconda3\\lib\\site-packages\\sklearn\\linear_model\\logistic.py:469: FutureWarning: Default multi_class will be changed to 'auto' in 0.22. Specify the multi_class option to silence this warning.\n",
      "  \"this warning.\", FutureWarning)\n",
      "C:\\Users\\kevin\\Anaconda3\\lib\\site-packages\\sklearn\\ensemble\\forest.py:245: FutureWarning: The default value of n_estimators will change from 10 in version 0.20 to 100 in 0.22.\n",
      "  \"10 in version 0.20 to 100 in 0.22.\", FutureWarning)\n"
     ]
    },
    {
     "name": "stdout",
     "output_type": "stream",
     "text": [
      "LogisticRegression 0.4533333333333333\n",
      "RandomForestClassifier 0.4033333333333333\n",
      "SVC 0.4533333333333333\n"
     ]
    },
    {
     "name": "stderr",
     "output_type": "stream",
     "text": [
      "C:\\Users\\kevin\\Anaconda3\\lib\\site-packages\\sklearn\\svm\\base.py:193: FutureWarning: The default value of gamma will change from 'auto' to 'scale' in version 0.22 to account better for unscaled features. Set gamma explicitly to 'auto' or 'scale' to avoid this warning.\n",
      "  \"avoid this warning.\", FutureWarning)\n",
      "C:\\Users\\kevin\\Anaconda3\\lib\\site-packages\\sklearn\\linear_model\\logistic.py:432: FutureWarning: Default solver will be changed to 'lbfgs' in 0.22. Specify a solver to silence this warning.\n",
      "  FutureWarning)\n",
      "C:\\Users\\kevin\\Anaconda3\\lib\\site-packages\\sklearn\\linear_model\\logistic.py:469: FutureWarning: Default multi_class will be changed to 'auto' in 0.22. Specify the multi_class option to silence this warning.\n",
      "  \"this warning.\", FutureWarning)\n",
      "C:\\Users\\kevin\\Anaconda3\\lib\\site-packages\\sklearn\\svm\\base.py:193: FutureWarning: The default value of gamma will change from 'auto' to 'scale' in version 0.22 to account better for unscaled features. Set gamma explicitly to 'auto' or 'scale' to avoid this warning.\n",
      "  \"avoid this warning.\", FutureWarning)\n"
     ]
    },
    {
     "name": "stdout",
     "output_type": "stream",
     "text": [
      "VotingClassifier 0.46\n"
     ]
    }
   ],
   "source": [
    "log_clf = LogisticRegression()\n",
    "rnd_clf = RandomForestClassifier()\n",
    "svm_clf = SVC(probability=True)\n",
    "\n",
    "voting_clf = VotingClassifier(\n",
    "    estimators = [(\"lr\", log_clf), (\"rf\", rnd_clf), (\"svc\", svm_clf)],\n",
    "    voting = \"soft\")\n",
    "voting_clf.fit(X_train, Y_train)\n",
    "\n",
    "from sklearn.metrics import accuracy_score\n",
    "for clf in (log_clf, rnd_clf, svm_clf, voting_clf):\n",
    "    clf.fit(X_train, Y_train)\n",
    "    y_pred = clf.predict(X_test)\n",
    "    print(clf.__class__.__name__, accuracy_score(Y_test, y_pred))"
   ]
  },
  {
   "cell_type": "code",
   "execution_count": 18,
   "metadata": {},
   "outputs": [
    {
     "name": "stdout",
     "output_type": "stream",
     "text": [
      "LogisticRegression 0.4533333333333333\n",
      "RandomForestClassifier 0.4033333333333333\n",
      "SVC 0.4533333333333333\n",
      "VotingClassifier 0.4533333333333333\n"
     ]
    },
    {
     "name": "stderr",
     "output_type": "stream",
     "text": [
      "C:\\Users\\kevin\\Anaconda3\\lib\\site-packages\\sklearn\\linear_model\\logistic.py:432: FutureWarning: Default solver will be changed to 'lbfgs' in 0.22. Specify a solver to silence this warning.\n",
      "  FutureWarning)\n",
      "C:\\Users\\kevin\\Anaconda3\\lib\\site-packages\\sklearn\\linear_model\\logistic.py:469: FutureWarning: Default multi_class will be changed to 'auto' in 0.22. Specify the multi_class option to silence this warning.\n",
      "  \"this warning.\", FutureWarning)\n",
      "C:\\Users\\kevin\\Anaconda3\\lib\\site-packages\\sklearn\\ensemble\\forest.py:245: FutureWarning: The default value of n_estimators will change from 10 in version 0.20 to 100 in 0.22.\n",
      "  \"10 in version 0.20 to 100 in 0.22.\", FutureWarning)\n",
      "C:\\Users\\kevin\\Anaconda3\\lib\\site-packages\\sklearn\\svm\\base.py:193: FutureWarning: The default value of gamma will change from 'auto' to 'scale' in version 0.22 to account better for unscaled features. Set gamma explicitly to 'auto' or 'scale' to avoid this warning.\n",
      "  \"avoid this warning.\", FutureWarning)\n",
      "C:\\Users\\kevin\\Anaconda3\\lib\\site-packages\\sklearn\\linear_model\\logistic.py:432: FutureWarning: Default solver will be changed to 'lbfgs' in 0.22. Specify a solver to silence this warning.\n",
      "  FutureWarning)\n",
      "C:\\Users\\kevin\\Anaconda3\\lib\\site-packages\\sklearn\\linear_model\\logistic.py:469: FutureWarning: Default multi_class will be changed to 'auto' in 0.22. Specify the multi_class option to silence this warning.\n",
      "  \"this warning.\", FutureWarning)\n",
      "C:\\Users\\kevin\\Anaconda3\\lib\\site-packages\\sklearn\\ensemble\\forest.py:245: FutureWarning: The default value of n_estimators will change from 10 in version 0.20 to 100 in 0.22.\n",
      "  \"10 in version 0.20 to 100 in 0.22.\", FutureWarning)\n",
      "C:\\Users\\kevin\\Anaconda3\\lib\\site-packages\\sklearn\\svm\\base.py:193: FutureWarning: The default value of gamma will change from 'auto' to 'scale' in version 0.22 to account better for unscaled features. Set gamma explicitly to 'auto' or 'scale' to avoid this warning.\n",
      "  \"avoid this warning.\", FutureWarning)\n",
      "C:\\Users\\kevin\\Anaconda3\\lib\\site-packages\\sklearn\\linear_model\\logistic.py:432: FutureWarning: Default solver will be changed to 'lbfgs' in 0.22. Specify a solver to silence this warning.\n",
      "  FutureWarning)\n",
      "C:\\Users\\kevin\\Anaconda3\\lib\\site-packages\\sklearn\\linear_model\\logistic.py:469: FutureWarning: Default multi_class will be changed to 'auto' in 0.22. Specify the multi_class option to silence this warning.\n",
      "  \"this warning.\", FutureWarning)\n",
      "C:\\Users\\kevin\\Anaconda3\\lib\\site-packages\\sklearn\\svm\\base.py:193: FutureWarning: The default value of gamma will change from 'auto' to 'scale' in version 0.22 to account better for unscaled features. Set gamma explicitly to 'auto' or 'scale' to avoid this warning.\n",
      "  \"avoid this warning.\", FutureWarning)\n"
     ]
    }
   ],
   "source": [
    "log_clf = LogisticRegression()\n",
    "rnd_clf = RandomForestClassifier()\n",
    "svm_clf = SVC()\n",
    "\n",
    "voting_clf = VotingClassifier(\n",
    "    estimators = [(\"lr\", log_clf), (\"rf\", rnd_clf), (\"svc\", svm_clf)],\n",
    "    voting = \"hard\")\n",
    "voting_clf.fit(X_train, Y_train)\n",
    "\n",
    "from sklearn.metrics import accuracy_score\n",
    "for clf in (log_clf, rnd_clf, svm_clf, voting_clf):\n",
    "    clf.fit(X_train, Y_train)\n",
    "    y_pred = clf.predict(X_test)\n",
    "    print(clf.__class__.__name__, accuracy_score(Y_test, y_pred))"
   ]
  },
  {
   "cell_type": "code",
   "execution_count": null,
   "metadata": {},
   "outputs": [],
   "source": []
  }
 ],
 "metadata": {
  "kernelspec": {
   "display_name": "Python 3",
   "language": "python",
   "name": "python3"
  },
  "language_info": {
   "codemirror_mode": {
    "name": "ipython",
    "version": 3
   },
   "file_extension": ".py",
   "mimetype": "text/x-python",
   "name": "python",
   "nbconvert_exporter": "python",
   "pygments_lexer": "ipython3",
   "version": "3.7.4"
  }
 },
 "nbformat": 4,
 "nbformat_minor": 2
}
