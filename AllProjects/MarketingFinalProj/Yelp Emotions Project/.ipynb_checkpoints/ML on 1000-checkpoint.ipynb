{
 "cells": [
  {
   "cell_type": "code",
   "execution_count": 1,
   "metadata": {},
   "outputs": [
    {
     "data": {
      "text/html": [
       "<div>\n",
       "<style scoped>\n",
       "    .dataframe tbody tr th:only-of-type {\n",
       "        vertical-align: middle;\n",
       "    }\n",
       "\n",
       "    .dataframe tbody tr th {\n",
       "        vertical-align: top;\n",
       "    }\n",
       "\n",
       "    .dataframe thead th {\n",
       "        text-align: right;\n",
       "    }\n",
       "</style>\n",
       "<table border=\"1\" class=\"dataframe\">\n",
       "  <thead>\n",
       "    <tr style=\"text-align: right;\">\n",
       "      <th></th>\n",
       "      <th>Index</th>\n",
       "      <th>business_id</th>\n",
       "      <th>cool</th>\n",
       "      <th>date</th>\n",
       "      <th>funny</th>\n",
       "      <th>review_id</th>\n",
       "      <th>stars</th>\n",
       "      <th>useful</th>\n",
       "      <th>user_id</th>\n",
       "      <th>fear_score</th>\n",
       "      <th>...</th>\n",
       "      <th>disgust_score</th>\n",
       "      <th>fear_normalized</th>\n",
       "      <th>happy_normalized</th>\n",
       "      <th>sad_normalized</th>\n",
       "      <th>anger_normalized</th>\n",
       "      <th>neutral_normalized</th>\n",
       "      <th>surprise_normalized</th>\n",
       "      <th>disgust_normalized</th>\n",
       "      <th>text</th>\n",
       "      <th>review_length</th>\n",
       "    </tr>\n",
       "  </thead>\n",
       "  <tbody>\n",
       "    <tr>\n",
       "      <th>0</th>\n",
       "      <td>84442</td>\n",
       "      <td>XH2TZmZt6gzHHpjqk8C6pg</td>\n",
       "      <td>1</td>\n",
       "      <td>2009-05-26 13:42:02</td>\n",
       "      <td>3</td>\n",
       "      <td>rtQJU6GHxnxsXKBspKzWaA</td>\n",
       "      <td>5</td>\n",
       "      <td>6</td>\n",
       "      <td>lJzgOpVS1pmb2UW7j2GkDg</td>\n",
       "      <td>2.405523</td>\n",
       "      <td>...</td>\n",
       "      <td>1.423982</td>\n",
       "      <td>0.154263</td>\n",
       "      <td>0.194019</td>\n",
       "      <td>0.164339</td>\n",
       "      <td>0.143937</td>\n",
       "      <td>0.064513</td>\n",
       "      <td>0.187610</td>\n",
       "      <td>0.091318</td>\n",
       "      <td>I stand corrected: Zucca is the best authentic...</td>\n",
       "      <td>307</td>\n",
       "    </tr>\n",
       "    <tr>\n",
       "      <th>1</th>\n",
       "      <td>75795</td>\n",
       "      <td>yNVcnSaMSrTmjJBMrHTy9w</td>\n",
       "      <td>2</td>\n",
       "      <td>2012-06-01 18:22:23</td>\n",
       "      <td>1</td>\n",
       "      <td>wU-awV0uGkZdjnIFsgoTQA</td>\n",
       "      <td>4</td>\n",
       "      <td>5</td>\n",
       "      <td>8iqGB11mHwCTLOOHkqnqmQ</td>\n",
       "      <td>0.532827</td>\n",
       "      <td>...</td>\n",
       "      <td>0.138426</td>\n",
       "      <td>0.200740</td>\n",
       "      <td>0.193448</td>\n",
       "      <td>0.136829</td>\n",
       "      <td>0.152236</td>\n",
       "      <td>0.057650</td>\n",
       "      <td>0.206945</td>\n",
       "      <td>0.052151</td>\n",
       "      <td>I loved this place.\\n\\nDark, cozy booths - Che...</td>\n",
       "      <td>88</td>\n",
       "    </tr>\n",
       "    <tr>\n",
       "      <th>2</th>\n",
       "      <td>42057</td>\n",
       "      <td>zk3AimWhuz0EZsNgIddKdg</td>\n",
       "      <td>0</td>\n",
       "      <td>2018-05-19 16:05:50</td>\n",
       "      <td>0</td>\n",
       "      <td>WBE8cGKMIJggpXRA4KTaog</td>\n",
       "      <td>2</td>\n",
       "      <td>0</td>\n",
       "      <td>qFk5mtbEqpRgg2v2HRoryQ</td>\n",
       "      <td>0.365300</td>\n",
       "      <td>...</td>\n",
       "      <td>0.315442</td>\n",
       "      <td>0.132739</td>\n",
       "      <td>0.322269</td>\n",
       "      <td>0.110795</td>\n",
       "      <td>0.165409</td>\n",
       "      <td>0.047569</td>\n",
       "      <td>0.106598</td>\n",
       "      <td>0.114622</td>\n",
       "      <td>I love Einstein's Brothers Bagels and when the...</td>\n",
       "      <td>101</td>\n",
       "    </tr>\n",
       "    <tr>\n",
       "      <th>3</th>\n",
       "      <td>25891</td>\n",
       "      <td>MN0Pd66285k2k9lkpEtptA</td>\n",
       "      <td>0</td>\n",
       "      <td>2017-03-15 20:01:16</td>\n",
       "      <td>0</td>\n",
       "      <td>_NcurWksF9tSwXK9Mq3GIA</td>\n",
       "      <td>1</td>\n",
       "      <td>0</td>\n",
       "      <td>D4xs1lDiug7hU_NfPnJxpQ</td>\n",
       "      <td>1.301386</td>\n",
       "      <td>...</td>\n",
       "      <td>0.515131</td>\n",
       "      <td>0.176703</td>\n",
       "      <td>0.162737</td>\n",
       "      <td>0.137485</td>\n",
       "      <td>0.207375</td>\n",
       "      <td>0.061050</td>\n",
       "      <td>0.184706</td>\n",
       "      <td>0.069945</td>\n",
       "      <td>I went to this location with my husband for a ...</td>\n",
       "      <td>195</td>\n",
       "    </tr>\n",
       "    <tr>\n",
       "      <th>4</th>\n",
       "      <td>51127</td>\n",
       "      <td>N9oZ9GDPf65x6zv7fsKJvA</td>\n",
       "      <td>0</td>\n",
       "      <td>2012-11-07 23:02:55</td>\n",
       "      <td>1</td>\n",
       "      <td>bQ1zd9OOjNwMJexVp2jZSA</td>\n",
       "      <td>3</td>\n",
       "      <td>2</td>\n",
       "      <td>cuVrNmt7_WtBn1uz5L_p0g</td>\n",
       "      <td>0.148931</td>\n",
       "      <td>...</td>\n",
       "      <td>0.080027</td>\n",
       "      <td>0.104764</td>\n",
       "      <td>0.193086</td>\n",
       "      <td>0.117864</td>\n",
       "      <td>0.185288</td>\n",
       "      <td>0.043428</td>\n",
       "      <td>0.299275</td>\n",
       "      <td>0.056294</td>\n",
       "      <td>Just your average TJ. Quaint, local. Lots of f...</td>\n",
       "      <td>27</td>\n",
       "    </tr>\n",
       "  </tbody>\n",
       "</table>\n",
       "<p>5 rows × 25 columns</p>\n",
       "</div>"
      ],
      "text/plain": [
       "   Index             business_id  cool                 date  funny  \\\n",
       "0  84442  XH2TZmZt6gzHHpjqk8C6pg     1  2009-05-26 13:42:02      3   \n",
       "1  75795  yNVcnSaMSrTmjJBMrHTy9w     2  2012-06-01 18:22:23      1   \n",
       "2  42057  zk3AimWhuz0EZsNgIddKdg     0  2018-05-19 16:05:50      0   \n",
       "3  25891  MN0Pd66285k2k9lkpEtptA     0  2017-03-15 20:01:16      0   \n",
       "4  51127  N9oZ9GDPf65x6zv7fsKJvA     0  2012-11-07 23:02:55      1   \n",
       "\n",
       "                review_id  stars  useful                 user_id  fear_score  \\\n",
       "0  rtQJU6GHxnxsXKBspKzWaA      5       6  lJzgOpVS1pmb2UW7j2GkDg    2.405523   \n",
       "1  wU-awV0uGkZdjnIFsgoTQA      4       5  8iqGB11mHwCTLOOHkqnqmQ    0.532827   \n",
       "2  WBE8cGKMIJggpXRA4KTaog      2       0  qFk5mtbEqpRgg2v2HRoryQ    0.365300   \n",
       "3  _NcurWksF9tSwXK9Mq3GIA      1       0  D4xs1lDiug7hU_NfPnJxpQ    1.301386   \n",
       "4  bQ1zd9OOjNwMJexVp2jZSA      3       2  cuVrNmt7_WtBn1uz5L_p0g    0.148931   \n",
       "\n",
       "       ...        disgust_score  fear_normalized  happy_normalized  \\\n",
       "0      ...             1.423982         0.154263          0.194019   \n",
       "1      ...             0.138426         0.200740          0.193448   \n",
       "2      ...             0.315442         0.132739          0.322269   \n",
       "3      ...             0.515131         0.176703          0.162737   \n",
       "4      ...             0.080027         0.104764          0.193086   \n",
       "\n",
       "   sad_normalized  anger_normalized  neutral_normalized  surprise_normalized  \\\n",
       "0        0.164339          0.143937            0.064513             0.187610   \n",
       "1        0.136829          0.152236            0.057650             0.206945   \n",
       "2        0.110795          0.165409            0.047569             0.106598   \n",
       "3        0.137485          0.207375            0.061050             0.184706   \n",
       "4        0.117864          0.185288            0.043428             0.299275   \n",
       "\n",
       "   disgust_normalized                                               text  \\\n",
       "0            0.091318  I stand corrected: Zucca is the best authentic...   \n",
       "1            0.052151  I loved this place.\\n\\nDark, cozy booths - Che...   \n",
       "2            0.114622  I love Einstein's Brothers Bagels and when the...   \n",
       "3            0.069945  I went to this location with my husband for a ...   \n",
       "4            0.056294  Just your average TJ. Quaint, local. Lots of f...   \n",
       "\n",
       "   review_length  \n",
       "0            307  \n",
       "1             88  \n",
       "2            101  \n",
       "3            195  \n",
       "4             27  \n",
       "\n",
       "[5 rows x 25 columns]"
      ]
     },
     "execution_count": 1,
     "metadata": {},
     "output_type": "execute_result"
    }
   ],
   "source": [
    "import pandas as pd\n",
    "from sklearn.model_selection import train_test_split\n",
    "from sklearn import linear_model\n",
    "from sklearn.metrics import mean_absolute_error\n",
    "import numpy as np\n",
    "\n",
    "df = pd.read_csv(\"1000 reviews with normalized scores.csv\")\n",
    "df.head()"
   ]
  },
  {
   "cell_type": "code",
   "execution_count": 2,
   "metadata": {},
   "outputs": [
    {
     "name": "stdout",
     "output_type": "stream",
     "text": [
      "                            OLS Regression Results                            \n",
      "==============================================================================\n",
      "Dep. Variable:                  stars   R-squared:                       0.218\n",
      "Model:                            OLS   Adj. R-squared:                  0.211\n",
      "Method:                 Least Squares   F-statistic:                     32.20\n",
      "Date:                Mon, 04 Nov 2019   Prob (F-statistic):           2.87e-34\n",
      "Time:                        15:05:47   Log-Likelihood:                -1158.9\n",
      "No. Observations:                 700   AIC:                             2332.\n",
      "Df Residuals:                     693   BIC:                             2364.\n",
      "Df Model:                           6                                         \n",
      "Covariance Type:            nonrobust                                         \n",
      "=======================================================================================\n",
      "                          coef    std err          t      P>|t|      [0.025      0.975]\n",
      "---------------------------------------------------------------------------------------\n",
      "fear_normalized         6.0280      1.312      4.595      0.000       3.452       8.604\n",
      "happy_normalized        8.5557      0.612     13.981      0.000       7.354       9.757\n",
      "sad_normalized         -0.0259      1.058     -0.024      0.980      -2.103       2.051\n",
      "anger_normalized       -2.5612      0.998     -2.566      0.011      -4.521      -0.601\n",
      "neutral_normalized     12.0789      2.900      4.165      0.000       6.385      17.773\n",
      "surprise_normalized     6.4975      0.829      7.837      0.000       4.870       8.125\n",
      "disgust_normalized     -4.9653      1.914     -2.594      0.010      -8.724      -1.206\n",
      "==============================================================================\n",
      "Omnibus:                       40.104   Durbin-Watson:                   2.009\n",
      "Prob(Omnibus):                  0.000   Jarque-Bera (JB):               34.806\n",
      "Skew:                          -0.474   Prob(JB):                     2.77e-08\n",
      "Kurtosis:                       2.457   Cond. No.                         25.2\n",
      "==============================================================================\n",
      "\n",
      "Warnings:\n",
      "[1] Standard Errors assume that the covariance matrix of the errors is correctly specified.\n"
     ]
    }
   ],
   "source": [
    "import statsmodels.api as sm\n",
    "from scipy import stats\n",
    "\n",
    "X = pd.DataFrame(df, columns = [\"fear_normalized\", \"happy_normalized\", \"sad_normalized\", \"anger_normalized\",\\\n",
    "                                \"neutral_normalized\", \"surprise_normalized\",\"disgust_normalized\"])\n",
    "Y = df['stars']\n",
    "\n",
    "X_train, X_test, Y_train, Y_test = train_test_split(X,Y,test_size = 0.30, random_state=11)\n",
    "\n",
    "est = sm.OLS(Y_train, X_train)\n",
    "est2 = est.fit()\n",
    "print(est2.summary())"
   ]
  },
  {
   "cell_type": "code",
   "execution_count": 4,
   "metadata": {
    "collapsed": true
   },
   "outputs": [
    {
     "data": {
      "text/plain": [
       "array([2, 5, 2, 2, 2, 2, 2, 2, 2, 2, 2, 2, 5, 2, 2, 2, 2, 2, 2, 2, 5, 2,\n",
       "       2, 2, 5, 2, 5, 2, 2, 2, 2, 2, 2, 2, 2, 2, 2, 2, 2, 2, 2, 2, 2, 2,\n",
       "       2, 2, 2, 2, 2, 2, 2, 2, 5, 2, 2, 2, 2, 2, 2, 2, 5, 2, 2, 5, 2, 2,\n",
       "       2, 2, 2, 2, 5, 2, 2, 2, 2, 2, 2, 2, 2, 2, 2, 2, 2, 2, 5, 2, 2, 5,\n",
       "       2, 5, 2, 2, 2, 2, 2, 2, 5, 2, 4, 2, 2, 2, 5, 2, 2, 2, 5, 2, 2, 2,\n",
       "       2, 2, 2, 2, 5, 2, 2, 2, 2, 2, 2, 2, 2, 5, 2, 2, 2, 2, 2, 2, 2, 2,\n",
       "       5, 2, 2, 2, 2, 2, 2, 2, 2, 2, 2, 2, 2, 2, 2, 2, 2, 2, 2, 2, 2, 5,\n",
       "       2, 2, 2, 2, 2, 2, 2, 2, 2, 2, 2, 2, 2, 2, 2, 2, 2, 2, 2, 2, 2, 2,\n",
       "       2, 2, 2, 2, 2, 5, 2, 2, 2, 2, 2, 2, 2, 2, 2, 2, 2, 2, 2, 2, 2, 2,\n",
       "       2, 2, 2, 2, 5, 2, 2, 2, 2, 2, 2, 2, 2, 2, 2, 2, 2, 4, 2, 2, 2, 2,\n",
       "       2, 5, 2, 5, 5, 2, 2, 2, 2, 2, 2, 5, 5, 2, 2, 5, 2, 2, 2, 2, 2, 2,\n",
       "       2, 2, 2, 2, 2, 2, 2, 2, 2, 2, 2, 2, 2, 2, 2, 2, 2, 2, 2, 2, 2, 2,\n",
       "       2, 2, 2, 2, 2, 2, 2, 2, 2, 2, 2, 2, 2, 5, 2, 2, 2, 2, 2, 5, 2, 2,\n",
       "       2, 2, 2, 2, 2, 2, 2, 2, 2, 2, 2, 5, 2, 2, 2, 2, 2, 2, 5, 2, 2, 2,\n",
       "       2, 2, 2, 2, 2, 2, 2, 2, 2, 2, 2, 2, 5, 2, 2, 2, 2, 2, 2, 2, 2, 2,\n",
       "       2, 2, 2, 2, 2, 2, 2, 2, 2, 2, 5, 5, 2, 2, 2, 2, 2, 2, 2, 2, 2, 2,\n",
       "       2, 2, 2, 2, 2, 2, 2, 5, 2, 2, 2, 2, 2, 2, 2, 2, 2, 2, 5, 5, 2, 2,\n",
       "       2, 2, 2, 2, 2, 2, 2, 2, 2, 2, 5, 2, 2, 2, 2, 2, 2, 2, 2, 2, 2, 2,\n",
       "       2, 2, 2, 2, 2, 2, 2, 2, 2, 2, 2, 2, 2, 5, 2, 2, 5, 2, 2, 2, 2, 5,\n",
       "       2, 2, 2, 2, 2, 2, 2, 2, 2, 2, 2, 2, 5, 2, 2, 2, 2, 2, 2, 2, 2, 5,\n",
       "       2, 2, 2, 2, 2, 2, 2, 2, 2, 2, 2, 2, 2, 2, 2, 2, 2, 2, 2, 2, 2, 2,\n",
       "       2, 2, 2, 2, 2, 2, 2, 2, 5, 2, 2, 2, 2, 5, 2, 2, 2, 2, 2, 2, 2, 2,\n",
       "       2, 2, 2, 2, 2, 2, 2, 2, 2, 2, 2, 2, 2, 2, 2, 2, 2, 2, 5, 5, 2, 2,\n",
       "       2, 2, 2, 2, 2, 2, 2, 2, 2, 2, 5, 2, 2, 2, 2, 2, 2, 2, 5, 2, 2, 2,\n",
       "       2, 2, 2, 2, 2, 2, 2, 2, 5, 2, 2, 2, 2, 2, 2, 2, 2, 2, 2, 2, 2, 2,\n",
       "       5, 5, 2, 5, 5, 2, 2, 2, 5, 2, 2, 2, 2, 5, 2, 2, 2, 2, 2, 2, 5, 2,\n",
       "       5, 2, 2, 2, 5, 2, 2, 2, 2, 2, 5, 2, 2, 2, 2, 2, 2, 2, 5, 2, 2, 5,\n",
       "       2, 2, 2, 2, 2, 2, 2, 2, 2, 2, 2, 2, 2, 2, 2, 2, 2, 5, 2, 2, 2, 2,\n",
       "       2, 2, 5, 2, 2, 2, 2, 4, 2, 5, 2, 2, 2, 2, 2, 2, 2, 5, 2, 2, 2, 2,\n",
       "       2, 2, 2, 2, 2, 2, 2, 2, 2, 2, 2, 2, 2, 2, 2, 5, 2, 2, 2, 2, 2, 5,\n",
       "       2, 2, 2, 2, 2, 2, 2, 2, 2, 5, 2, 2, 2, 5, 2, 2, 5, 2, 5, 2, 2, 2,\n",
       "       2, 2, 2, 2, 2, 2, 2, 2, 2, 2, 2, 2, 2, 2, 2, 2, 2, 2], dtype=int64)"
      ]
     },
     "execution_count": 4,
     "metadata": {},
     "output_type": "execute_result"
    }
   ],
   "source": [
    "from sklearn.linear_model import SGDClassifier\n",
    "\n",
    "sgd_clf = SGDClassifier(random_state = 42)\n",
    "sgd_clf.fit(X_train, Y_train)\n",
    "sgd_clf.predict(X_train)"
   ]
  },
  {
   "cell_type": "code",
   "execution_count": 5,
   "metadata": {
    "collapsed": true
   },
   "outputs": [
    {
     "data": {
      "text/plain": [
       "array([4, 5, 5, 5, 1, 4, 3, 5, 5, 5, 3, 5, 2, 4, 4, 4, 2, 4, 5, 5, 5, 4,\n",
       "       5, 1, 5, 1, 5, 5, 5, 1, 5, 3, 1, 5, 1, 4, 5, 1, 5, 5, 5, 1, 5, 2,\n",
       "       5, 4, 5, 3, 1, 1, 1, 1, 4, 2, 2, 4, 5, 1, 1, 3, 5, 3, 5, 5, 5, 5,\n",
       "       2, 5, 4, 5, 5, 5, 4, 4, 1, 5, 5, 5, 5, 1, 1, 5, 5, 5, 5, 5, 2, 5,\n",
       "       5, 5, 5, 2, 1, 5, 5, 5, 4, 2, 5, 4, 4, 1, 5, 2, 4, 5, 5, 2, 5, 5,\n",
       "       1, 1, 5, 5, 5, 3, 1, 5, 4, 4, 5, 3, 4, 5, 4, 4, 5, 2, 4, 3, 5, 1,\n",
       "       5, 4, 5, 4, 4, 4, 1, 1, 3, 3, 3, 2, 5, 4, 5, 5, 4, 5, 3, 1, 4, 5,\n",
       "       5, 1, 4, 5, 5, 3, 5, 3, 5, 3, 1, 5, 5, 5, 5, 4, 5, 3, 5, 3, 3, 4,\n",
       "       3, 5, 5, 5, 4, 5, 2, 5, 3, 5, 2, 2, 3, 1, 4, 3, 4, 4, 5, 4, 5, 5,\n",
       "       4, 4, 5, 5, 5, 5, 2, 5, 2, 5, 5, 3, 3, 5, 1, 5, 5, 5, 5, 3, 5, 3,\n",
       "       5, 5, 5, 5, 5, 4, 5, 1, 5, 5, 5, 5, 5, 1, 4, 5, 2, 5, 1, 4, 2, 1,\n",
       "       1, 5, 2, 5, 5, 2, 5, 5, 1, 3, 5, 5, 5, 5, 5, 1, 3, 2, 4, 3, 5, 5,\n",
       "       4, 5, 4, 5, 1, 5, 5, 5, 4, 3, 3, 1, 1, 5, 3, 2, 5, 5, 3, 4, 3, 5,\n",
       "       4, 1, 5, 5, 1, 5, 1, 5, 2, 5, 1, 3, 5, 2, 5, 4, 5, 5, 5, 5, 5, 4,\n",
       "       2, 5, 3, 5, 5, 2, 2, 5, 2, 5, 1, 3, 5, 1, 1, 5, 2, 4, 4, 2, 1, 5,\n",
       "       2, 5, 5, 5, 5, 4, 3, 2, 5, 1, 5, 5, 3, 4, 5, 2, 5, 4, 2, 4, 5, 4,\n",
       "       5, 3, 2, 5, 4, 3, 5, 5, 5, 5, 5, 5, 5, 5, 2, 3, 5, 5, 5, 5, 4, 4,\n",
       "       1, 3, 5, 1, 5, 3, 5, 4, 5, 5, 4, 4, 4, 4, 1, 5, 5, 4, 4, 5, 1, 4,\n",
       "       2, 1, 5, 2, 5, 2, 4, 5, 5, 5, 5, 2, 1, 4, 5, 4, 5, 5, 3, 1, 3, 5,\n",
       "       5, 1, 5, 4, 5, 5, 5, 1, 1, 5, 2, 5, 4, 5, 4, 3, 3, 5, 5, 5, 5, 5,\n",
       "       4, 5, 5, 3, 4, 5, 5, 1, 1, 3, 3, 4, 4, 4, 1, 5, 5, 1, 4, 1, 1, 5,\n",
       "       4, 4, 4, 5, 1, 4, 5, 2, 5, 5, 5, 4, 4, 5, 3, 2, 5, 4, 3, 5, 4, 3,\n",
       "       5, 1, 2, 1, 2, 3, 1, 4, 3, 1, 4, 3, 5, 4, 5, 4, 4, 4, 3, 5, 4, 5,\n",
       "       5, 4, 3, 4, 3, 4, 5, 4, 1, 2, 5, 5, 5, 4, 5, 4, 5, 5, 5, 3, 4, 5,\n",
       "       1, 5, 4, 4, 4, 5, 5, 4, 5, 3, 4, 4, 4, 2, 4, 5, 3, 4, 3, 5, 5, 5,\n",
       "       5, 5, 1, 5, 5, 5, 4, 1, 4, 5, 5, 5, 3, 5, 4, 2, 1, 5, 5, 4, 5, 5,\n",
       "       5, 1, 5, 3, 5, 5, 2, 5, 3, 5, 5, 5, 1, 4, 4, 5, 1, 4, 5, 5, 5, 4,\n",
       "       2, 4, 1, 1, 5, 3, 5, 5, 5, 5, 5, 5, 1, 1, 5, 5, 4, 5, 5, 5, 2, 5,\n",
       "       5, 2, 5, 1, 4, 5, 4, 5, 1, 5, 5, 5, 5, 5, 4, 4, 5, 5, 1, 2, 5, 3,\n",
       "       1, 5, 5, 1, 3, 4, 4, 4, 1, 5, 5, 3, 2, 5, 4, 5, 1, 3, 5, 2, 5, 4,\n",
       "       4, 4, 4, 3, 4, 3, 5, 5, 5, 5, 5, 4, 5, 5, 5, 4, 5, 5, 5, 5, 3, 5,\n",
       "       5, 1, 3, 1, 4, 4, 5, 5, 5, 4, 4, 5, 5, 3, 5, 5, 4, 1], dtype=int64)"
      ]
     },
     "execution_count": 5,
     "metadata": {},
     "output_type": "execute_result"
    }
   ],
   "source": [
    "Y_train.ravel()"
   ]
  },
  {
   "cell_type": "code",
   "execution_count": 6,
   "metadata": {},
   "outputs": [
    {
     "data": {
      "text/plain": [
       "array([0.14957265, 0.47008547, 0.48275862])"
      ]
     },
     "execution_count": 6,
     "metadata": {},
     "output_type": "execute_result"
    }
   ],
   "source": [
    "from sklearn.model_selection import cross_val_score\n",
    "cross_val_score(sgd_clf, X_train, Y_train, cv = 3, scoring = \"accuracy\")"
   ]
  },
  {
   "cell_type": "code",
   "execution_count": 7,
   "metadata": {},
   "outputs": [
    {
     "data": {
      "text/plain": [
       "<bound method SGDClassifier.get_params of SGDClassifier(alpha=0.0001, average=False, class_weight=None, epsilon=0.1,\n",
       "       eta0=0.0, fit_intercept=True, l1_ratio=0.15,\n",
       "       learning_rate='optimal', loss='hinge', max_iter=None, n_iter=None,\n",
       "       n_jobs=1, penalty='l2', power_t=0.5, random_state=42, shuffle=True,\n",
       "       tol=None, verbose=0, warm_start=False)>"
      ]
     },
     "execution_count": 7,
     "metadata": {},
     "output_type": "execute_result"
    }
   ],
   "source": [
    "sgd_clf.get_params"
   ]
  },
  {
   "cell_type": "code",
   "execution_count": 8,
   "metadata": {},
   "outputs": [
    {
     "data": {
      "text/plain": [
       "array([1, 2, 3, 4, 5], dtype=int64)"
      ]
     },
     "execution_count": 8,
     "metadata": {},
     "output_type": "execute_result"
    }
   ],
   "source": [
    "sgd_clf.classes_"
   ]
  },
  {
   "cell_type": "code",
   "execution_count": 9,
   "metadata": {
    "collapsed": true
   },
   "outputs": [
    {
     "name": "stderr",
     "output_type": "stream",
     "text": [
      "C:\\Users\\blueh\\Anaconda2\\lib\\site-packages\\sklearn\\discriminant_analysis.py:388: UserWarning: Variables are collinear.\n",
      "  warnings.warn(\"Variables are collinear.\")\n"
     ]
    },
    {
     "data": {
      "text/plain": [
       "array([5, 5, 5, 5, 5, 5, 5, 5, 1, 5, 5, 5, 5, 5, 5, 5, 1, 5, 5, 5, 5, 5,\n",
       "       5, 5, 5, 1, 5, 5, 5, 5, 5, 5, 1, 5, 5, 5, 5, 1, 5, 5, 5, 1, 1, 1,\n",
       "       5, 5, 5, 5, 5, 1, 1, 1, 5, 5, 5, 5, 5, 5, 5, 5, 5, 5, 5, 5, 5, 5,\n",
       "       5, 5, 5, 5, 5, 5, 5, 5, 1, 5, 5, 5, 5, 1, 5, 5, 1, 5, 5, 1, 1, 5,\n",
       "       5, 5, 4, 5, 5, 5, 5, 5, 5, 2, 5, 5, 5, 5, 5, 5, 5, 5, 5, 5, 5, 5,\n",
       "       1, 1, 5, 5, 5, 5, 5, 5, 4, 5, 5, 4, 1, 5, 5, 5, 5, 1, 5, 5, 1, 1,\n",
       "       5, 5, 5, 5, 5, 5, 1, 1, 5, 5, 5, 5, 5, 5, 5, 5, 5, 5, 5, 1, 5, 5,\n",
       "       5, 5, 5, 5, 5, 5, 5, 5, 5, 5, 1, 5, 5, 5, 5, 5, 5, 5, 5, 5, 5, 5,\n",
       "       5, 5, 5, 5, 5, 5, 5, 5, 1, 4, 1, 1, 5, 5, 5, 5, 5, 5, 1, 5, 1, 5,\n",
       "       5, 5, 5, 5, 5, 5, 5, 5, 5, 1, 5, 5, 5, 5, 5, 5, 5, 5, 5, 5, 5, 5,\n",
       "       5, 5, 5, 5, 5, 5, 5, 1, 5, 5, 5, 5, 5, 5, 5, 5, 1, 5, 5, 5, 5, 5,\n",
       "       1, 5, 5, 5, 5, 1, 5, 5, 1, 5, 5, 5, 5, 5, 5, 5, 4, 5, 5, 3, 5, 5,\n",
       "       5, 1, 1, 5, 1, 5, 5, 5, 5, 5, 5, 5, 5, 5, 5, 5, 5, 4, 5, 5, 5, 5,\n",
       "       5, 1, 5, 5, 5, 5, 1, 5, 1, 5, 1, 5, 5, 5, 5, 5, 5, 5, 5, 5, 5, 5,\n",
       "       1, 5, 5, 5, 5, 5, 5, 1, 5, 5, 5, 5, 5, 5, 2, 5, 1, 5, 5, 5, 5, 4,\n",
       "       5, 5, 5, 5, 5, 5, 5, 5, 1, 1, 5, 5, 5, 1, 5, 5, 5, 5, 5, 5, 5, 5,\n",
       "       5, 5, 5, 5, 5, 1, 5, 5, 5, 5, 5, 5, 5, 5, 4, 5, 5, 5, 5, 5, 5, 5,\n",
       "       1, 4, 5, 5, 5, 5, 5, 5, 5, 3, 5, 5, 5, 5, 5, 5, 5, 5, 5, 5, 5, 5,\n",
       "       1, 5, 5, 5, 5, 1, 5, 5, 5, 5, 5, 4, 1, 5, 5, 4, 5, 5, 5, 5, 5, 5,\n",
       "       5, 5, 5, 5, 5, 5, 5, 5, 5, 4, 5, 5, 5, 5, 5, 5, 5, 5, 5, 5, 5, 5,\n",
       "       5, 5, 5, 4, 5, 5, 5, 1, 5, 5, 5, 5, 5, 5, 1, 4, 5, 5, 5, 5, 1, 5,\n",
       "       5, 4, 5, 5, 1, 5, 5, 3, 5, 5, 5, 5, 5, 5, 5, 2, 5, 5, 5, 5, 5, 5,\n",
       "       5, 1, 5, 1, 5, 5, 1, 5, 5, 5, 5, 5, 5, 5, 5, 3, 5, 5, 5, 5, 5, 5,\n",
       "       5, 5, 4, 5, 5, 5, 5, 5, 5, 5, 5, 5, 5, 5, 5, 5, 5, 3, 5, 5, 5, 5,\n",
       "       5, 5, 5, 5, 5, 5, 5, 5, 5, 5, 5, 5, 5, 5, 5, 5, 5, 5, 5, 5, 5, 5,\n",
       "       5, 5, 5, 5, 5, 5, 5, 5, 5, 5, 5, 5, 5, 5, 5, 5, 5, 4, 5, 5, 5, 1,\n",
       "       5, 5, 5, 5, 5, 5, 5, 5, 5, 5, 5, 5, 5, 5, 5, 5, 1, 5, 5, 5, 5, 5,\n",
       "       5, 5, 5, 5, 5, 5, 5, 5, 5, 5, 5, 5, 5, 5, 5, 1, 5, 5, 5, 5, 1, 5,\n",
       "       5, 5, 5, 5, 5, 5, 5, 5, 5, 5, 5, 5, 5, 5, 5, 5, 5, 5, 5, 5, 5, 5,\n",
       "       5, 5, 5, 5, 3, 5, 5, 5, 1, 5, 5, 5, 1, 5, 5, 5, 4, 5, 5, 5, 5, 5,\n",
       "       5, 5, 5, 5, 5, 1, 5, 5, 4, 5, 5, 5, 5, 5, 5, 5, 5, 5, 5, 5, 5, 5,\n",
       "       5, 1, 5, 1, 5, 5, 5, 5, 1, 5, 5, 5, 5, 5, 5, 5, 5, 1], dtype=int64)"
      ]
     },
     "execution_count": 9,
     "metadata": {},
     "output_type": "execute_result"
    }
   ],
   "source": [
    "from sklearn.discriminant_analysis import LinearDiscriminantAnalysis\n",
    "lda_clf = LinearDiscriminantAnalysis()\n",
    "lda_clf.fit(X_train, Y_train)\n",
    "lda_clf.predict(X_train)"
   ]
  },
  {
   "cell_type": "code",
   "execution_count": 10,
   "metadata": {
    "collapsed": true
   },
   "outputs": [
    {
     "data": {
      "text/plain": [
       "array([4, 5, 5, 5, 1, 4, 3, 5, 5, 5, 3, 5, 2, 4, 4, 4, 2, 4, 5, 5, 5, 4,\n",
       "       5, 1, 5, 1, 5, 5, 5, 1, 5, 3, 1, 5, 1, 4, 5, 1, 5, 5, 5, 1, 5, 2,\n",
       "       5, 4, 5, 3, 1, 1, 1, 1, 4, 2, 2, 4, 5, 1, 1, 3, 5, 3, 5, 5, 5, 5,\n",
       "       2, 5, 4, 5, 5, 5, 4, 4, 1, 5, 5, 5, 5, 1, 1, 5, 5, 5, 5, 5, 2, 5,\n",
       "       5, 5, 5, 2, 1, 5, 5, 5, 4, 2, 5, 4, 4, 1, 5, 2, 4, 5, 5, 2, 5, 5,\n",
       "       1, 1, 5, 5, 5, 3, 1, 5, 4, 4, 5, 3, 4, 5, 4, 4, 5, 2, 4, 3, 5, 1,\n",
       "       5, 4, 5, 4, 4, 4, 1, 1, 3, 3, 3, 2, 5, 4, 5, 5, 4, 5, 3, 1, 4, 5,\n",
       "       5, 1, 4, 5, 5, 3, 5, 3, 5, 3, 1, 5, 5, 5, 5, 4, 5, 3, 5, 3, 3, 4,\n",
       "       3, 5, 5, 5, 4, 5, 2, 5, 3, 5, 2, 2, 3, 1, 4, 3, 4, 4, 5, 4, 5, 5,\n",
       "       4, 4, 5, 5, 5, 5, 2, 5, 2, 5, 5, 3, 3, 5, 1, 5, 5, 5, 5, 3, 5, 3,\n",
       "       5, 5, 5, 5, 5, 4, 5, 1, 5, 5, 5, 5, 5, 1, 4, 5, 2, 5, 1, 4, 2, 1,\n",
       "       1, 5, 2, 5, 5, 2, 5, 5, 1, 3, 5, 5, 5, 5, 5, 1, 3, 2, 4, 3, 5, 5,\n",
       "       4, 5, 4, 5, 1, 5, 5, 5, 4, 3, 3, 1, 1, 5, 3, 2, 5, 5, 3, 4, 3, 5,\n",
       "       4, 1, 5, 5, 1, 5, 1, 5, 2, 5, 1, 3, 5, 2, 5, 4, 5, 5, 5, 5, 5, 4,\n",
       "       2, 5, 3, 5, 5, 2, 2, 5, 2, 5, 1, 3, 5, 1, 1, 5, 2, 4, 4, 2, 1, 5,\n",
       "       2, 5, 5, 5, 5, 4, 3, 2, 5, 1, 5, 5, 3, 4, 5, 2, 5, 4, 2, 4, 5, 4,\n",
       "       5, 3, 2, 5, 4, 3, 5, 5, 5, 5, 5, 5, 5, 5, 2, 3, 5, 5, 5, 5, 4, 4,\n",
       "       1, 3, 5, 1, 5, 3, 5, 4, 5, 5, 4, 4, 4, 4, 1, 5, 5, 4, 4, 5, 1, 4,\n",
       "       2, 1, 5, 2, 5, 2, 4, 5, 5, 5, 5, 2, 1, 4, 5, 4, 5, 5, 3, 1, 3, 5,\n",
       "       5, 1, 5, 4, 5, 5, 5, 1, 1, 5, 2, 5, 4, 5, 4, 3, 3, 5, 5, 5, 5, 5,\n",
       "       4, 5, 5, 3, 4, 5, 5, 1, 1, 3, 3, 4, 4, 4, 1, 5, 5, 1, 4, 1, 1, 5,\n",
       "       4, 4, 4, 5, 1, 4, 5, 2, 5, 5, 5, 4, 4, 5, 3, 2, 5, 4, 3, 5, 4, 3,\n",
       "       5, 1, 2, 1, 2, 3, 1, 4, 3, 1, 4, 3, 5, 4, 5, 4, 4, 4, 3, 5, 4, 5,\n",
       "       5, 4, 3, 4, 3, 4, 5, 4, 1, 2, 5, 5, 5, 4, 5, 4, 5, 5, 5, 3, 4, 5,\n",
       "       1, 5, 4, 4, 4, 5, 5, 4, 5, 3, 4, 4, 4, 2, 4, 5, 3, 4, 3, 5, 5, 5,\n",
       "       5, 5, 1, 5, 5, 5, 4, 1, 4, 5, 5, 5, 3, 5, 4, 2, 1, 5, 5, 4, 5, 5,\n",
       "       5, 1, 5, 3, 5, 5, 2, 5, 3, 5, 5, 5, 1, 4, 4, 5, 1, 4, 5, 5, 5, 4,\n",
       "       2, 4, 1, 1, 5, 3, 5, 5, 5, 5, 5, 5, 1, 1, 5, 5, 4, 5, 5, 5, 2, 5,\n",
       "       5, 2, 5, 1, 4, 5, 4, 5, 1, 5, 5, 5, 5, 5, 4, 4, 5, 5, 1, 2, 5, 3,\n",
       "       1, 5, 5, 1, 3, 4, 4, 4, 1, 5, 5, 3, 2, 5, 4, 5, 1, 3, 5, 2, 5, 4,\n",
       "       4, 4, 4, 3, 4, 3, 5, 5, 5, 5, 5, 4, 5, 5, 5, 4, 5, 5, 5, 5, 3, 5,\n",
       "       5, 1, 3, 1, 4, 4, 5, 5, 5, 4, 4, 5, 5, 3, 5, 5, 4, 1], dtype=int64)"
      ]
     },
     "execution_count": 10,
     "metadata": {},
     "output_type": "execute_result"
    }
   ],
   "source": [
    "Y_train.ravel()"
   ]
  },
  {
   "cell_type": "code",
   "execution_count": 11,
   "metadata": {},
   "outputs": [
    {
     "name": "stderr",
     "output_type": "stream",
     "text": [
      "C:\\Users\\blueh\\Anaconda2\\lib\\site-packages\\sklearn\\discriminant_analysis.py:388: UserWarning: Variables are collinear.\n",
      "  warnings.warn(\"Variables are collinear.\")\n",
      "C:\\Users\\blueh\\Anaconda2\\lib\\site-packages\\sklearn\\discriminant_analysis.py:388: UserWarning: Variables are collinear.\n",
      "  warnings.warn(\"Variables are collinear.\")\n",
      "C:\\Users\\blueh\\Anaconda2\\lib\\site-packages\\sklearn\\discriminant_analysis.py:388: UserWarning: Variables are collinear.\n",
      "  warnings.warn(\"Variables are collinear.\")\n"
     ]
    },
    {
     "data": {
      "text/plain": [
       "array([0.4957265 , 0.48717949, 0.50431034])"
      ]
     },
     "execution_count": 11,
     "metadata": {},
     "output_type": "execute_result"
    }
   ],
   "source": [
    "cross_val_score(lda_clf, X_train, Y_train, cv = 3, scoring = \"accuracy\")"
   ]
  },
  {
   "cell_type": "code",
   "execution_count": 12,
   "metadata": {},
   "outputs": [
    {
     "data": {
      "text/plain": [
       "[Text(0.5,0,'fear_normalized'),\n",
       " Text(1.5,0,'happy_normalized'),\n",
       " Text(2.5,0,'sad_normalized'),\n",
       " Text(3.5,0,'anger_normalized'),\n",
       " Text(4.5,0,'neutral_normalized'),\n",
       " Text(5.5,0,'surprise_normalized'),\n",
       " Text(6.5,0,'disgust_normalized')]"
      ]
     },
     "execution_count": 12,
     "metadata": {},
     "output_type": "execute_result"
    },
    {
     "data": {
      "image/png": "[encoded data removed]",
      "text/plain": [
       "<Figure size 432x288 with 2 Axes>"
      ]
     },
     "metadata": {},
     "output_type": "display_data"
    }
   ],
   "source": [
    "import seaborn as sns\n",
    "corr = X.corr()\n",
    "ax = sns.heatmap(\n",
    "    corr, \n",
    "    vmin=-1, vmax=1, center=0,\n",
    "    cmap=sns.diverging_palette(20, 220, n=200),\n",
    "    square=True\n",
    ")\n",
    "ax.set_xticklabels(\n",
    "    ax.get_xticklabels(),\n",
    "    rotation=45,\n",
    "    horizontalalignment='right'\n",
    ")"
   ]
  },
  {
   "cell_type": "code",
   "execution_count": 13,
   "metadata": {},
   "outputs": [
    {
     "data": {
      "image/png": "[encoded data removed]",
      "text/plain": [
       "<Figure size 1440x1080 with 9 Axes>"
      ]
     },
     "metadata": {},
     "output_type": "display_data"
    }
   ],
   "source": [
    "import matplotlib.pyplot as plt\n",
    "X.hist(bins = 50, figsize = (20, 15))\n",
    "plt.show()"
   ]
  },
  {
   "cell_type": "code",
   "execution_count": 15,
   "metadata": {},
   "outputs": [
    {
     "data": {
      "image/png": "[encoded data removed]",
      "text/plain": [
       "<Figure size 432x288 with 1 Axes>"
      ]
     },
     "metadata": {},
     "output_type": "display_data"
    }
   ],
   "source": [
    "plt.scatter(X[\"happy_normalized\"], X[\"surprise_normalized\"])\n",
    "plt.show()"
   ]
  },
  {
   "cell_type": "code",
   "execution_count": 16,
   "metadata": {},
   "outputs": [],
   "source": [
    "from sklearn.ensemble import RandomForestClassifier\n",
    "from sklearn.ensemble import VotingClassifier\n",
    "from sklearn.linear_model import LogisticRegression\n",
    "from sklearn.svm import SVC"
   ]
  },
  {
   "cell_type": "code",
   "execution_count": 17,
   "metadata": {},
   "outputs": [
    {
     "name": "stdout",
     "output_type": "stream",
     "text": [
      "('LogisticRegression', 0.4533333333333333)\n",
      "('RandomForestClassifier', 0.4266666666666667)\n",
      "('SVC', 0.4533333333333333)\n",
      "('VotingClassifier', 0.4633333333333333)\n"
     ]
    },
    {
     "name": "stderr",
     "output_type": "stream",
     "text": [
      "C:\\Users\\blueh\\Anaconda2\\lib\\site-packages\\sklearn\\preprocessing\\label.py:151: DeprecationWarning: The truth value of an empty array is ambiguous. Returning False, but in future this will result in an error. Use `array.size > 0` to check that an array is not empty.\n",
      "  if diff:\n"
     ]
    }
   ],
   "source": [
    "log_clf = LogisticRegression()\n",
    "rnd_clf = RandomForestClassifier()\n",
    "svm_clf = SVC(probability=True)\n",
    "\n",
    "voting_clf = VotingClassifier(\n",
    "    estimators = [(\"lr\", log_clf), (\"rf\", rnd_clf), (\"svc\", svm_clf)],\n",
    "    voting = \"soft\")\n",
    "voting_clf.fit(X_train, Y_train)\n",
    "\n",
    "from sklearn.metrics import accuracy_score\n",
    "for clf in (log_clf, rnd_clf, svm_clf, voting_clf):\n",
    "    clf.fit(X_train, Y_train)\n",
    "    y_pred = clf.predict(X_test)\n",
    "    print(clf.__class__.__name__, accuracy_score(Y_test, y_pred))"
   ]
  },
  {
   "cell_type": "code",
   "execution_count": 18,
   "metadata": {},
   "outputs": [
    {
     "name": "stdout",
     "output_type": "stream",
     "text": [
      "('LogisticRegression', 0.4533333333333333)\n",
      "('RandomForestClassifier', 0.42333333333333334)\n",
      "('SVC', 0.4533333333333333)\n",
      "('VotingClassifier', 0.4533333333333333)\n"
     ]
    },
    {
     "name": "stderr",
     "output_type": "stream",
     "text": [
      "C:\\Users\\blueh\\Anaconda2\\lib\\site-packages\\sklearn\\preprocessing\\label.py:151: DeprecationWarning: The truth value of an empty array is ambiguous. Returning False, but in future this will result in an error. Use `array.size > 0` to check that an array is not empty.\n",
      "  if diff:\n"
     ]
    }
   ],
   "source": [
    "log_clf = LogisticRegression()\n",
    "rnd_clf = RandomForestClassifier()\n",
    "svm_clf = SVC()\n",
    "\n",
    "voting_clf = VotingClassifier(\n",
    "    estimators = [(\"lr\", log_clf), (\"rf\", rnd_clf), (\"svc\", svm_clf)],\n",
    "    voting = \"hard\")\n",
    "voting_clf.fit(X_train, Y_train)\n",
    "\n",
    "from sklearn.metrics import accuracy_score\n",
    "for clf in (log_clf, rnd_clf, svm_clf, voting_clf):\n",
    "    clf.fit(X_train, Y_train)\n",
    "    y_pred = clf.predict(X_test)\n",
    "    print(clf.__class__.__name__, accuracy_score(Y_test, y_pred))"
   ]
  },
  {
   "cell_type": "code",
   "execution_count": 19,
   "metadata": {},
   "outputs": [
    {
     "name": "stdout",
     "output_type": "stream",
     "text": [
      "Fitting 3 folds for each of 16 candidates, totalling 48 fits\n"
     ]
    },
    {
     "name": "stderr",
     "output_type": "stream",
     "text": [
      "[Parallel(n_jobs=-1)]: Done  16 tasks      | elapsed:    8.0s\n",
      "[Parallel(n_jobs=-1)]: Done  48 out of  48 | elapsed:    8.1s finished\n",
      "C:\\Users\\blueh\\Anaconda2\\lib\\site-packages\\sklearn\\discriminant_analysis.py:388: UserWarning: Variables are collinear.\n",
      "  warnings.warn(\"Variables are collinear.\")\n"
     ]
    },
    {
     "data": {
      "text/plain": [
       "{'solver': 'svd', 'tol': 1e-08}"
      ]
     },
     "execution_count": 19,
     "metadata": {},
     "output_type": "execute_result"
    }
   ],
   "source": [
    "from sklearn.model_selection import GridSearchCV\n",
    "\n",
    "param_grid = [{\"solver\": [\"svd\", \"lsqr\"], \"tol\": [0, .00000001, .0000001, .00001, .0001, .001, .01, .1]}]\n",
    "\n",
    "grid_search = GridSearchCV(lda_clf, param_grid, cv = 3, verbose=3, n_jobs=-1)\n",
    "\n",
    "grid_search.fit(X_train, Y_train)\n",
    "\n",
    "grid_search.best_params_"
   ]
  },
  {
   "cell_type": "code",
   "execution_count": 20,
   "metadata": {},
   "outputs": [
    {
     "name": "stderr",
     "output_type": "stream",
     "text": [
      "C:\\Users\\blueh\\Anaconda2\\lib\\site-packages\\sklearn\\discriminant_analysis.py:388: UserWarning: Variables are collinear.\n",
      "  warnings.warn(\"Variables are collinear.\")\n",
      "C:\\Users\\blueh\\Anaconda2\\lib\\site-packages\\sklearn\\discriminant_analysis.py:388: UserWarning: Variables are collinear.\n",
      "  warnings.warn(\"Variables are collinear.\")\n",
      "C:\\Users\\blueh\\Anaconda2\\lib\\site-packages\\sklearn\\discriminant_analysis.py:388: UserWarning: Variables are collinear.\n",
      "  warnings.warn(\"Variables are collinear.\")\n",
      "C:\\Users\\blueh\\Anaconda2\\lib\\site-packages\\sklearn\\discriminant_analysis.py:388: UserWarning: Variables are collinear.\n",
      "  warnings.warn(\"Variables are collinear.\")\n"
     ]
    },
    {
     "data": {
      "text/plain": [
       "0.49573877591118976"
      ]
     },
     "execution_count": 20,
     "metadata": {},
     "output_type": "execute_result"
    }
   ],
   "source": [
    "lda_clf = LinearDiscriminantAnalysis(solver=\"svd\", tol=.00000001)\n",
    "lda_clf.fit(X_train, Y_train)\n",
    "np.mean(cross_val_score(lda_clf, X_train, Y_train, cv = 3, scoring = \"accuracy\"))"
   ]
  },
  {
   "cell_type": "code",
   "execution_count": 21,
   "metadata": {},
   "outputs": [
    {
     "name": "stderr",
     "output_type": "stream",
     "text": [
      "C:\\Users\\blueh\\Anaconda2\\lib\\site-packages\\sklearn\\discriminant_analysis.py:388: UserWarning: Variables are collinear.\n",
      "  warnings.warn(\"Variables are collinear.\")\n"
     ]
    },
    {
     "data": {
      "image/png": "[encoded data removed]",
      "text/plain": [
       "<Figure size 432x288 with 1 Axes>"
      ]
     },
     "metadata": {},
     "output_type": "display_data"
    }
   ],
   "source": [
    "import matplotlib.pyplot as plt\n",
    "\n",
    "target_names = sgd_clf.classes_\n",
    "\n",
    "colors = ['red', 'darkorange', \"magenta\",  \"green\", \"blue\"]\n",
    "lw = 2\n",
    "\n",
    "lda = LinearDiscriminantAnalysis(n_components=2)\n",
    "X_r2 = lda.fit(X, Y).transform(X)\n",
    "\n",
    "plt.figure()\n",
    "for color, i, target_name in zip(colors, [0, 1, 2, 3, 4], target_names):\n",
    "    plt.scatter(X_r2[Y == i, 0], X_r2[Y == i, 1], alpha=.8, color=color,\n",
    "                label=target_name)\n",
    "plt.legend(loc='best', shadow=False, scatterpoints=1)\n",
    "plt.title('LDA of emotions dataset')\n",
    "\n",
    "plt.show()"
   ]
  },
  {
   "cell_type": "markdown",
   "metadata": {},
   "source": [
    "## What does the LDA miss?"
   ]
  },
  {
   "cell_type": "code",
   "execution_count": 67,
   "metadata": {},
   "outputs": [
    {
     "data": {
      "text/html": [
       "<div>\n",
       "<style scoped>\n",
       "    .dataframe tbody tr th:only-of-type {\n",
       "        vertical-align: middle;\n",
       "    }\n",
       "\n",
       "    .dataframe tbody tr th {\n",
       "        vertical-align: top;\n",
       "    }\n",
       "\n",
       "    .dataframe thead th {\n",
       "        text-align: right;\n",
       "    }\n",
       "</style>\n",
       "<table border=\"1\" class=\"dataframe\">\n",
       "  <thead>\n",
       "    <tr style=\"text-align: right;\">\n",
       "      <th></th>\n",
       "      <th>fear_normalized</th>\n",
       "      <th>happy_normalized</th>\n",
       "      <th>sad_normalized</th>\n",
       "      <th>anger_normalized</th>\n",
       "      <th>neutral_normalized</th>\n",
       "      <th>surprise_normalized</th>\n",
       "      <th>disgust_normalized</th>\n",
       "      <th>predictions</th>\n",
       "      <th>class</th>\n",
       "      <th>index</th>\n",
       "    </tr>\n",
       "  </thead>\n",
       "  <tbody>\n",
       "    <tr>\n",
       "      <th>670</th>\n",
       "      <td>0.165124</td>\n",
       "      <td>0.209609</td>\n",
       "      <td>0.188002</td>\n",
       "      <td>0.152236</td>\n",
       "      <td>0.068150</td>\n",
       "      <td>0.148531</td>\n",
       "      <td>0.068349</td>\n",
       "      <td>5</td>\n",
       "      <td>4</td>\n",
       "      <td>670</td>\n",
       "    </tr>\n",
       "    <tr>\n",
       "      <th>6</th>\n",
       "      <td>0.109259</td>\n",
       "      <td>0.307270</td>\n",
       "      <td>0.150136</td>\n",
       "      <td>0.111909</td>\n",
       "      <td>0.044398</td>\n",
       "      <td>0.232673</td>\n",
       "      <td>0.044355</td>\n",
       "      <td>5</td>\n",
       "      <td>5</td>\n",
       "      <td>6</td>\n",
       "    </tr>\n",
       "    <tr>\n",
       "      <th>477</th>\n",
       "      <td>0.201693</td>\n",
       "      <td>0.265943</td>\n",
       "      <td>0.122955</td>\n",
       "      <td>0.112403</td>\n",
       "      <td>0.066241</td>\n",
       "      <td>0.133018</td>\n",
       "      <td>0.097747</td>\n",
       "      <td>5</td>\n",
       "      <td>5</td>\n",
       "      <td>477</td>\n",
       "    </tr>\n",
       "    <tr>\n",
       "      <th>158</th>\n",
       "      <td>0.117940</td>\n",
       "      <td>0.305399</td>\n",
       "      <td>0.167731</td>\n",
       "      <td>0.135345</td>\n",
       "      <td>0.033006</td>\n",
       "      <td>0.185280</td>\n",
       "      <td>0.055299</td>\n",
       "      <td>5</td>\n",
       "      <td>5</td>\n",
       "      <td>158</td>\n",
       "    </tr>\n",
       "    <tr>\n",
       "      <th>508</th>\n",
       "      <td>0.173041</td>\n",
       "      <td>0.159267</td>\n",
       "      <td>0.148566</td>\n",
       "      <td>0.204848</td>\n",
       "      <td>0.050627</td>\n",
       "      <td>0.180696</td>\n",
       "      <td>0.082955</td>\n",
       "      <td>5</td>\n",
       "      <td>1</td>\n",
       "      <td>508</td>\n",
       "    </tr>\n",
       "  </tbody>\n",
       "</table>\n",
       "</div>"
      ],
      "text/plain": [
       "     fear_normalized  happy_normalized  sad_normalized  anger_normalized  \\\n",
       "670         0.165124          0.209609        0.188002          0.152236   \n",
       "6           0.109259          0.307270        0.150136          0.111909   \n",
       "477         0.201693          0.265943        0.122955          0.112403   \n",
       "158         0.117940          0.305399        0.167731          0.135345   \n",
       "508         0.173041          0.159267        0.148566          0.204848   \n",
       "\n",
       "     neutral_normalized  surprise_normalized  disgust_normalized  predictions  \\\n",
       "670            0.068150             0.148531            0.068349            5   \n",
       "6              0.044398             0.232673            0.044355            5   \n",
       "477            0.066241             0.133018            0.097747            5   \n",
       "158            0.033006             0.185280            0.055299            5   \n",
       "508            0.050627             0.180696            0.082955            5   \n",
       "\n",
       "     class  index  \n",
       "670      4    670  \n",
       "6        5      6  \n",
       "477      5    477  \n",
       "158      5    158  \n",
       "508      1    508  "
      ]
     },
     "execution_count": 67,
     "metadata": {},
     "output_type": "execute_result"
    }
   ],
   "source": [
    "preds = lda_clf.predict(X_train)\n",
    "preds\n",
    "rpreds = []\n",
    "for i in preds:\n",
    "    rpreds.append(i)\n",
    "    \n",
    "ComparSet = X_train.copy()\n",
    "ComparSet['predictions'] = rpreds\n",
    "ComparSet['class'] = Y_train\n",
    "ComparSet['index'] = ComparSet.index.values.tolist()\n",
    "ComparSet.head()"
   ]
  },
  {
   "cell_type": "code",
   "execution_count": 84,
   "metadata": {},
   "outputs": [
    {
     "name": "stdout",
     "output_type": "stream",
     "text": [
      "700\n",
      "700\n"
     ]
    },
    {
     "data": {
      "text/html": [
       "<div>\n",
       "<style scoped>\n",
       "    .dataframe tbody tr th:only-of-type {\n",
       "        vertical-align: middle;\n",
       "    }\n",
       "\n",
       "    .dataframe tbody tr th {\n",
       "        vertical-align: top;\n",
       "    }\n",
       "\n",
       "    .dataframe thead th {\n",
       "        text-align: right;\n",
       "    }\n",
       "</style>\n",
       "<table border=\"1\" class=\"dataframe\">\n",
       "  <thead>\n",
       "    <tr style=\"text-align: right;\">\n",
       "      <th></th>\n",
       "      <th>Index</th>\n",
       "      <th>business_id</th>\n",
       "      <th>cool</th>\n",
       "      <th>date</th>\n",
       "      <th>funny</th>\n",
       "      <th>review_id</th>\n",
       "      <th>stars</th>\n",
       "      <th>useful</th>\n",
       "      <th>user_id</th>\n",
       "      <th>fear_score</th>\n",
       "      <th>...</th>\n",
       "      <th>anger_normalized</th>\n",
       "      <th>neutral_normalized</th>\n",
       "      <th>surprise_normalized</th>\n",
       "      <th>disgust_normalized</th>\n",
       "      <th>text</th>\n",
       "      <th>review_length</th>\n",
       "      <th>fear_normalized_y</th>\n",
       "      <th>predictions</th>\n",
       "      <th>class</th>\n",
       "      <th>index</th>\n",
       "    </tr>\n",
       "  </thead>\n",
       "  <tbody>\n",
       "    <tr>\n",
       "      <th>0</th>\n",
       "      <td>84442</td>\n",
       "      <td>XH2TZmZt6gzHHpjqk8C6pg</td>\n",
       "      <td>1</td>\n",
       "      <td>2009-05-26 13:42:02</td>\n",
       "      <td>3</td>\n",
       "      <td>rtQJU6GHxnxsXKBspKzWaA</td>\n",
       "      <td>5</td>\n",
       "      <td>6</td>\n",
       "      <td>lJzgOpVS1pmb2UW7j2GkDg</td>\n",
       "      <td>2.405523</td>\n",
       "      <td>...</td>\n",
       "      <td>0.143937</td>\n",
       "      <td>0.064513</td>\n",
       "      <td>0.187610</td>\n",
       "      <td>0.091318</td>\n",
       "      <td>I stand corrected: Zucca is the best authentic...</td>\n",
       "      <td>307</td>\n",
       "      <td>0.154263</td>\n",
       "      <td>5</td>\n",
       "      <td>5</td>\n",
       "      <td>0</td>\n",
       "    </tr>\n",
       "    <tr>\n",
       "      <th>1</th>\n",
       "      <td>75795</td>\n",
       "      <td>yNVcnSaMSrTmjJBMrHTy9w</td>\n",
       "      <td>2</td>\n",
       "      <td>2012-06-01 18:22:23</td>\n",
       "      <td>1</td>\n",
       "      <td>wU-awV0uGkZdjnIFsgoTQA</td>\n",
       "      <td>4</td>\n",
       "      <td>5</td>\n",
       "      <td>8iqGB11mHwCTLOOHkqnqmQ</td>\n",
       "      <td>0.532827</td>\n",
       "      <td>...</td>\n",
       "      <td>0.152236</td>\n",
       "      <td>0.057650</td>\n",
       "      <td>0.206945</td>\n",
       "      <td>0.052151</td>\n",
       "      <td>I loved this place.\\n\\nDark, cozy booths - Che...</td>\n",
       "      <td>88</td>\n",
       "      <td>0.200740</td>\n",
       "      <td>5</td>\n",
       "      <td>4</td>\n",
       "      <td>1</td>\n",
       "    </tr>\n",
       "    <tr>\n",
       "      <th>2</th>\n",
       "      <td>25891</td>\n",
       "      <td>MN0Pd66285k2k9lkpEtptA</td>\n",
       "      <td>0</td>\n",
       "      <td>2017-03-15 20:01:16</td>\n",
       "      <td>0</td>\n",
       "      <td>_NcurWksF9tSwXK9Mq3GIA</td>\n",
       "      <td>1</td>\n",
       "      <td>0</td>\n",
       "      <td>D4xs1lDiug7hU_NfPnJxpQ</td>\n",
       "      <td>1.301386</td>\n",
       "      <td>...</td>\n",
       "      <td>0.207375</td>\n",
       "      <td>0.061050</td>\n",
       "      <td>0.184706</td>\n",
       "      <td>0.069945</td>\n",
       "      <td>I went to this location with my husband for a ...</td>\n",
       "      <td>195</td>\n",
       "      <td>0.176703</td>\n",
       "      <td>5</td>\n",
       "      <td>1</td>\n",
       "      <td>3</td>\n",
       "    </tr>\n",
       "    <tr>\n",
       "      <th>3</th>\n",
       "      <td>40493</td>\n",
       "      <td>V78f9CdEVTkKFkyhdTYVrQ</td>\n",
       "      <td>0</td>\n",
       "      <td>2017-12-30 00:19:30</td>\n",
       "      <td>1</td>\n",
       "      <td>MLwORlIv5_hHrP5t3NoiEQ</td>\n",
       "      <td>2</td>\n",
       "      <td>0</td>\n",
       "      <td>E7SNJmkznqEChusdrp25aQ</td>\n",
       "      <td>0.034925</td>\n",
       "      <td>...</td>\n",
       "      <td>0.325602</td>\n",
       "      <td>0.042119</td>\n",
       "      <td>0.139323</td>\n",
       "      <td>0.052541</td>\n",
       "      <td>Food was consistent with other IHOPs. Slow ser...</td>\n",
       "      <td>17</td>\n",
       "      <td>0.068876</td>\n",
       "      <td>2</td>\n",
       "      <td>2</td>\n",
       "      <td>5</td>\n",
       "    </tr>\n",
       "    <tr>\n",
       "      <th>4</th>\n",
       "      <td>78379</td>\n",
       "      <td>S-oLPRdhlyL5HAknBKTUcQ</td>\n",
       "      <td>1</td>\n",
       "      <td>2014-12-03 02:53:11</td>\n",
       "      <td>0</td>\n",
       "      <td>m2Anz-RKC0pDBkY_i5mHbQ</td>\n",
       "      <td>5</td>\n",
       "      <td>1</td>\n",
       "      <td>UGjV8dDechaxUmbbiOys_g</td>\n",
       "      <td>0.295468</td>\n",
       "      <td>...</td>\n",
       "      <td>0.111909</td>\n",
       "      <td>0.044398</td>\n",
       "      <td>0.232673</td>\n",
       "      <td>0.044355</td>\n",
       "      <td>Terrific Tuesday night at Harumis! I see why t...</td>\n",
       "      <td>59</td>\n",
       "      <td>0.109259</td>\n",
       "      <td>5</td>\n",
       "      <td>5</td>\n",
       "      <td>6</td>\n",
       "    </tr>\n",
       "  </tbody>\n",
       "</table>\n",
       "<p>5 rows × 29 columns</p>\n",
       "</div>"
      ],
      "text/plain": [
       "   Index             business_id  cool                 date  funny  \\\n",
       "0  84442  XH2TZmZt6gzHHpjqk8C6pg     1  2009-05-26 13:42:02      3   \n",
       "1  75795  yNVcnSaMSrTmjJBMrHTy9w     2  2012-06-01 18:22:23      1   \n",
       "2  25891  MN0Pd66285k2k9lkpEtptA     0  2017-03-15 20:01:16      0   \n",
       "3  40493  V78f9CdEVTkKFkyhdTYVrQ     0  2017-12-30 00:19:30      1   \n",
       "4  78379  S-oLPRdhlyL5HAknBKTUcQ     1  2014-12-03 02:53:11      0   \n",
       "\n",
       "                review_id  stars  useful                 user_id  fear_score  \\\n",
       "0  rtQJU6GHxnxsXKBspKzWaA      5       6  lJzgOpVS1pmb2UW7j2GkDg    2.405523   \n",
       "1  wU-awV0uGkZdjnIFsgoTQA      4       5  8iqGB11mHwCTLOOHkqnqmQ    0.532827   \n",
       "2  _NcurWksF9tSwXK9Mq3GIA      1       0  D4xs1lDiug7hU_NfPnJxpQ    1.301386   \n",
       "3  MLwORlIv5_hHrP5t3NoiEQ      2       0  E7SNJmkznqEChusdrp25aQ    0.034925   \n",
       "4  m2Anz-RKC0pDBkY_i5mHbQ      5       1  UGjV8dDechaxUmbbiOys_g    0.295468   \n",
       "\n",
       "   ...    anger_normalized  neutral_normalized  surprise_normalized  \\\n",
       "0  ...            0.143937            0.064513             0.187610   \n",
       "1  ...            0.152236            0.057650             0.206945   \n",
       "2  ...            0.207375            0.061050             0.184706   \n",
       "3  ...            0.325602            0.042119             0.139323   \n",
       "4  ...            0.111909            0.044398             0.232673   \n",
       "\n",
       "   disgust_normalized                                               text  \\\n",
       "0            0.091318  I stand corrected: Zucca is the best authentic...   \n",
       "1            0.052151  I loved this place.\\n\\nDark, cozy booths - Che...   \n",
       "2            0.069945  I went to this location with my husband for a ...   \n",
       "3            0.052541  Food was consistent with other IHOPs. Slow ser...   \n",
       "4            0.044355  Terrific Tuesday night at Harumis! I see why t...   \n",
       "\n",
       "   review_length  fear_normalized_y  predictions  class  index  \n",
       "0            307           0.154263            5      5      0  \n",
       "1             88           0.200740            5      4      1  \n",
       "2            195           0.176703            5      1      3  \n",
       "3             17           0.068876            2      2      5  \n",
       "4             59           0.109259            5      5      6  \n",
       "\n",
       "[5 rows x 29 columns]"
      ]
     },
     "execution_count": 84,
     "metadata": {},
     "output_type": "execute_result"
    }
   ],
   "source": [
    "DfU = pd.merge(df,\n",
    "              ComparSet,\n",
    "              left_on = ['happy_normalized','sad_normalized','anger_normalized','neutral_normalized', 'surprise_normalized','disgust_normalized'],\n",
    "              right_on = ['happy_normalized','sad_normalized','anger_normalized','neutral_normalized', 'surprise_normalized','disgust_normalized'],\n",
    "              how = 'inner')\n",
    "\n",
    "DfU.head()"
   ]
  },
  {
   "cell_type": "code",
   "execution_count": 102,
   "metadata": {},
   "outputs": [
    {
     "name": "stdout",
     "output_type": "stream",
     "text": [
      "349\n"
     ]
    },
    {
     "data": {
      "text/html": [
       "<div>\n",
       "<style scoped>\n",
       "    .dataframe tbody tr th:only-of-type {\n",
       "        vertical-align: middle;\n",
       "    }\n",
       "\n",
       "    .dataframe tbody tr th {\n",
       "        vertical-align: top;\n",
       "    }\n",
       "\n",
       "    .dataframe thead th {\n",
       "        text-align: right;\n",
       "    }\n",
       "</style>\n",
       "<table border=\"1\" class=\"dataframe\">\n",
       "  <thead>\n",
       "    <tr style=\"text-align: right;\">\n",
       "      <th></th>\n",
       "      <th>Index</th>\n",
       "      <th>cool</th>\n",
       "      <th>date</th>\n",
       "      <th>funny</th>\n",
       "      <th>review_id</th>\n",
       "      <th>stars</th>\n",
       "      <th>useful</th>\n",
       "      <th>fear_normalized_x</th>\n",
       "      <th>happy_normalized</th>\n",
       "      <th>sad_normalized</th>\n",
       "      <th>anger_normalized</th>\n",
       "      <th>neutral_normalized</th>\n",
       "      <th>surprise_normalized</th>\n",
       "      <th>disgust_normalized</th>\n",
       "      <th>text</th>\n",
       "      <th>review_length</th>\n",
       "      <th>fear_normalized_y</th>\n",
       "      <th>predictions</th>\n",
       "      <th>class</th>\n",
       "      <th>index</th>\n",
       "    </tr>\n",
       "  </thead>\n",
       "  <tbody>\n",
       "    <tr>\n",
       "      <th>1</th>\n",
       "      <td>75795</td>\n",
       "      <td>2</td>\n",
       "      <td>2012-06-01 18:22:23</td>\n",
       "      <td>1</td>\n",
       "      <td>wU-awV0uGkZdjnIFsgoTQA</td>\n",
       "      <td>4</td>\n",
       "      <td>5</td>\n",
       "      <td>0.200740</td>\n",
       "      <td>0.193448</td>\n",
       "      <td>0.136829</td>\n",
       "      <td>0.152236</td>\n",
       "      <td>0.057650</td>\n",
       "      <td>0.206945</td>\n",
       "      <td>0.052151</td>\n",
       "      <td>I loved this place.\\n\\nDark, cozy booths - Che...</td>\n",
       "      <td>88</td>\n",
       "      <td>0.200740</td>\n",
       "      <td>5</td>\n",
       "      <td>4</td>\n",
       "      <td>1</td>\n",
       "    </tr>\n",
       "    <tr>\n",
       "      <th>2</th>\n",
       "      <td>25891</td>\n",
       "      <td>0</td>\n",
       "      <td>2017-03-15 20:01:16</td>\n",
       "      <td>0</td>\n",
       "      <td>_NcurWksF9tSwXK9Mq3GIA</td>\n",
       "      <td>1</td>\n",
       "      <td>0</td>\n",
       "      <td>0.176703</td>\n",
       "      <td>0.162737</td>\n",
       "      <td>0.137485</td>\n",
       "      <td>0.207375</td>\n",
       "      <td>0.061050</td>\n",
       "      <td>0.184706</td>\n",
       "      <td>0.069945</td>\n",
       "      <td>I went to this location with my husband for a ...</td>\n",
       "      <td>195</td>\n",
       "      <td>0.176703</td>\n",
       "      <td>5</td>\n",
       "      <td>1</td>\n",
       "      <td>3</td>\n",
       "    </tr>\n",
       "    <tr>\n",
       "      <th>10</th>\n",
       "      <td>75580</td>\n",
       "      <td>0</td>\n",
       "      <td>2017-03-16 04:36:38</td>\n",
       "      <td>0</td>\n",
       "      <td>72keoPmVRcuokHoJdpembw</td>\n",
       "      <td>3</td>\n",
       "      <td>0</td>\n",
       "      <td>0.127178</td>\n",
       "      <td>0.204126</td>\n",
       "      <td>0.189493</td>\n",
       "      <td>0.158062</td>\n",
       "      <td>0.050945</td>\n",
       "      <td>0.156869</td>\n",
       "      <td>0.113326</td>\n",
       "      <td>The service was great but the food was disgust...</td>\n",
       "      <td>83</td>\n",
       "      <td>0.127178</td>\n",
       "      <td>5</td>\n",
       "      <td>3</td>\n",
       "      <td>13</td>\n",
       "    </tr>\n",
       "    <tr>\n",
       "      <th>11</th>\n",
       "      <td>61836</td>\n",
       "      <td>0</td>\n",
       "      <td>2014-10-13 02:46:30</td>\n",
       "      <td>0</td>\n",
       "      <td>KFKOWU82EFYVsASnzpbnCw</td>\n",
       "      <td>3</td>\n",
       "      <td>1</td>\n",
       "      <td>0.134751</td>\n",
       "      <td>0.209461</td>\n",
       "      <td>0.186536</td>\n",
       "      <td>0.166777</td>\n",
       "      <td>0.038201</td>\n",
       "      <td>0.197079</td>\n",
       "      <td>0.067195</td>\n",
       "      <td>Came here for the first time last week even th...</td>\n",
       "      <td>226</td>\n",
       "      <td>0.134751</td>\n",
       "      <td>5</td>\n",
       "      <td>3</td>\n",
       "      <td>14</td>\n",
       "    </tr>\n",
       "    <tr>\n",
       "      <th>12</th>\n",
       "      <td>25050</td>\n",
       "      <td>0</td>\n",
       "      <td>2013-08-30 23:20:05</td>\n",
       "      <td>0</td>\n",
       "      <td>Y-80Dfsc1gnMR2yMx8dxXg</td>\n",
       "      <td>5</td>\n",
       "      <td>0</td>\n",
       "      <td>0.155021</td>\n",
       "      <td>0.171204</td>\n",
       "      <td>0.290436</td>\n",
       "      <td>0.126635</td>\n",
       "      <td>0.035293</td>\n",
       "      <td>0.156391</td>\n",
       "      <td>0.065020</td>\n",
       "      <td>Dang, This pizza place is a sleeper. I have li...</td>\n",
       "      <td>77</td>\n",
       "      <td>0.155021</td>\n",
       "      <td>3</td>\n",
       "      <td>5</td>\n",
       "      <td>15</td>\n",
       "    </tr>\n",
       "  </tbody>\n",
       "</table>\n",
       "</div>"
      ],
      "text/plain": [
       "    Index  cool                 date  funny               review_id  stars  \\\n",
       "1   75795     2  2012-06-01 18:22:23      1  wU-awV0uGkZdjnIFsgoTQA      4   \n",
       "2   25891     0  2017-03-15 20:01:16      0  _NcurWksF9tSwXK9Mq3GIA      1   \n",
       "10  75580     0  2017-03-16 04:36:38      0  72keoPmVRcuokHoJdpembw      3   \n",
       "11  61836     0  2014-10-13 02:46:30      0  KFKOWU82EFYVsASnzpbnCw      3   \n",
       "12  25050     0  2013-08-30 23:20:05      0  Y-80Dfsc1gnMR2yMx8dxXg      5   \n",
       "\n",
       "    useful  fear_normalized_x  happy_normalized  sad_normalized  \\\n",
       "1        5           0.200740          0.193448        0.136829   \n",
       "2        0           0.176703          0.162737        0.137485   \n",
       "10       0           0.127178          0.204126        0.189493   \n",
       "11       1           0.134751          0.209461        0.186536   \n",
       "12       0           0.155021          0.171204        0.290436   \n",
       "\n",
       "    anger_normalized  neutral_normalized  surprise_normalized  \\\n",
       "1           0.152236            0.057650             0.206945   \n",
       "2           0.207375            0.061050             0.184706   \n",
       "10          0.158062            0.050945             0.156869   \n",
       "11          0.166777            0.038201             0.197079   \n",
       "12          0.126635            0.035293             0.156391   \n",
       "\n",
       "    disgust_normalized                                               text  \\\n",
       "1             0.052151  I loved this place.\\n\\nDark, cozy booths - Che...   \n",
       "2             0.069945  I went to this location with my husband for a ...   \n",
       "10            0.113326  The service was great but the food was disgust...   \n",
       "11            0.067195  Came here for the first time last week even th...   \n",
       "12            0.065020  Dang, This pizza place is a sleeper. I have li...   \n",
       "\n",
       "    review_length  fear_normalized_y  predictions  class  index  \n",
       "1              88           0.200740            5      4      1  \n",
       "2             195           0.176703            5      1      3  \n",
       "10             83           0.127178            5      3     13  \n",
       "11            226           0.134751            5      3     14  \n",
       "12             77           0.155021            3      5     15  "
      ]
     },
     "execution_count": 102,
     "metadata": {},
     "output_type": "execute_result"
    }
   ],
   "source": [
    "DfIncorrect = DfU[DfU['class'] != DfU['predictions']]\n",
    "DfCorrect = DfU[DfU['class'] == DfU['predictions']]\n",
    "print len(DfIncorrect)\n",
    "DfIncorrect.drop(['business_id', 'user_id', 'fear_score','sad_score','anger_score','neutral_score','happy_score','surprise_score', 'disgust_score'], axis=1, inplace = True)\n",
    "DfIncorrect.head()"
   ]
  },
  {
   "cell_type": "code",
   "execution_count": 129,
   "metadata": {},
   "outputs": [],
   "source": [
    "Incorrect = [DfIncorrect['fear_normalized_x'].mean(),DfIncorrect['happy_normalized'].mean(),DfIncorrect['sad_normalized'].mean(),\n",
    "            DfIncorrect['anger_normalized'].mean(), DfIncorrect['neutral_normalized'].mean(), DfIncorrect['surprise_normalized'].mean(),\n",
    "            DfIncorrect['disgust_normalized'].mean()]\n",
    "\n",
    "Correct = [DfCorrect['fear_normalized_x'].mean(),DfCorrect['happy_normalized'].mean(),DfCorrect['sad_normalized'].mean(),\n",
    "            DfCorrect['anger_normalized'].mean(), DfCorrect['neutral_normalized'].mean(), DfCorrect['surprise_normalized'].mean(),\n",
    "            DfCorrect['disgust_normalized'].mean()]"
   ]
  },
  {
   "cell_type": "code",
   "execution_count": 137,
   "metadata": {},
   "outputs": [
    {
     "data": {
      "text/html": [
       "<div>\n",
       "<style scoped>\n",
       "    .dataframe tbody tr th:only-of-type {\n",
       "        vertical-align: middle;\n",
       "    }\n",
       "\n",
       "    .dataframe tbody tr th {\n",
       "        vertical-align: top;\n",
       "    }\n",
       "\n",
       "    .dataframe thead th {\n",
       "        text-align: right;\n",
       "    }\n",
       "</style>\n",
       "<table border=\"1\" class=\"dataframe\">\n",
       "  <thead>\n",
       "    <tr style=\"text-align: right;\">\n",
       "      <th></th>\n",
       "      <th>Correct Set</th>\n",
       "      <th>Incorrect Set</th>\n",
       "      <th>%Higher in Incorrect</th>\n",
       "    </tr>\n",
       "  </thead>\n",
       "  <tbody>\n",
       "    <tr>\n",
       "      <th>Fear</th>\n",
       "      <td>0.154644</td>\n",
       "      <td>0.152342</td>\n",
       "      <td>-1.488453</td>\n",
       "    </tr>\n",
       "    <tr>\n",
       "      <th>Happy</th>\n",
       "      <td>0.221723</td>\n",
       "      <td>0.204142</td>\n",
       "      <td>32.008238</td>\n",
       "    </tr>\n",
       "    <tr>\n",
       "      <th>Sad</th>\n",
       "      <td>0.154086</td>\n",
       "      <td>0.172758</td>\n",
       "      <td>11.714004</td>\n",
       "    </tr>\n",
       "    <tr>\n",
       "      <th>Anger</th>\n",
       "      <td>0.155832</td>\n",
       "      <td>0.162297</td>\n",
       "      <td>4.948939</td>\n",
       "    </tr>\n",
       "    <tr>\n",
       "      <th>Neutral</th>\n",
       "      <td>0.055467</td>\n",
       "      <td>0.053494</td>\n",
       "      <td>-65.408300</td>\n",
       "    </tr>\n",
       "    <tr>\n",
       "      <th>Surprise</th>\n",
       "      <td>0.186874</td>\n",
       "      <td>0.176576</td>\n",
       "      <td>14.182742</td>\n",
       "    </tr>\n",
       "    <tr>\n",
       "      <th>Disgust</th>\n",
       "      <td>0.071374</td>\n",
       "      <td>0.078391</td>\n",
       "      <td>-49.308707</td>\n",
       "    </tr>\n",
       "  </tbody>\n",
       "</table>\n",
       "</div>"
      ],
      "text/plain": [
       "          Correct Set  Incorrect Set  %Higher in Incorrect\n",
       "Fear         0.154644       0.152342             -1.488453\n",
       "Happy        0.221723       0.204142             32.008238\n",
       "Sad          0.154086       0.172758             11.714004\n",
       "Anger        0.155832       0.162297              4.948939\n",
       "Neutral      0.055467       0.053494            -65.408300\n",
       "Surprise     0.186874       0.176576             14.182742\n",
       "Disgust      0.071374       0.078391            -49.308707"
      ]
     },
     "execution_count": 137,
     "metadata": {},
     "output_type": "execute_result"
    }
   ],
   "source": [
    "CorrMinIncorr = []\n",
    "ind = 0\n",
    "\n",
    "for obj in Correct:\n",
    "    diff = (Incorrect[ind] - item)/item*100\n",
    "    CorrMinIncorr.append(diff)\n",
    "    ind+=1\n",
    "    \n",
    "ComparTable = pd.DataFrame(columns = ['Correct Set', 'Incorrect Set','%Higher in Incorrect'])\n",
    "ComparTable['Correct Set'] = Correct\n",
    "ComparTable['Incorrect Set'] = Incorrect\n",
    "ComparTable['%Higher in Incorrect'] = CorrMinIncorr\n",
    "IndexSet = pd.Index(['Fear','Happy','Sad','Anger','Neutral','Surprise','Disgust'])\n",
    "ComparTable.set_index(IndexSet, inplace = True)\n",
    "\n",
    "ComparTable"
   ]
  },
  {
   "cell_type": "markdown",
   "metadata": {},
   "source": [
    "In texts where our LDA model ultimately incorrectly predicted the stars of the review, the normalized Happiness feature was 32% higher than in reviews where our model was correct. Additionally, in texts where our model incorrectly predicted the stars, the normalized Neutral and Disgust feature were 65% and 50%, respectively, lower than texts which our model correctly predicted stars."
   ]
  },
  {
   "cell_type": "code",
   "execution_count": 142,
   "metadata": {},
   "outputs": [
    {
     "data": {
      "text/plain": [
       "1     [i, loved, this, place, dark, cozy, booths, ch...\n",
       "2     [i, went, to, this, location, with, my, husban...\n",
       "10    [the, service, was, great, but, the, food, was...\n",
       "11    [came, here, for, the, first, time, last, week...\n",
       "12    [dang, this, pizza, place, is, a, sleeper, i, ...\n",
       "Name: text_lower_cleaned, dtype: object"
      ]
     },
     "execution_count": 142,
     "metadata": {},
     "output_type": "execute_result"
    }
   ],
   "source": [
    "ListofTexts = DfIncorrect['text']\n",
    "Df2 = pd.DataFrame()\n",
    "import re\n",
    "def lower(s):\n",
    "    return s.lower()\n",
    "\n",
    "Df2['text_lower'] = DfIncorrect['text'].map(lower)\n",
    "\n",
    "def remove_special_characters(s):\n",
    "    ret = re.sub('[\\n]',' ', s)\n",
    "    return re.sub('[^a-zA-Z0-9\\s]', '', ret)\n",
    "\n",
    "Df2['text_lower_cleaned'] = Df2['text_lower'].map(remove_special_characters)\n",
    "\n",
    "Df2.head()\n",
    "\n",
    "def unicode_to_ascii(s):\n",
    "    return s.encode('ascii','ignore').split(' ')\n",
    "Df2['text_lower_cleaned'] = Df2['text_lower_cleaned'].map(unicode_to_ascii)\n",
    "Df2['text_lower_cleaned_string'] = Df2['text_lower_cleaned']\n",
    "\n",
    "\n",
    "def filter_empty(s):\n",
    "    return filter(None,s)\n",
    "Df2['text_lower_cleaned'] = Df2['text_lower_cleaned'].map(filter_empty)\n",
    "Df2['text_lower_cleaned'].head()"
   ]
  },
  {
   "cell_type": "code",
   "execution_count": 159,
   "metadata": {},
   "outputs": [],
   "source": [
    "ListWords = []\n",
    "def flatten(lst):\n",
    "    for elem in lst:\n",
    "        if type(elem) in (tuple, list):\n",
    "            for i in flatten(elem):\n",
    "                yield i\n",
    "        else:\n",
    "            yield elem\n",
    "        \n",
    "Unflattenedlist = Df2['text_lower_cleaned_string']\n",
    "\n",
    "flattenedList = list(flatten(Unflattenedlist))\n",
    "df4 = pd.DataFrame()\n",
    "df4['word'] = flattenedList"
   ]
  },
  {
   "cell_type": "code",
   "execution_count": 172,
   "metadata": {},
   "outputs": [
    {
     "data": {
      "text/plain": [
       "good              217\n",
       "food              213\n",
       "place             179\n",
       "like              174\n",
       "just              149\n",
       "great             135\n",
       "service           120\n",
       "time              120\n",
       "really            103\n",
       "got                90\n",
       "nice               89\n",
       "didnt              87\n",
       "ordered            85\n",
       "dont               85\n",
       "chicken            77\n",
       "try                73\n",
       "came               72\n",
       "did                70\n",
       "pretty             67\n",
       "little             63\n",
       "come               60\n",
       "im                 59\n",
       "order              59\n",
       "asked              58\n",
       "menu               57\n",
       "ive                55\n",
       "price              53\n",
       "love               51\n",
       "said               51\n",
       "people             51\n",
       "                 ... \n",
       "september           1\n",
       "stern               1\n",
       "anticipated         1\n",
       "voucher             1\n",
       "weight              1\n",
       "darling             1\n",
       "print               1\n",
       "fake                1\n",
       "expects             1\n",
       "advertising         1\n",
       "4pm                 1\n",
       "silky               1\n",
       "quelques            1\n",
       "sketched            1\n",
       "skipped             1\n",
       "reduce              1\n",
       "begged              1\n",
       "principalement      1\n",
       "winethe             1\n",
       "room3               1\n",
       "disorganized        1\n",
       "cleanse             1\n",
       "bless               1\n",
       "sundays             1\n",
       "shandy              1\n",
       "crispness           1\n",
       "instructions        1\n",
       "superbe             1\n",
       "belowaverage        1\n",
       "lachine             1\n",
       "Name: word, Length: 5086, dtype: int64"
      ]
     },
     "execution_count": 172,
     "metadata": {},
     "output_type": "execute_result"
    }
   ],
   "source": [
    "df = pd.Series(flattenedList)\n",
    "\n",
    "from sklearn.feature_extraction.stop_words import ENGLISH_STOP_WORDS\n",
    "stop_words = list(ENGLISH_STOP_WORDS)\n",
    "def in_stop_words(s):\n",
    "    return s in stop_words\n",
    "in_stop_words_mask = df4['word'].map(in_stop_words)\n",
    "df4['word'] = df4[-in_stop_words_mask]\n",
    "df4 = df4[-df4['word'].isna()]\n",
    "df4clean = df4[df4['word'] != \"\"]\n",
    "df4clean['word'].value_counts()"
   ]
  },
  {
   "cell_type": "code",
   "execution_count": null,
   "metadata": {},
   "outputs": [],
   "source": []
  }
 ],
 "metadata": {
  "kernelspec": {
   "display_name": "Python 2",
   "language": "python",
   "name": "python2"
  },
  "language_info": {
   "codemirror_mode": {
    "name": "ipython",
    "version": 2
   },
   "file_extension": ".py",
   "mimetype": "text/x-python",
   "name": "python",
   "nbconvert_exporter": "python",
   "pygments_lexer": "ipython2",
   "version": "2.7.15"
  }
 },
 "nbformat": 4,
 "nbformat_minor": 2
}
