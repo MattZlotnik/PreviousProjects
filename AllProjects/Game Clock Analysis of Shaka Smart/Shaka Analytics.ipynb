{
 "cells": [
  {
   "cell_type": "code",
   "execution_count": 1,
   "metadata": {},
   "outputs": [],
   "source": [
    "from pandas import Series, DataFrame\n",
    "import pandas as pd"
   ]
  },
  {
   "cell_type": "code",
   "execution_count": 2,
   "metadata": {},
   "outputs": [
    {
     "data": {
      "text/html": [
       "<div>\n",
       "<style scoped>\n",
       "    .dataframe tbody tr th:only-of-type {\n",
       "        vertical-align: middle;\n",
       "    }\n",
       "\n",
       "    .dataframe tbody tr th {\n",
       "        vertical-align: top;\n",
       "    }\n",
       "\n",
       "    .dataframe thead th {\n",
       "        text-align: right;\n",
       "    }\n",
       "</style>\n",
       "<table border=\"1\" class=\"dataframe\">\n",
       "  <thead>\n",
       "    <tr style=\"text-align: right;\">\n",
       "      <th></th>\n",
       "      <th>Time</th>\n",
       "      <th>Possession</th>\n",
       "      <th>Player</th>\n",
       "      <th>Text</th>\n",
       "      <th>AwayScore</th>\n",
       "      <th>HomeScore</th>\n",
       "      <th>TexWBy</th>\n",
       "      <th>Foul</th>\n",
       "      <th>TTNV</th>\n",
       "      <th>OTNV</th>\n",
       "      <th>...</th>\n",
       "      <th>OORB</th>\n",
       "      <th>CloseGame</th>\n",
       "      <th>Venue</th>\n",
       "      <th>Big12</th>\n",
       "      <th>Opponent</th>\n",
       "      <th>GameNumber</th>\n",
       "      <th>Year</th>\n",
       "      <th>Win</th>\n",
       "      <th>Seconds</th>\n",
       "      <th>Unique</th>\n",
       "    </tr>\n",
       "  </thead>\n",
       "  <tbody>\n",
       "    <tr>\n",
       "      <th>42278</th>\n",
       "      <td>0:48</td>\n",
       "      <td>LIP</td>\n",
       "      <td>ahsan asadullah</td>\n",
       "      <td>['made', 'layup.']</td>\n",
       "      <td>64</td>\n",
       "      <td>81</td>\n",
       "      <td>17</td>\n",
       "      <td>0</td>\n",
       "      <td>0</td>\n",
       "      <td>0</td>\n",
       "      <td>...</td>\n",
       "      <td>0</td>\n",
       "      <td>0</td>\n",
       "      <td>HOME</td>\n",
       "      <td>0</td>\n",
       "      <td>LIP</td>\n",
       "      <td>35</td>\n",
       "      <td>2018</td>\n",
       "      <td>1</td>\n",
       "      <td>48</td>\n",
       "      <td>2018LIP35</td>\n",
       "    </tr>\n",
       "    <tr>\n",
       "      <th>42279</th>\n",
       "      <td>0:31</td>\n",
       "      <td>Texas</td>\n",
       "      <td>royce hamm</td>\n",
       "      <td>['jr.', 'turnover.']</td>\n",
       "      <td>64</td>\n",
       "      <td>81</td>\n",
       "      <td>17</td>\n",
       "      <td>0</td>\n",
       "      <td>1</td>\n",
       "      <td>0</td>\n",
       "      <td>...</td>\n",
       "      <td>0</td>\n",
       "      <td>0</td>\n",
       "      <td>HOME</td>\n",
       "      <td>0</td>\n",
       "      <td>LIP</td>\n",
       "      <td>35</td>\n",
       "      <td>2018</td>\n",
       "      <td>1</td>\n",
       "      <td>31</td>\n",
       "      <td>2018LIP35</td>\n",
       "    </tr>\n",
       "    <tr>\n",
       "      <th>42280</th>\n",
       "      <td>0:31</td>\n",
       "      <td>LIP</td>\n",
       "      <td>ahsan asadullah</td>\n",
       "      <td>['steal.']</td>\n",
       "      <td>64</td>\n",
       "      <td>81</td>\n",
       "      <td>17</td>\n",
       "      <td>0</td>\n",
       "      <td>0</td>\n",
       "      <td>0</td>\n",
       "      <td>...</td>\n",
       "      <td>0</td>\n",
       "      <td>0</td>\n",
       "      <td>HOME</td>\n",
       "      <td>0</td>\n",
       "      <td>LIP</td>\n",
       "      <td>35</td>\n",
       "      <td>2018</td>\n",
       "      <td>1</td>\n",
       "      <td>31</td>\n",
       "      <td>2018LIP35</td>\n",
       "    </tr>\n",
       "    <tr>\n",
       "      <th>42281</th>\n",
       "      <td>0:04</td>\n",
       "      <td>LIP</td>\n",
       "      <td>john matt</td>\n",
       "      <td>['merritt', 'made', 'jumper.', 'assisted', 'by...</td>\n",
       "      <td>66</td>\n",
       "      <td>81</td>\n",
       "      <td>15</td>\n",
       "      <td>0</td>\n",
       "      <td>0</td>\n",
       "      <td>0</td>\n",
       "      <td>...</td>\n",
       "      <td>0</td>\n",
       "      <td>0</td>\n",
       "      <td>HOME</td>\n",
       "      <td>0</td>\n",
       "      <td>LIP</td>\n",
       "      <td>35</td>\n",
       "      <td>2018</td>\n",
       "      <td>1</td>\n",
       "      <td>4</td>\n",
       "      <td>2018LIP35</td>\n",
       "    </tr>\n",
       "    <tr>\n",
       "      <th>42282</th>\n",
       "      <td>0:00</td>\n",
       "      <td>Texas</td>\n",
       "      <td>end of</td>\n",
       "      <td>['game']</td>\n",
       "      <td>66</td>\n",
       "      <td>81</td>\n",
       "      <td>15</td>\n",
       "      <td>0</td>\n",
       "      <td>0</td>\n",
       "      <td>0</td>\n",
       "      <td>...</td>\n",
       "      <td>0</td>\n",
       "      <td>0</td>\n",
       "      <td>HOME</td>\n",
       "      <td>0</td>\n",
       "      <td>LIP</td>\n",
       "      <td>35</td>\n",
       "      <td>2018</td>\n",
       "      <td>1</td>\n",
       "      <td>0</td>\n",
       "      <td>2018LIP35</td>\n",
       "    </tr>\n",
       "  </tbody>\n",
       "</table>\n",
       "<p>5 rows × 39 columns</p>\n",
       "</div>"
      ],
      "text/plain": [
       "       Time Possession           Player  \\\n",
       "42278  0:48        LIP  ahsan asadullah   \n",
       "42279  0:31      Texas       royce hamm   \n",
       "42280  0:31        LIP  ahsan asadullah   \n",
       "42281  0:04        LIP        john matt   \n",
       "42282  0:00      Texas           end of   \n",
       "\n",
       "                                                    Text  AwayScore  \\\n",
       "42278                                 ['made', 'layup.']         64   \n",
       "42279                               ['jr.', 'turnover.']         64   \n",
       "42280                                         ['steal.']         64   \n",
       "42281  ['merritt', 'made', 'jumper.', 'assisted', 'by...         66   \n",
       "42282                                           ['game']         66   \n",
       "\n",
       "       HomeScore  TexWBy  Foul  TTNV  OTNV    ...      OORB  CloseGame  Venue  \\\n",
       "42278         81      17     0     0     0    ...         0          0   HOME   \n",
       "42279         81      17     0     1     0    ...         0          0   HOME   \n",
       "42280         81      17     0     0     0    ...         0          0   HOME   \n",
       "42281         81      15     0     0     0    ...         0          0   HOME   \n",
       "42282         81      15     0     0     0    ...         0          0   HOME   \n",
       "\n",
       "       Big12  Opponent  GameNumber  Year  Win  Seconds     Unique  \n",
       "42278      0       LIP          35  2018    1       48  2018LIP35  \n",
       "42279      0       LIP          35  2018    1       31  2018LIP35  \n",
       "42280      0       LIP          35  2018    1       31  2018LIP35  \n",
       "42281      0       LIP          35  2018    1        4  2018LIP35  \n",
       "42282      0       LIP          35  2018    1        0  2018LIP35  \n",
       "\n",
       "[5 rows x 39 columns]"
      ]
     },
     "execution_count": 2,
     "metadata": {},
     "output_type": "execute_result"
    }
   ],
   "source": [
    "DataTable = pd.read_csv('OneDrive/Documents/MAN385 Sports Analytics/PlaybyPlayFinal.csv')\n",
    "DataTable[\"Unique\"] = DataTable['Year'].map(str) + DataTable[\"Opponent\"] + DataTable['GameNumber'].map(str)\n",
    "TX2015 = DataTable[DataTable['Year'] == 2015]\n",
    "TX2016 = DataTable[DataTable['Year'] == 2016]\n",
    "TX2017 = DataTable[DataTable['Year'] == 2017]\n",
    "TX2018 = DataTable[DataTable['Year'] == 2018]\n",
    "\n",
    "First36 = DataTable[DataTable['Seconds'] > 240]\n",
    "Final4 = DataTable[DataTable['Seconds'] < 180]\n",
    "\n",
    "CloseGame = Final4[Final4['CloseGame'] == 1]\n",
    "DataTable[-5:]"
   ]
  },
  {
   "cell_type": "code",
   "execution_count": 66,
   "metadata": {},
   "outputs": [
    {
     "data": {
      "text/plain": [
       "array(['Time', 'Possession', 'Player', 'Text', 'AwayScore', 'HomeScore',\n",
       "       'TexWBy', 'Foul', 'TTNV', 'OTNV', 'T3PA', 'T3PM', 'O3PA', 'O3PM',\n",
       "       'TLDA', 'TLDM', 'OLDA', 'OLDM', 'TJA', 'TJM', 'OJA', 'OJM', 'TFTA',\n",
       "       'TFTM', 'OFTA', 'OFTM', 'TASST', 'OASST', 'TORB', 'OORB',\n",
       "       'CloseGame', 'Venue', 'Big12', 'Opponent', 'GameNumber', 'Year',\n",
       "       'Win', 'Seconds', 'Unique'], dtype=object)"
      ]
     },
     "execution_count": 66,
     "metadata": {},
     "output_type": "execute_result"
    }
   ],
   "source": [
    "DataTable.columns.values"
   ]
  },
  {
   "cell_type": "code",
   "execution_count": 181,
   "metadata": {},
   "outputs": [],
   "source": [
    "RealCrunch = RealCrunch[RealCrunch['Text'] == \"['defensive', 'rebound.']\"]"
   ]
  },
  {
   "cell_type": "code",
   "execution_count": 135,
   "metadata": {},
   "outputs": [
    {
     "data": {
      "text/plain": [
       "<matplotlib.axes._subplots.AxesSubplot at 0x1204d0b8>"
      ]
     },
     "execution_count": 135,
     "metadata": {},
     "output_type": "execute_result"
    },
    {
     "data": {
      "image/png": "[encoded data removed]",
      "text/plain": [
       "<Figure size 432x288 with 1 Axes>"
      ]
     },
     "metadata": {},
     "output_type": "display_data"
    }
   ],
   "source": [
    "Shots_By_Roach = RealCrunch[RealCrunch['Player'] == \"dylan osetkowski\"]\n",
    "Shots_By_Roach['Text'].value_counts().plot(kind='bar')"
   ]
  },
  {
   "cell_type": "code",
   "execution_count": 137,
   "metadata": {},
   "outputs": [
    {
     "data": {
      "text/plain": [
       "<matplotlib.axes._subplots.AxesSubplot at 0xf934cf8>"
      ]
     },
     "execution_count": 137,
     "metadata": {},
     "output_type": "execute_result"
    },
    {
     "data": {
      "image/png": "[encoded data removed]",
      "text/plain": [
       "<Figure size 432x288 with 1 Axes>"
      ]
     },
     "metadata": {},
     "output_type": "display_data"
    }
   ],
   "source": [
    "Shots_By_Roach = RealCrunch[RealCrunch['Text'] == \"['turnover.']\"]\n",
    "Shots_By_Roach['Player'].value_counts().plot(kind='bar')"
   ]
  },
  {
   "cell_type": "code",
   "execution_count": 4,
   "metadata": {},
   "outputs": [],
   "source": [
    "PivotsWin = pd.pivot_table(TX2015, values = ['TORB',\"Win\"], index = 'Opponent', dropna = True, aggfunc = 'mean')"
   ]
  },
  {
   "cell_type": "code",
   "execution_count": 95,
   "metadata": {},
   "outputs": [
    {
     "data": {
      "text/plain": [
       "42283"
      ]
     },
     "execution_count": 95,
     "metadata": {},
     "output_type": "execute_result"
    }
   ],
   "source": [
    "len(DataTable)"
   ]
  },
  {
   "cell_type": "code",
   "execution_count": null,
   "metadata": {},
   "outputs": [],
   "source": []
  },
  {
   "cell_type": "code",
   "execution_count": 5,
   "metadata": {},
   "outputs": [],
   "source": [
    "GameSums = TX2015.groupby('Opponent').sum()"
   ]
  },
  {
   "cell_type": "code",
   "execution_count": 24,
   "metadata": {},
   "outputs": [
    {
     "data": {
      "text/plain": [
       "<matplotlib.axes._subplots.AxesSubplot at 0x1031f9e8>"
      ]
     },
     "execution_count": 24,
     "metadata": {},
     "output_type": "execute_result"
    },
    {
     "data": {
      "image/png": "[encoded data removed]",
      "text/plain": [
       "<Figure size 432x288 with 1 Axes>"
      ]
     },
     "metadata": {},
     "output_type": "display_data"
    }
   ],
   "source": [
    "Turnovers_By_Play = CloseGame[CloseGame['Text'] == \"['turnover.']\"]\n",
    "Turnovers_By_Player = Turnovers_By_Play[Turnovers_By_Play['Possession'] == \"Texas\"]\n",
    "Turnovers_By_Player['Player'].value_counts()[:10].plot(kind='bar')"
   ]
  },
  {
   "cell_type": "code",
   "execution_count": 147,
   "metadata": {},
   "outputs": [
    {
     "data": {
      "text/plain": [
       "<matplotlib.axes._subplots.AxesSubplot at 0x1537ac18>"
      ]
     },
     "execution_count": 147,
     "metadata": {},
     "output_type": "execute_result"
    },
    {
     "data": {
      "image/png": "[encoded data removed]",
      "text/plain": [
       "<Figure size 432x288 with 1 Axes>"
      ]
     },
     "metadata": {},
     "output_type": "display_data"
    }
   ],
   "source": [
    "TexClose = CloseWins[CloseWins['Possession'] == \"Texas\"]\n",
    "MadeShots = TexClose[TexClose['Text'].str.contains(\"made\")]\n",
    "MissedShots = TexClose[TexClose['Text'].str.contains(\"missed\")]\n",
    "TookShots = MadeShots.append(MissedShots)\n",
    "Yes = TookShots['Player'].value_counts().sort_values(ascending = False)[:16]\n",
    "No =  MadeShots['Player'].value_counts().sort_values(ascending = False)[:16]\n",
    "ShotPerc = No/Yes*100\n",
    "Yes.sort_values(ascending=False).plot(kind='bar', title = \"Shot Quantities of Texas' Highest Volume Shooters\")\n"
   ]
  },
  {
   "cell_type": "code",
   "execution_count": 148,
   "metadata": {},
   "outputs": [
    {
     "name": "stdout",
     "output_type": "stream",
     "text": [
      "matt coleman        48\n",
      "isaiah taylor       46\n",
      "kerwin roach        42\n",
      "eric davis          27\n",
      "javan felix         22\n",
      "dylan osetkowski    22\n",
      "andrew jones        18\n",
      "jericho sims        15\n",
      "shaquille cleare    10\n",
      "jarrett allen        9\n",
      "connor lammert       8\n",
      "jaxson hayes         8\n",
      "jase febres          7\n",
      "tevin mack           7\n",
      "jacob young          6\n",
      "courtney ramey       6\n",
      "Name: Player, dtype: int64\n",
      "isaiah taylor       34\n",
      "matt coleman        34\n",
      "kerwin roach        20\n",
      "eric davis          19\n",
      "dylan osetkowski    12\n",
      "andrew jones        12\n",
      "javan felix         12\n",
      "jericho sims        10\n",
      "jaxson hayes         7\n",
      "shaquille cleare     6\n",
      "jarrett allen        6\n",
      "tevin mack           5\n",
      "jacob young          4\n",
      "jase febres          4\n",
      "connor lammert       4\n",
      "mohamed bamba        3\n",
      "Name: Player, dtype: int64\n",
      "andrew jones        66.666667\n",
      "connor lammert      50.000000\n",
      "courtney ramey            NaN\n",
      "dylan osetkowski    54.545455\n",
      "eric davis          70.370370\n",
      "isaiah taylor       73.913043\n",
      "jacob young         66.666667\n",
      "jarrett allen       66.666667\n",
      "jase febres         57.142857\n",
      "javan felix         54.545455\n",
      "jaxson hayes        87.500000\n",
      "jericho sims        66.666667\n",
      "kerwin roach        47.619048\n",
      "matt coleman        70.833333\n",
      "mohamed bamba             NaN\n",
      "shaquille cleare    60.000000\n",
      "tevin mack          71.428571\n",
      "Name: Player, dtype: float64\n"
     ]
    }
   ],
   "source": [
    "print Yes\n",
    "print No\n",
    "print ShotPerc"
   ]
  },
  {
   "cell_type": "code",
   "execution_count": 26,
   "metadata": {},
   "outputs": [
    {
     "data": {
      "text/plain": [
       "<matplotlib.axes._subplots.AxesSubplot at 0x103e7ef0>"
      ]
     },
     "execution_count": 26,
     "metadata": {},
     "output_type": "execute_result"
    },
    {
     "data": {
      "image/png": "[encoded data removed]",
      "text/plain": [
       "<Figure size 432x288 with 1 Axes>"
      ]
     },
     "metadata": {},
     "output_type": "display_data"
    }
   ],
   "source": [
    "Turnovers_By_Play = CloseLoss[CloseLoss['Text'] == \"['turnover.']\"]\n",
    "Turnovers_By_Player = Turnovers_By_Play[Turnovers_By_Play['Possession'] == \"Texas\"]\n",
    "Turnovers_By_Player['Player'].value_counts()[:10].plot(kind='bar')"
   ]
  },
  {
   "cell_type": "code",
   "execution_count": 135,
   "metadata": {},
   "outputs": [
    {
     "data": {
      "text/plain": [
       "<matplotlib.axes._subplots.AxesSubplot at 0x14ac4c88>"
      ]
     },
     "execution_count": 135,
     "metadata": {},
     "output_type": "execute_result"
    },
    {
     "data": {
      "image/png": "[encoded data removed]",
      "text/plain": [
       "<Figure size 432x288 with 1 Axes>"
      ]
     },
     "metadata": {},
     "output_type": "display_data"
    }
   ],
   "source": [
    "Assists_By_Play = CloseLoss[CloseLoss['TASST'] == 1]\n",
    "Assists_By_Play['Player'].value_counts()[:10].plot(kind='bar')"
   ]
  },
  {
   "cell_type": "code",
   "execution_count": null,
   "metadata": {},
   "outputs": [],
   "source": []
  },
  {
   "cell_type": "code",
   "execution_count": null,
   "metadata": {},
   "outputs": [],
   "source": []
  },
  {
   "cell_type": "code",
   "execution_count": null,
   "metadata": {},
   "outputs": [],
   "source": []
  },
  {
   "cell_type": "code",
   "execution_count": null,
   "metadata": {},
   "outputs": [],
   "source": []
  },
  {
   "cell_type": "code",
   "execution_count": null,
   "metadata": {},
   "outputs": [],
   "source": []
  },
  {
   "cell_type": "code",
   "execution_count": null,
   "metadata": {},
   "outputs": [],
   "source": []
  },
  {
   "cell_type": "code",
   "execution_count": null,
   "metadata": {},
   "outputs": [],
   "source": []
  },
  {
   "cell_type": "code",
   "execution_count": null,
   "metadata": {},
   "outputs": [],
   "source": []
  },
  {
   "cell_type": "code",
   "execution_count": null,
   "metadata": {},
   "outputs": [],
   "source": [
    "\n"
   ]
  },
  {
   "cell_type": "code",
   "execution_count": null,
   "metadata": {
    "scrolled": false
   },
   "outputs": [],
   "source": []
  },
  {
   "cell_type": "markdown",
   "metadata": {},
   "source": [
    "### Close v Not-Close (Within 10 with <4min left)"
   ]
  },
  {
   "cell_type": "code",
   "execution_count": 3,
   "metadata": {},
   "outputs": [
    {
     "name": "stdout",
     "output_type": "stream",
     "text": [
      "Texas shoots 69.36% from Free Throws in close game situations\n",
      "Texas shoots 67.41% from Free Throws in all situations\n",
      "\n",
      "Opponents shoots 70.26% from Free Throws in close game situations\n",
      "Opponents shoots 69.74% from Free Throws in all situations\n",
      "\n",
      "Texas shoots 35.88% from 3 in close game situations\n",
      "Texas shoots 32.77% from 3 in all situations\n",
      "\n",
      "Opponents shoot 26.42% from 3 in close game situations\n",
      "Opponents shoot 33.53% from 3 in all situations\n",
      "\n",
      "Texas shoots 32.77% on 2-pt jumpers in close game situations\n",
      "Texas shoots 34.78% on 2-pt jumpers in all situations\n",
      "\n",
      "Opponents shoot 43.52% on 2-pt jumpers in close game situations\n",
      "Opponents shoot 33.75% on 2-pt jumpers in all situations\n",
      "\n",
      "Texas shoots 64.43% on Layups/Dunks/Tip-ins in close game situations\n",
      "Texas shoots 62.43% on Layups/Dunks/Tip-ins in all situations\n",
      "\n",
      "Opponents shoot 57.5% on Layups/Dunks/Tip-ins in close game situations\n",
      "Opponents shoot 59.8% on Layups/Dunks/Tip-ins in all situations\n",
      "\n",
      "Texas has taken 438 shots in close games in the Shaka Smart era\n",
      "In close game situations, Texas takes 38.81% 3-pointers vs 38.02% overall\n",
      "In close game situations, Texas takes 27.17% 2-pt jumpers vs 28.03% overall\n",
      "In close game situations, Texas takes 34.02% layups/dunks/tip-ins vs 33.95% overall\n",
      "\n",
      "Opponents have taken 427 shots in close games in the Shaka Smart era\n",
      "In close game situations, Opponents take 37.24% 3-pointers vs 34.5% overall\n",
      "In close game situations, Opponents take 25.29% 2-pt jumpers vs 32.88% overall\n",
      "In close game situations, Opponents take 37.47% layups/dunks/tip-ins vs 32.63% overall\n",
      "\n",
      "Texas has turned the ball over 55 times in close-game situations\n",
      "Texas has forced 77 turnovers in close-game situations\n",
      "\n",
      "Texas has allowed 101 offensive rebounds in close-game situations\n",
      "Texas has gained 72 possessions through offensive rebounds\n"
     ]
    }
   ],
   "source": [
    "TFTPC = float(CloseGame['TFTM'].sum())/float(CloseGame['TFTA'].sum())*100\n",
    "TFTPNC = float(DataTable['TFTM'].sum())/float(DataTable['TFTA'].sum())*100\n",
    "print \"Texas shoots \" + str(round(TFTPC,2)) + \"% from Free Throws in close game situations\"\n",
    "print \"Texas shoots \" + str(round(TFTPNC,2)) + \"% from Free Throws in all situations\"\n",
    "\n",
    "print\n",
    "\n",
    "OFTPC = float(CloseGame['OFTM'].sum())/float(CloseGame['OFTA'].sum())*100\n",
    "OFTPNC = float(DataTable['OFTM'].sum())/float(DataTable['OFTA'].sum())*100\n",
    "print \"Opponents shoots \" + str(round(OFTPC,2)) + \"% from Free Throws in close game situations\"\n",
    "print \"Opponents shoots \" + str(round(OFTPNC,2)) + \"% from Free Throws in all situations\"\n",
    " \n",
    "print\n",
    "\n",
    "\n",
    "T3PPC = float(CloseGame['T3PM'].sum())/float(CloseGame['T3PA'].sum())*100\n",
    "T3PPNC = float(DataTable['T3PM'].sum())/float(DataTable['T3PA'].sum())*100\n",
    "print \"Texas shoots \" + str(round(T3PPC,2)) + \"% from 3 in close game situations\"\n",
    "print \"Texas shoots \" + str(round(T3PPNC,2)) + \"% from 3 in all situations\"\n",
    "\n",
    "print\n",
    "\n",
    "O3PPC = float(CloseGame['O3PM'].sum())/float(CloseGame['O3PA'].sum())*100\n",
    "O3PPNC = float(DataTable['O3PM'].sum())/float(DataTable['O3PA'].sum())*100\n",
    "print \"Opponents shoot \" + str(round(O3PPC,2)) + \"% from 3 in close game situations\"\n",
    "print \"Opponents shoot \" + str(round(O3PPNC,2)) + \"% from 3 in all situations\"\n",
    "\n",
    "print\n",
    "\n",
    "TJPC = float(CloseGame['TJM'].sum())/float(CloseGame['TJA'].sum())*100\n",
    "TJPNC = float(DataTable['TJM'].sum())/float(DataTable['TJA'].sum())*100\n",
    "print \"Texas shoots \" + str(round(TJPC,2)) + \"% on 2-pt jumpers in close game situations\"\n",
    "print \"Texas shoots \" + str(round(TJPNC,2)) + \"% on 2-pt jumpers in all situations\"\n",
    "\n",
    "print\n",
    "\n",
    "OJPC = float(CloseGame['OJM'].sum())/float(CloseGame['OJA'].sum())*100\n",
    "OJPNC = float(DataTable['OJM'].sum())/float(DataTable['OJA'].sum())*100\n",
    "print \"Opponents shoot \" + str(round(OJPC,2)) + \"% on 2-pt jumpers in close game situations\"\n",
    "print \"Opponents shoot \" + str(round(OJPNC,2)) + \"% on 2-pt jumpers in all situations\"\n",
    "\n",
    "print\n",
    "\n",
    "TLDPC = float(CloseGame['TLDM'].sum())/float(CloseGame['TLDA'].sum())*100\n",
    "TLDPNC = float(DataTable['TLDM'].sum())/float(DataTable['TLDA'].sum())*100\n",
    "print \"Texas shoots \" + str(round(TLDPC,2)) + \"% on Layups/Dunks/Tip-ins in close game situations\"\n",
    "print \"Texas shoots \" + str(round(TLDPNC,2)) + \"% on Layups/Dunks/Tip-ins in all situations\"\n",
    "\n",
    "print\n",
    "\n",
    "OLDPC = float(CloseGame['OLDM'].sum())/float(CloseGame['OLDA'].sum())*100\n",
    "OLDPNC = float(DataTable['OLDM'].sum())/float(DataTable['OLDA'].sum())*100\n",
    "print \"Opponents shoot \" + str(round(OLDPC,2)) + \"% on Layups/Dunks/Tip-ins in close game situations\"\n",
    "print \"Opponents shoot \" + str(round(OLDPNC,2)) + \"% on Layups/Dunks/Tip-ins in all situations\"\n",
    "\n",
    "TTSC = float(CloseGame['T3PA'].sum() + CloseGame['TJA'].sum() + CloseGame['TLDA'].sum())\n",
    "TTSNC = float(DataTable['T3PA'].sum() + DataTable['TJA'].sum() + DataTable['TLDA'].sum())\n",
    "OTSC = float(CloseGame['O3PA'].sum() + CloseGame['OJA'].sum() + CloseGame['OLDA'].sum())\n",
    "OTSNC = float(DataTable['O3PA'].sum() + DataTable['OJA'].sum() + DataTable['OLDA'].sum())\n",
    "\n",
    "print\n",
    "\n",
    "print \"Texas has taken \" + str(int(TTSC)) + \" shots in close games in the Shaka Smart era\"\n",
    "print \"In close game situations, Texas takes \" + str(round((CloseGame['T3PA'].sum()/TTSC)*100, 2)) + \"% 3-pointers vs \" + str(round((DataTable['T3PA'].sum()/TTSNC)*100, 2)) + \"% overall\"\n",
    "print \"In close game situations, Texas takes \" + str(round((CloseGame['TJA'].sum()/TTSC)*100, 2)) + \"% 2-pt jumpers vs \" + str(round((DataTable['TJA'].sum()/TTSNC)*100, 2)) + \"% overall\"\n",
    "print \"In close game situations, Texas takes \" + str(round((CloseGame['TLDA'].sum()/TTSC)*100, 2)) + \"% layups/dunks/tip-ins vs \" + str(round((DataTable['TLDA'].sum()/TTSNC)*100, 2)) + \"% overall\"\n",
    "\n",
    "print\n",
    "\n",
    "print \"Opponents have taken \" + str(int(OTSC)) + \" shots in close games in the Shaka Smart era\"\n",
    "print \"In close game situations, Opponents take \" + str(round((CloseGame['O3PA'].sum()/OTSC)*100, 2)) + \"% 3-pointers vs \" + str(round((DataTable['O3PA'].sum()/OTSNC)*100, 2)) + \"% overall\"\n",
    "print \"In close game situations, Opponents take \" + str(round((CloseGame['OJA'].sum()/OTSC)*100, 2)) + \"% 2-pt jumpers vs \" + str(round((DataTable['OJA'].sum()/OTSNC)*100, 2)) + \"% overall\"\n",
    "print \"In close game situations, Opponents take \" + str(round((CloseGame['OLDA'].sum()/OTSC)*100, 2)) + \"% layups/dunks/tip-ins vs \" + str(round((DataTable['OLDA'].sum()/OTSNC)*100, 2)) + \"% overall\"\n",
    "\n",
    "print\n",
    "\n",
    "print \"Texas has turned the ball over \" + str(CloseGame['TTNV'].sum()) + \" times in close-game situations\"\n",
    "print \"Texas has forced \" + str(CloseGame['OTNV'].sum()) + \" turnovers in close-game situations\"\n",
    "\n",
    "print\n",
    "\n",
    "print \"Texas has allowed \" + str(CloseGame['OORB'].sum()) + \" offensive rebounds in close-game situations\"\n",
    "print \"Texas has gained \" + str(CloseGame['TORB'].sum()) + \" possessions through offensive rebounds\"\n",
    "\n"
   ]
  },
  {
   "cell_type": "markdown",
   "metadata": {},
   "source": [
    "### Crunch v All (Crunch = Within 5 with under 60 seocnds left)"
   ]
  },
  {
   "cell_type": "code",
   "execution_count": 4,
   "metadata": {},
   "outputs": [
    {
     "name": "stdout",
     "output_type": "stream",
     "text": [
      "Texas shoots 39.71% from 3 in close game situations\n",
      "Texas shoots 32.77% from 3 in all situations\n",
      "\n",
      "Opponents shoot 28.0% from 3 in close game situations\n",
      "Opponents shoot 33.53% from 3 in all situations\n",
      "\n",
      "Texas shoots 26.92% on 2-pt jumpers in close game situations\n",
      "Texas shoots 34.78% on 2-pt jumpers in all situations\n",
      "\n",
      "Opponents shoot 40.0% on 2-pt jumpers in close game situations\n",
      "Opponents shoot 33.75% on 2-pt jumpers in all situations\n",
      "\n",
      "Texas shoots 67.31% on Layups/Dunks/Tip-ins in close game situations\n",
      "Texas shoots 62.43% on Layups/Dunks/Tip-ins in all situations\n",
      "\n",
      "Opponents shoot 58.67% on Layups/Dunks/Tip-ins in close game situations\n",
      "Opponents shoot 59.8% on Layups/Dunks/Tip-ins in all situations\n",
      "\n",
      "Texas has taken 172 shots in close games in the Shaka Smart era\n",
      "In close game situations, Texas takes 39.53% 3-pointers vs 38.02% overall\n",
      "In close game situations, Texas takes 30.23% 2-pt jumpers vs 28.03% overall\n",
      "In close game situations, Texas takes 30.23% layups/dunks/tip-ins vs 33.95% overall\n",
      "\n",
      "Opponents have taken 200 shots in close games in the Shaka Smart era\n",
      "In close game situations, Opponents take 37.5% 3-pointers vs 34.5% overall\n",
      "In close game situations, Opponents take 25.0% 2-pt jumpers vs 32.88% overall\n",
      "In close game situations, Opponents take 37.5% layups/dunks/tip-ins vs 32.63% overall\n",
      "\n",
      "Texas has turned the ball over 17 times in close-game situations\n",
      "Texas has forced 20 turnovers in close-game situations\n",
      "\n",
      "Texas has allowed 47 offensive rebounds in close-game situations\n",
      "Texas has gained 26 possessions through offensive rebounds\n",
      "\n",
      "Texas has fouled opponents 104 times in close situations\n",
      "Texas has been fouled 87 times in close situations\n"
     ]
    }
   ],
   "source": [
    "Crunch = CloseGame[CloseGame['Seconds'] < 60]\n",
    "RealCrunch = Crunch[abs(Crunch['AwayScore']-Crunch['HomeScore']) < 6]\n",
    "RealCrunch[-5:]\n",
    "\n",
    "T3PPC = float(RealCrunch['T3PM'].sum())/float(RealCrunch['T3PA'].sum())*100\n",
    "T3PPNC = float(DataTable['T3PM'].sum())/float(DataTable['T3PA'].sum())*100\n",
    "print \"Texas shoots \" + str(round(T3PPC,2)) + \"% from 3 in close game situations\"\n",
    "print \"Texas shoots \" + str(round(T3PPNC,2)) + \"% from 3 in all situations\"\n",
    "\n",
    "print\n",
    "\n",
    "O3PPC = float(RealCrunch['O3PM'].sum())/float(RealCrunch['O3PA'].sum())*100\n",
    "O3PPNC = float(DataTable['O3PM'].sum())/float(DataTable['O3PA'].sum())*100\n",
    "print \"Opponents shoot \" + str(round(O3PPC,2)) + \"% from 3 in close game situations\"\n",
    "print \"Opponents shoot \" + str(round(O3PPNC,2)) + \"% from 3 in all situations\"\n",
    "\n",
    "print\n",
    "\n",
    "TJPC = float(RealCrunch['TJM'].sum())/float(RealCrunch['TJA'].sum())*100\n",
    "TJPNC = float(DataTable['TJM'].sum())/float(DataTable['TJA'].sum())*100\n",
    "print \"Texas shoots \" + str(round(TJPC,2)) + \"% on 2-pt jumpers in close game situations\"\n",
    "print \"Texas shoots \" + str(round(TJPNC,2)) + \"% on 2-pt jumpers in all situations\"\n",
    "\n",
    "print\n",
    "\n",
    "OJPC = float(RealCrunch['OJM'].sum())/float(RealCrunch['OJA'].sum())*100\n",
    "OJPNC = float(DataTable['OJM'].sum())/float(DataTable['OJA'].sum())*100\n",
    "print \"Opponents shoot \" + str(round(OJPC,2)) + \"% on 2-pt jumpers in close game situations\"\n",
    "print \"Opponents shoot \" + str(round(OJPNC,2)) + \"% on 2-pt jumpers in all situations\"\n",
    "\n",
    "print\n",
    "\n",
    "TLDPC = float(RealCrunch['TLDM'].sum())/float(RealCrunch['TLDA'].sum())*100\n",
    "TLDPNC = float(DataTable['TLDM'].sum())/float(DataTable['TLDA'].sum())*100\n",
    "print \"Texas shoots \" + str(round(TLDPC,2)) + \"% on Layups/Dunks/Tip-ins in close game situations\"\n",
    "print \"Texas shoots \" + str(round(TLDPNC,2)) + \"% on Layups/Dunks/Tip-ins in all situations\"\n",
    "\n",
    "print\n",
    "\n",
    "OLDPC = float(RealCrunch['OLDM'].sum())/float(RealCrunch['OLDA'].sum())*100\n",
    "OLDPNC = float(DataTable['OLDM'].sum())/float(DataTable['OLDA'].sum())*100\n",
    "print \"Opponents shoot \" + str(round(OLDPC,2)) + \"% on Layups/Dunks/Tip-ins in close game situations\"\n",
    "print \"Opponents shoot \" + str(round(OLDPNC,2)) + \"% on Layups/Dunks/Tip-ins in all situations\"\n",
    "\n",
    "TTSC = float(RealCrunch['T3PA'].sum() + RealCrunch['TJA'].sum() + RealCrunch['TLDA'].sum())\n",
    "TTSNC = float(DataTable['T3PA'].sum() + DataTable['TJA'].sum() + DataTable['TLDA'].sum())\n",
    "OTSC = float(RealCrunch['O3PA'].sum() + RealCrunch['OJA'].sum() + RealCrunch['OLDA'].sum())\n",
    "OTSNC = float(DataTable['O3PA'].sum() + DataTable['OJA'].sum() + DataTable['OLDA'].sum())\n",
    "\n",
    "print\n",
    "\n",
    "print \"Texas has taken \" + str(int(TTSC)) + \" shots in close games in the Shaka Smart era\"\n",
    "print \"In close game situations, Texas takes \" + str(round((RealCrunch['T3PA'].sum()/TTSC)*100, 2)) + \"% 3-pointers vs \" + str(round((DataTable['T3PA'].sum()/TTSNC)*100, 2)) + \"% overall\"\n",
    "print \"In close game situations, Texas takes \" + str(round((RealCrunch['TJA'].sum()/TTSC)*100, 2)) + \"% 2-pt jumpers vs \" + str(round((DataTable['TJA'].sum()/TTSNC)*100, 2)) + \"% overall\"\n",
    "print \"In close game situations, Texas takes \" + str(round((RealCrunch['TLDA'].sum()/TTSC)*100, 2)) + \"% layups/dunks/tip-ins vs \" + str(round((DataTable['TLDA'].sum()/TTSNC)*100, 2)) + \"% overall\"\n",
    "\n",
    "print\n",
    "\n",
    "print \"Opponents have taken \" + str(int(OTSC)) + \" shots in close games in the Shaka Smart era\"\n",
    "print \"In close game situations, Opponents take \" + str(round((RealCrunch['O3PA'].sum()/OTSC)*100, 2)) + \"% 3-pointers vs \" + str(round((DataTable['O3PA'].sum()/OTSNC)*100, 2)) + \"% overall\"\n",
    "print \"In close game situations, Opponents take \" + str(round((RealCrunch['OJA'].sum()/OTSC)*100, 2)) + \"% 2-pt jumpers vs \" + str(round((DataTable['OJA'].sum()/OTSNC)*100, 2)) + \"% overall\"\n",
    "print \"In close game situations, Opponents take \" + str(round((RealCrunch['OLDA'].sum()/OTSC)*100, 2)) + \"% layups/dunks/tip-ins vs \" + str(round((DataTable['OLDA'].sum()/OTSNC)*100, 2)) + \"% overall\"\n",
    "\n",
    "print\n",
    "\n",
    "print \"Texas has turned the ball over \" + str(RealCrunch['TTNV'].sum()) + \" times in close-game situations\"\n",
    "print \"Texas has forced \" + str(RealCrunch['OTNV'].sum()) + \" turnovers in close-game situations\"\n",
    "\n",
    "print\n",
    "\n",
    "print \"Texas has allowed \" + str(RealCrunch['OORB'].sum()) + \" offensive rebounds in close-game situations\"\n",
    "print \"Texas has gained \" + str(RealCrunch['TORB'].sum()) + \" possessions through offensive rebounds\"\n",
    "\n",
    "print\n",
    "TexPoss = RealCrunch[RealCrunch['Possession'] == \"Texas\"]\n",
    "TexFouls = TexPoss['Foul'].sum()\n",
    "OppFouls = RealCrunch['Foul'].sum() - TexFouls\n",
    "print \"Texas has fouled opponents \" + str(OppFouls) + \" times in close situations\"\n",
    "print \"Texas has been fouled \" + str(TexFouls) + \" times in close situations\"\n",
    "\n"
   ]
  },
  {
   "cell_type": "code",
   "execution_count": 5,
   "metadata": {},
   "outputs": [
    {
     "name": "stdout",
     "output_type": "stream",
     "text": [
      "In crunch scenarios, Texas has an expected value of 1.042 per shot\n",
      "In crunch scenarios, Opponents have an expected value of 0.965 per shot\n",
      "\n",
      "Texas shoots the ball on 75.27% of crunch-time possessions\n",
      "Opponents shoot the ball on 83.16% of crunch-time possessions\n",
      "\n",
      "Texas turns the ball over on 7.44% of crunch-time possessions\n",
      "Opponents turn the ball over on 8.32% of crunch-time possessions\n",
      "\n",
      "Texas gets fouled on 45.51% of crunch-time possessions\n",
      "Opponents get fouled on 36.17% of crunch-time possessions\n",
      "\n",
      "Texas shoots 67.0% from the free throw line overall\n",
      "Texas shoots 65.0% from the free throw line in crunch situations\n"
     ]
    }
   ],
   "source": [
    "TEV = round((float(RealCrunch['T3PA'].sum())/TTSC), 2)*(T3PPC/100)*3 + round(float(RealCrunch['TJA'].sum()/TTSC), 2)*(TJPC/100)*2 + round(float(RealCrunch['TLDA'].sum()/TTSC), 2)*(TLDPC/100)*2\n",
    "print \"In crunch scenarios, Texas has an expected value of \" + str(round(TEV,3))  + \" per shot\"\n",
    "\n",
    "OEV = round(float(RealCrunch['O3PA'].sum()/OTSC), 2)*(O3PPC/100)*3 + round(float(RealCrunch['OJA'].sum()/OTSC), 2)*(OJPC/100)*2 + round(float(RealCrunch['OLDA'].sum()/OTSC), 2)*(OLDPC/100)*2\n",
    "print \"In crunch scenarios, Opponents have an expected value of \" + str(round(OEV,3))  + \" per shot\"\n",
    "\n",
    "TexPoss = RealCrunch['TJA'].sum() + RealCrunch['TLDA'].sum() + RealCrunch['T3PA'].sum() + RealCrunch['TTNV'].sum() - RealCrunch['TORB'].sum() +  float(RealCrunch['TFTA'].sum())/2\n",
    "\n",
    "\n",
    "OppPoss = RealCrunch['OJA'].sum() + RealCrunch['OLDA'].sum() + RealCrunch['O3PA'].sum() + RealCrunch['OTNV'].sum() - RealCrunch['OORB'].sum() + float(RealCrunch['OFTA'].sum())/2\n",
    "print\n",
    "\n",
    "print \"Texas shoots the ball on \" + str(round((float(RealCrunch['TJA'].sum() + RealCrunch['TLDA'].sum() + RealCrunch['T3PA'].sum())/TexPoss)*100,2)) + \"% of crunch-time possessions\"\n",
    "\n",
    "print \"Opponents shoot the ball on \" + str(round((float(RealCrunch['OJA'].sum() + RealCrunch['OLDA'].sum() + RealCrunch['O3PA'].sum())/OppPoss)*100,2)) + \"% of crunch-time possessions\"\n",
    "\n",
    "print \n",
    "\n",
    "print \"Texas turns the ball over on \" + str(round((float(RealCrunch['TTNV'].sum())/TexPoss)*100,2)) + \"% of crunch-time possessions\"\n",
    "\n",
    "print \"Opponents turn the ball over on \" + str(round((float(RealCrunch['OTNV'].sum())/OppPoss)*100,2)) + \"% of crunch-time possessions\"\n",
    "\n",
    "print \n",
    "\n",
    "print \"Texas gets fouled on \" + str(round(float(OppFouls)/TexPoss*100,2)) + \"% of crunch-time possessions\"\n",
    "\n",
    "print \"Opponents get fouled on \" + str(round(float(TexFouls)/OppPoss*100,2)) + \"% of crunch-time possessions\"\n",
    "\n",
    "TFTPC = float(RealCrunch['TFTM'].sum())/float(RealCrunch['TFTA'].sum())\n",
    "TFTP = float(DataTable['TFTM'].sum())/float(DataTable['TFTA'].sum())\n",
    "print\n",
    "print \"Texas shoots \" + str(round(TFTP,2)*100) + \"% from the free throw line overall\"\n",
    "print \"Texas shoots \" + str(round(TFTPC,2)*100) + \"% from the free throw line in crunch situations\""
   ]
  },
  {
   "cell_type": "code",
   "execution_count": 9,
   "metadata": {},
   "outputs": [],
   "source": [
    "NumGames = len(DataTable[DataTable['Text'] == \"['game']\"])"
   ]
  },
  {
   "cell_type": "code",
   "execution_count": null,
   "metadata": {},
   "outputs": [],
   "source": []
  },
  {
   "cell_type": "code",
   "execution_count": 6,
   "metadata": {},
   "outputs": [
    {
     "name": "stdout",
     "output_type": "stream",
     "text": [
      "115.54\n",
      "113.51\n",
      "104.23\n"
     ]
    }
   ],
   "source": [
    "TexOffPtsScored = RealCrunch['TJM'].sum()*2 + RealCrunch['TLDM'].sum()*2 + RealCrunch['T3PM'].sum()*3 + RealCrunch['TFTM'].sum()\n",
    "TexOffEff = float(TexOffPtsScored)/TexPoss*100\n",
    "print round(TexOffEff,2)\n",
    "\n",
    "OppOffPtsScored = RealCrunch['OJM'].sum()*2 + RealCrunch['OLDM'].sum()*2 + RealCrunch['O3PM'].sum()*3 + RealCrunch['OFTM'].sum()\n",
    "TexDefEff = float(OppOffPtsScored)/OppPoss*100\n",
    "print round(TexDefEff,2)\n",
    "\n",
    "TexFullOffPtsScored = TX2018['TJM'].sum()*2 + TX2018['TLDM'].sum()*2 + TX2018['T3PM'].sum()*3 + TX2018['TFTM'].sum()\n",
    "TexFullPoss = TX2018['TJA'].sum() + TX2018['TLDA'].sum() + TX2018['T3PA'].sum() + TX2018['TTNV'].sum() - TX2018['TORB'].sum() +  float(TX2018['TFTA'].sum())/2\n",
    "TexFullOffEff = float(TexFullOffPtsScored)/TexFullPoss*100\n",
    "print round(TexFullOffEff,2)"
   ]
  },
  {
   "cell_type": "code",
   "execution_count": 16,
   "metadata": {},
   "outputs": [
    {
     "name": "stdout",
     "output_type": "stream",
     "text": [
      "There have been 37 close wins under Shaka\n",
      "There have been 51 close losses under Shaka\n",
      "\n",
      "There have been 27 crunch wins under Shaka\n",
      "There have been 37 crunch losses under Shaka\n"
     ]
    }
   ],
   "source": [
    "CloseWins = CloseGame[CloseGame['Win'] == 1]\n",
    "CloseLoss = CloseGame[CloseGame['Win'] == 0]\n",
    "CrunchWins = RealCrunch[RealCrunch['Win'] == 1]\n",
    "CrunchLoss = RealCrunch[RealCrunch['Win'] == 0]\n",
    "\n",
    "\n",
    "NumCloseWins = CloseWins['Unique'].nunique()\n",
    "NumCloseLosses = CloseLoss['Unique'].nunique()\n",
    "\n",
    "NumRllyCloseWins = CrunchWins['Unique'].nunique()\n",
    "NumRllyCloseLosses = CrunchLoss['Unique'].nunique()\n",
    "\n",
    "print \"There have been \" + str(NumCloseWins) + \" close wins under Shaka\"\n",
    "print \"There have been \" + str(NumCloseLosses) + \" close losses under Shaka\"\n",
    "print\n",
    "print \"There have been \" + str(NumRllyCloseWins) + \" crunch wins under Shaka\"\n",
    "print \"There have been \" + str(NumRllyCloseLosses) + \" crunch losses under Shaka\""
   ]
  },
  {
   "cell_type": "markdown",
   "metadata": {},
   "source": [
    "# Close Wins v Close Losses"
   ]
  },
  {
   "cell_type": "code",
   "execution_count": 8,
   "metadata": {},
   "outputs": [
    {
     "name": "stdout",
     "output_type": "stream",
     "text": [
      "Texas shoots 48.98% from 3 in close wins\n",
      "Texas shoots 30.58% from 3 in close losses\n",
      "Texas shoots 32.77% from 3 in all situations\n",
      "\n",
      "Opponents shoot 26.21% from 3 in close (Texas) wins\n",
      "Opponents shoot 26.79% from 3 in close (Texas) losses\n",
      "Opponents shoot 33.53% from 3 in all situations\n",
      "\n",
      "Texas shoots 41.3% on 2-pt jumpers in close wins\n",
      "Texas shoots 27.4% on 2-pt jumpers in close losses\n",
      "Texas shoots 34.78% on 2-pt jumpers in all situations\n",
      "\n",
      "Opponents shoot 39.02% on 2-pt jumpers in close (Texas) wins\n",
      "Opponents shoot 46.27% on 2-pt jumpers in close (Texas) losses\n",
      "Opponents shoot 33.75% on 2-pt jumpers in all situations\n",
      "\n",
      "Texas shoots 66.67% on Layups/Dunks/Tip-ins in close wins\n",
      "Texas shoots 63.64% on Layups/Dunks/Tip-ins in close losses\n",
      "Texas shoots 62.43% on Layups/Dunks/Tip-ins in all situations\n",
      "\n",
      "Opponents shoot 52.33% on Layups/Dunks/Tip-ins in close (Texas) wins\n",
      "Opponents shoot 63.51% on Layups/Dunks/Tip-ins in close (Texas) losses\n",
      "Opponents shoot 59.8% on Layups/Dunks/Tip-ins in all situations\n",
      "\n",
      "Texas has taken 134 shots in close wins in the Shaka Smart era\n",
      "Texas has taken 304 shots in close losses in the Shaka Smart era\n",
      "In close wins, Texas takes 36.57% 3-pointers vs 39.8% in close losses\n",
      "In close wins, Texas takes 34.33% 2-pt jumpers vs 24.01% in close losses\n",
      "In close wins, Texas takes 29.1% layups/dunks/tip-ins vs 36.18% in close losses\n",
      "\n",
      "Opponents have taken 230 shots in close (Texas) wins in the Shaka Smart era\n",
      "Opponents have taken 197 shots in close (Texas) losses in the Shaka Smart era\n",
      "In close (Texas) wins, Opponents take 44.78% 3-pointers vs 28.43% in close (Texas) losses\n",
      "In close (Texas) wins, Opponents take 17.83% 2-pt jumpers vs 34.01% in close (Texas) losses\n",
      "In close (Texas) wins, Opponents take 37.39% layups/dunks/tip-ins vs 37.56% in close (Texas) losses\n",
      "\n",
      "Texas has turned the ball over 0.49 times per game in close wins\n",
      "Texas has turned the ball over 0.73 times per game in close losses\n",
      "Texas has forced 0.73 turnovers per game in close wins\n",
      "Texas has forced 0.98 turnovers per game in close losses\n",
      "\n",
      "Texas has allowed 1.49 offensive rebounds per game in close wins\n",
      "Texas has allowed 0.9 offensive rebounds per game in close losses\n",
      "Texas has gained 0.68 possessions per game through offensive rebounds in close wins\n",
      "Texas has gained 0.92 possessions per game through offensive rebounds in close losses\n",
      "\n",
      "\n",
      "Texas has fouled opponents 1.43 times per game in close wins, leading to 1.43 points per game\n",
      "Texas has fouled opponents 2.98 times per game in close losses, leading to 3.18 points per game\n",
      "Texas has been fouled 3.14 times per game in close wins, leading to 3.81 points per game\n",
      "Texas has been fouled 1.24 times per game in close losses, leading to 1.27 points per game\n"
     ]
    }
   ],
   "source": [
    "T3PPCW = float(CloseWins['T3PM'].sum())/float(CloseWins['T3PA'].sum())*100\n",
    "T3PPCL = float(CloseLoss['T3PM'].sum())/float(CloseLoss['T3PA'].sum())*100\n",
    "T3PPNCW = float(DataTable['T3PM'].sum())/float(DataTable['T3PA'].sum())*100\n",
    "print \"Texas shoots \" + str(round(T3PPCW,2)) + \"% from 3 in close wins\"\n",
    "print \"Texas shoots \" + str(round(T3PPCL,2)) + \"% from 3 in close losses\"\n",
    "print \"Texas shoots \" + str(round(T3PPNCW,2)) + \"% from 3 in all situations\"\n",
    "\n",
    "print\n",
    "\n",
    "O3PPCW = float(CloseWins['O3PM'].sum())/float(CloseWins['O3PA'].sum())*100\n",
    "O3PPCL = float(CloseLoss['O3PM'].sum())/float(CloseLoss['O3PA'].sum())*100\n",
    "O3PPNCW = float(DataTable['O3PM'].sum())/float(DataTable['O3PA'].sum())*100\n",
    "print \"Opponents shoot \" + str(round(O3PPCW,2)) + \"% from 3 in close (Texas) wins\"\n",
    "print \"Opponents shoot \" + str(round(O3PPCL,2)) + \"% from 3 in close (Texas) losses\"\n",
    "print \"Opponents shoot \" + str(round(O3PPNCW,2)) + \"% from 3 in all situations\"\n",
    "\n",
    "print\n",
    "\n",
    "TJPCW = float(CloseWins['TJM'].sum())/float(CloseWins['TJA'].sum())*100\n",
    "TJPCL = float(CloseLoss['TJM'].sum())/float(CloseLoss['TJA'].sum())*100\n",
    "TJPNCW = float(DataTable['TJM'].sum())/float(DataTable['TJA'].sum())*100\n",
    "print \"Texas shoots \" + str(round(TJPCW,2)) + \"% on 2-pt jumpers in close wins\"\n",
    "print \"Texas shoots \" + str(round(TJPCL,2)) + \"% on 2-pt jumpers in close losses\"\n",
    "print \"Texas shoots \" + str(round(TJPNCW,2)) + \"% on 2-pt jumpers in all situations\"\n",
    "\n",
    "print\n",
    "\n",
    "OJPCW = float(CloseWins['OJM'].sum())/float(CloseWins['OJA'].sum())*100\n",
    "OJPL = float(CloseLoss['OJM'].sum())/float(CloseLoss['OJA'].sum())*100\n",
    "OJPNCW = float(DataTable['OJM'].sum())/float(DataTable['OJA'].sum())*100\n",
    "print \"Opponents shoot \" + str(round(OJPCW,2)) + \"% on 2-pt jumpers in close (Texas) wins\"\n",
    "print \"Opponents shoot \" + str(round(OJPL,2)) + \"% on 2-pt jumpers in close (Texas) losses\"\n",
    "print \"Opponents shoot \" + str(round(OJPNCW,2)) + \"% on 2-pt jumpers in all situations\"\n",
    "\n",
    "print\n",
    "\n",
    "TLDPCW = float(CloseWins['TLDM'].sum())/float(CloseWins['TLDA'].sum())*100\n",
    "TLDPCL = float(CloseLoss['TLDM'].sum())/float(CloseLoss['TLDA'].sum())*100\n",
    "TLDPNCW = float(DataTable['TLDM'].sum())/float(DataTable['TLDA'].sum())*100\n",
    "print \"Texas shoots \" + str(round(TLDPCW,2)) + \"% on Layups/Dunks/Tip-ins in close wins\"\n",
    "print \"Texas shoots \" + str(round(TLDPCL,2)) + \"% on Layups/Dunks/Tip-ins in close losses\"\n",
    "print \"Texas shoots \" + str(round(TLDPNCW,2)) + \"% on Layups/Dunks/Tip-ins in all situations\"\n",
    "\n",
    "print\n",
    "\n",
    "OLDPCW = float(CloseWins['OLDM'].sum())/float(CloseWins['OLDA'].sum())*100\n",
    "OLDPCL = float(CloseLoss['OLDM'].sum())/float(CloseLoss['OLDA'].sum())*100\n",
    "OLDPNCW = float(DataTable['OLDM'].sum())/float(DataTable['OLDA'].sum())*100\n",
    "print \"Opponents shoot \" + str(round(OLDPCW,2)) + \"% on Layups/Dunks/Tip-ins in close (Texas) wins\"\n",
    "print \"Opponents shoot \" + str(round(OLDPCL,2)) + \"% on Layups/Dunks/Tip-ins in close (Texas) losses\"\n",
    "print \"Opponents shoot \" + str(round(OLDPNCW,2)) + \"% on Layups/Dunks/Tip-ins in all situations\"\n",
    "\n",
    "TTSCW = float(CloseWins['T3PA'].sum() + CloseWins['TJA'].sum() + CloseWins['TLDA'].sum())\n",
    "TTSCL = float(CloseLoss['T3PA'].sum() + CloseLoss['TJA'].sum() + CloseLoss['TLDA'].sum())\n",
    "TTSNCW = float(DataTable['T3PA'].sum() + DataTable['TJA'].sum() + DataTable['TLDA'].sum())\n",
    "\n",
    "OTSCW = float(CloseWins['O3PA'].sum() + CloseWins['OJA'].sum() + CloseWins['OLDA'].sum())\n",
    "OTSCL = float(CloseLoss['O3PA'].sum() + CloseLoss['OJA'].sum() + CloseLoss['OLDA'].sum())\n",
    "OTSNCW = float(DataTable['O3PA'].sum() + DataTable['OJA'].sum() + DataTable['OLDA'].sum())\n",
    "\n",
    "print\n",
    "\n",
    "print \"Texas has taken \" + str(int(TTSCW)) + \" shots in close wins in the Shaka Smart era\"\n",
    "print \"Texas has taken \" + str(int(TTSCL)) + \" shots in close losses in the Shaka Smart era\"\n",
    "print \"In close wins, Texas takes \" + str(round((CloseWins['T3PA'].sum()/TTSCW)*100, 2)) + \"% 3-pointers vs \" + str(round((CloseLoss['T3PA'].sum()/TTSCL)*100, 2)) + \"% in close losses\"\n",
    "print \"In close wins, Texas takes \" + str(round((CloseWins['TJA'].sum()/TTSCW)*100, 2)) + \"% 2-pt jumpers vs \" + str(round((CloseLoss['TJA'].sum()/TTSCL)*100, 2)) + \"% in close losses\"\n",
    "print \"In close wins, Texas takes \" + str(round((CloseWins['TLDA'].sum()/TTSCW)*100, 2)) + \"% layups/dunks/tip-ins vs \" + str(round((CloseLoss['TLDA'].sum()/TTSCL)*100, 2)) + \"% in close losses\"\n",
    "\n",
    "print\n",
    "\n",
    "print \"Opponents have taken \" + str(int(OTSCW)) + \" shots in close (Texas) wins in the Shaka Smart era\"\n",
    "print \"Opponents have taken \" + str(int(OTSCL)) + \" shots in close (Texas) losses in the Shaka Smart era\"\n",
    "print \"In close (Texas) wins, Opponents take \" + str(round((CloseWins['O3PA'].sum()/OTSCW)*100, 2)) + \"% 3-pointers vs \" + str(round((CloseLoss['O3PA'].sum()/OTSCL)*100, 2)) + \"% in close (Texas) losses\"\n",
    "print \"In close (Texas) wins, Opponents take \" + str(round((CloseWins['OJA'].sum()/OTSCW)*100, 2)) + \"% 2-pt jumpers vs \" + str(round((CloseLoss['OJA'].sum()/OTSCL)*100, 2)) + \"% in close (Texas) losses\"\n",
    "print \"In close (Texas) wins, Opponents take \" + str(round((CloseWins['OLDA'].sum()/OTSCW)*100, 2)) + \"% layups/dunks/tip-ins vs \" + str(round((CloseLoss['OLDA'].sum()/OTSCL)*100, 2)) + \"% in close (Texas) losses\"\n",
    "\n",
    "print\n",
    "\n",
    "print \"Texas has turned the ball over \" + str(round(float(CloseWins['TTNV'].sum())/float(NumCloseWins),2)) + \" times per game in close wins\"\n",
    "print \"Texas has turned the ball over \" + str(round(float(CloseLoss['TTNV'].sum())/float(NumCloseLosses),2)) + \" times per game in close losses\"\n",
    "print \"Texas has forced \" + str(round(float(CloseWins['OTNV'].sum())/float(NumCloseWins),2)) + \" turnovers per game in close wins\"\n",
    "print \"Texas has forced \" + str(round(float(CloseLoss['OTNV'].sum())/float(NumCloseLosses),2)) + \" turnovers per game in close losses\"\n",
    "\n",
    "print\n",
    "\n",
    "print \"Texas has allowed \" +  str(round(float(CloseWins['OORB'].sum())/float(NumCloseWins),2)) + \" offensive rebounds per game in close wins\"\n",
    "print \"Texas has allowed \" + str(round(float(CloseLoss['OORB'].sum())/float(NumCloseLosses),2)) + \" offensive rebounds per game in close losses\"\n",
    "print \"Texas has gained \" + str(round(float(CloseWins['TORB'].sum())/float(NumCloseWins),2)) + \" possessions per game through offensive rebounds in close wins\"\n",
    "print \"Texas has gained \" + str(round(float(CloseLoss['TORB'].sum())/float(NumCloseLosses),2)) + \" possessions per game through offensive rebounds in close losses\"\n",
    "\n",
    "print\n",
    "TexPossCW = CloseWins[CloseWins['Possession'] == \"Texas\"]\n",
    "TexPossCL = CloseLoss[CloseLoss['Possession'] == \"Texas\"]\n",
    "TexFoulsCW = TexPossCW['Foul'].sum()\n",
    "TexFoulsCL = TexPossCL['Foul'].sum()\n",
    "OppFoulsCW = CloseWins['Foul'].sum() - TexFoulsCW\n",
    "OppFoulsCL = CloseLoss['Foul'].sum() - TexFoulsCL\n",
    "\n",
    "print\n",
    "\n",
    "print \"Texas has fouled opponents \" + str(round(float(OppFoulsCW)/float(NumCloseWins),2)) + \" times per game in close wins, leading to \" + str(round(float(CloseWins['OFTM'].sum())/float(NumCloseWins),2)) + \" points per game\"\n",
    "print \"Texas has fouled opponents \" + str(round(float(OppFoulsCL)/float(NumCloseLosses),2)) + \" times per game in close losses, leading to \" + str(round(float(CloseLoss['OFTM'].sum())/float(NumCloseLosses),2)) + \" points per game\"\n",
    "print \"Texas has been fouled \" + str(round(float(TexFoulsCW)/float(NumCloseWins),2)) + \" times per game in close wins, leading to \" + str(round(float(CloseWins['TFTM'].sum())/float(NumCloseWins),2)) + \" points per game\"\n",
    "print \"Texas has been fouled \" + str(round(float(TexFoulsCL)/float(NumCloseLosses),2)) + \" times per game in close losses, leading to \" + str(round(float(CloseLoss['TFTM'].sum())/float(NumCloseLosses),2)) + \" points per game\""
   ]
  },
  {
   "cell_type": "code",
   "execution_count": 112,
   "metadata": {},
   "outputs": [
    {
     "name": "stdout",
     "output_type": "stream",
     "text": [
      "In general, Texas has an offensive officiency of 100.6\n",
      "In general, Texas has a defensive officiency of 97.98\n",
      "In close games, Texas has an offensive officiency of 115.72\n",
      "In close games, Texas has a defensive officiency of 111.33\n",
      "In close wins, Texas has an offensive officiency of 134.97\n",
      "In close losses, Texas has an offensive officiency of 103.19\n",
      "In close wins, Texas has a defensive officiency of 106.89\n",
      "In close losses, Texas has a defensive officiency of 114.69\n"
     ]
    }
   ],
   "source": [
    "TexOffPts = float(DataTable['TJM'].sum()*2 + DataTable['TLDM'].sum()*2 + DataTable['T3PM'].sum()*3 + DataTable['TFTM'].sum())\n",
    "TexPoss = float(DataTable['TJA'].sum() + DataTable['TLDA'].sum() + DataTable['T3PA'].sum() + DataTable['TTNV'].sum() - DataTable['TORB'].sum() +  float(DataTable['TFTA'].sum())/2)\n",
    "TexOffEff = TexOffPts/TexPoss*100\n",
    "\n",
    "print \"In general, Texas has an offensive officiency of \" + str(round(TexOffEff,2))\n",
    "\n",
    "OppOffPts = float(DataTable['OJM'].sum()*2 + DataTable['OLDM'].sum()*2 + DataTable['O3PM'].sum()*3 + DataTable['OFTM'].sum())\n",
    "OppPoss = float(DataTable['OJA'].sum() + DataTable['OLDA'].sum() + DataTable['O3PA'].sum() + DataTable['OTNV'].sum() - DataTable['OORB'].sum() +  float(DataTable['OFTA'].sum())/2)\n",
    "OppOffEff = OppOffPts/OppPoss*100\n",
    "\n",
    "print \"In general, Texas has a defensive officiency of \" + str(round(OppOffEff,2))\n",
    "\n",
    "\n",
    "TexClOffPts = float(CloseGame['TJM'].sum()*2 + CloseGame['TLDM'].sum()*2 + CloseGame['T3PM'].sum()*3 + CloseGame['TFTM'].sum())\n",
    "TexClPoss = float(CloseGame['TJA'].sum() + CloseGame['TLDA'].sum() + CloseGame['T3PA'].sum() + CloseGame['TTNV'].sum() - CloseGame['TORB'].sum() +  float(CloseGame['TFTA'].sum())/2)\n",
    "TexClOffEff = TexClOffPts/TexClPoss*100\n",
    "\n",
    "print \"In close games, Texas has an offensive officiency of \" + str(round(TexClOffEff,2))\n",
    "\n",
    "OppClOffPts = float(CloseGame['OJM'].sum()*2 + CloseGame['OLDM'].sum()*2 + CloseGame['O3PM'].sum()*3 + CloseGame['OFTM'].sum())\n",
    "OppClPoss = float(CloseGame['OJA'].sum() + CloseGame['OLDA'].sum() + CloseGame['O3PA'].sum() + CloseGame['OTNV'].sum() - CloseGame['OORB'].sum() +  float(CloseGame['OFTA'].sum())/2)\n",
    "OppClOffEff = OppClOffPts/OppClPoss*100\n",
    "\n",
    "print \"In close games, Texas has a defensive officiency of \" + str(round(OppClOffEff,2))\n",
    "\n",
    "\n",
    "TexClWOffPts = float(CloseWins['TJM'].sum()*2 + CloseWins['TLDM'].sum()*2 + CloseWins['T3PM'].sum()*3 + CloseWins['TFTM'].sum())\n",
    "TexClWPoss = float(CloseWins['TJA'].sum() + CloseWins['TLDA'].sum() + CloseWins['T3PA'].sum() + CloseWins['TTNV'].sum() - CloseWins['TORB'].sum() +  float(CloseWins['TFTA'].sum())/2)\n",
    "TexClWOffEff = TexClWOffPts/TexClWPoss*100\n",
    "\n",
    "print \"In close wins, Texas has an offensive officiency of \" + str(round(TexClWOffEff,2))\n",
    "\n",
    "TexClLOffPts = float(CloseLoss['TJM'].sum()*2 + CloseLoss['TLDM'].sum()*2 + CloseLoss['T3PM'].sum()*3 + CloseLoss['TFTM'].sum())\n",
    "TexClLPoss = float(CloseLoss['TJA'].sum() + CloseLoss['TLDA'].sum() + CloseLoss['T3PA'].sum() + CloseLoss['TTNV'].sum() - CloseLoss['TORB'].sum() +  float(CloseLoss['TFTA'].sum())/2)\n",
    "TexClLOffEff = TexClLOffPts/TexClLPoss*100\n",
    "\n",
    "print \"In close losses, Texas has an offensive officiency of \" + str(round(TexClLOffEff,2))\n",
    "\n",
    "OppClWOffPts = float(CloseWins['OJM'].sum()*2 + CloseWins['OLDM'].sum()*2 + CloseWins['O3PM'].sum()*3 + CloseWins['OFTM'].sum())\n",
    "OppClWPoss = float(CloseWins['OJA'].sum() + CloseWins['OLDA'].sum() + CloseWins['O3PA'].sum() + CloseWins['OTNV'].sum() - CloseWins['OORB'].sum() +  float(CloseWins['OFTA'].sum())/2)\n",
    "OppClWOffEff = OppClWOffPts/OppClWPoss*100\n",
    "\n",
    "print \"In close wins, Texas has a defensive officiency of \" + str(round(OppClWOffEff,2))\n",
    "\n",
    "OppClLOffPts = float(CloseLoss['OJM'].sum()*2 + CloseLoss['OLDM'].sum()*2 + CloseLoss['O3PM'].sum()*3 + CloseLoss['OFTM'].sum())\n",
    "OppClLPoss = float(CloseLoss['OJA'].sum() + CloseLoss['OLDA'].sum() + CloseLoss['O3PA'].sum() + CloseLoss['OTNV'].sum() - CloseLoss['OORB'].sum() +  float(CloseLoss['OFTA'].sum())/2)\n",
    "OppClLOffEff = OppClLOffPts/OppClLPoss*100\n",
    "\n",
    "print \"In close losses, Texas has a defensive officiency of \" + str(round(OppClLOffEff,2))"
   ]
  },
  {
   "cell_type": "markdown",
   "metadata": {},
   "source": [
    "# Crunch Wins v Crunch Losses"
   ]
  },
  {
   "cell_type": "code",
   "execution_count": 88,
   "metadata": {},
   "outputs": [
    {
     "name": "stdout",
     "output_type": "stream",
     "text": [
      "There have been 27 crunch wins under Shaka\n",
      "There have been 37 crunch losses under Shaka\n",
      "Texas shoots 58.82% from 3 in crunch wins on 17 shots\n",
      "Texas shoots 33.33% from 3 in crunch losses on 51 shots\n",
      "Texas shoots 32.77% from 3 in all situations on 2820 shots\n",
      "\n",
      "Opponents shoot 29.17% from 3 in crunch (Texas) wins on 48 shots\n",
      "Opponents shoot 25.93% from 3 in crunch (Texas) losses on 27 shots\n",
      "Opponents shoot 33.53% from 3 in all situations 2583 shots\n",
      "\n",
      "Texas shoots 42.11% on 2-pt jumpers in crunch wins on 19 shots\n",
      "Texas shoots 18.18% on 2-pt jumpers in crunch losses on 33 shots\n",
      "Texas shoots 34.78% on 2-pt jumpers in all situations on 2079 shots\n",
      "\n",
      "Opponents shoot 36.84% on 2-pt jumpers in crunch (Texas) wins on 19 shots\n",
      "Opponents shoot 41.94% on 2-pt jumpers in crunch (Texas) losses on 31 shots\n",
      "Opponents shoot 33.75% on 2-pt jumpers in all situations on 2462 shots\n",
      "\n",
      "Texas shoots 66.67% on Layups/Dunks/Tip-ins in crunch wins on 12 shots\n",
      "Texas shoots 67.5% on Layups/Dunks/Tip-ins in crunch losses on 40 shots\n",
      "Texas shoots 66.67% on Layups/Dunks/Tip-ins in all situations on 2518 shots\n",
      "\n",
      "Opponents shoot 47.06% on Layups/Dunks/Tip-ins in crunch (Texas) wins on 34 shots\n",
      "Opponents shoot 68.29% on Layups/Dunks/Tip-ins in crunch (Texas) losses on 41 shots\n",
      "Opponents shoot 59.8% on Layups/Dunks/Tip-ins in all situations on 2443 shots\n",
      "\n",
      "Texas has taken 48 shots in crunch wins in the Shaka Smart era\n",
      "Texas has taken 124 shots in crunch losses in the Shaka Smart era\n",
      "In crunch wins, Texas takes 35.42% 3-pointers vs 41.13% in crunch losses\n",
      "In crunch wins, Texas takes 39.58% 2-pt jumpers vs 26.61% in crunch losses\n",
      "In crunch wins, Texas takes 25.0% layups/dunks/tip-ins vs 11.27% in crunch losses\n",
      "\n",
      "Opponents have taken 101 shots in crunch (Texas) wins in the Shaka Smart era\n",
      "Opponents have taken 99 shots in crunch (Texas) losses in the Shaka Smart era\n",
      "In crunch (Texas) wins, Opponents take 47.52% 3-pointers vs 27.27% in crunch (Texas) losses\n",
      "In crunch (Texas) wins, Opponents take 18.81% 2-pt jumpers vs 31.31% in crunch (Texas) losses\n",
      "In crunch (Texas) wins, Opponents take 33.66% layups/dunks/tip-ins vs 41.41% in crunch (Texas) losses\n",
      "\n",
      "Texas has turned the ball over 0.19 times per game in crunch wins\n",
      "Texas has turned the ball over 0.32 times per game in crunch losses\n",
      "Texas has forced 0.3 turnovers per game in crunch wins\n",
      "Texas has forced 0.32 turnovers per game in crunch losses\n",
      "\n",
      "Texas has allowed 0.74 offensive rebounds per game in crunch wins\n",
      "Texas has allowed 0.73 offensive rebounds per game in crunch losses\n",
      "Texas has gained 0.37 possessions per game through offensive rebounds in crunch wins\n",
      "Texas has gained 0.43 possessions per game through offensive rebounds in crunch losses\n",
      "\n",
      "\n",
      "Texas has fouled opponents 0.93 times per game in crunch wins, leading to 0.74 points per game\n",
      "Texas has fouled opponents 2.14 times per game in crunch losses, leading to 1.68 points per game\n",
      "Texas has been fouled 2.07 times per game in crunch wins, leading to 1.85 points per game\n",
      "Texas has been fouled 0.84 times per game in crunch situations, leading to 0.95 points per game\n"
     ]
    }
   ],
   "source": [
    "print \"There have been \" + str(NumRllyCloseWins) + \" crunch wins under Shaka\"\n",
    "print \"There have been \" + str(NumRllyCloseLosses) + \" crunch losses under Shaka\"\n",
    "\n",
    "T3PPCrW = float(CrunchWins['T3PM'].sum())/float(CrunchWins['T3PA'].sum())*100\n",
    "T3PPCrL = float(CrunchLoss['T3PM'].sum())/float(CrunchLoss['T3PA'].sum())*100\n",
    "T3PPNCW = float(DataTable['T3PM'].sum())/float(DataTable['T3PA'].sum())*100\n",
    "print \"Texas shoots \" + str(round(T3PPCrW,2)) + \"% from 3 in crunch wins on \" + str(CrunchWins['T3PA'].sum()) + \" shots\"\n",
    "print \"Texas shoots \" + str(round(T3PPCrL,2)) + \"% from 3 in crunch losses on \" + str(CrunchLoss['T3PA'].sum()) + \" shots\"\n",
    "print \"Texas shoots \" + str(round(T3PPNCW,2)) + \"% from 3 in all situations on \" + str(DataTable['T3PA'].sum()) + \" shots\"\n",
    "\n",
    "print\n",
    "\n",
    "O3PPCrW = float(CrunchWins['O3PM'].sum())/float(CrunchWins['O3PA'].sum())*100\n",
    "O3PPCrL = float(CrunchLoss['O3PM'].sum())/float(CrunchLoss['O3PA'].sum())*100\n",
    "O3PPNCW = float(DataTable['O3PM'].sum())/float(DataTable['O3PA'].sum())*100\n",
    "print \"Opponents shoot \" + str(round(O3PPCrW,2)) + \"% from 3 in crunch (Texas) wins on \" + str(CrunchWins['O3PA'].sum()) + \" shots\"\n",
    "print \"Opponents shoot \" + str(round(O3PPCrL,2)) + \"% from 3 in crunch (Texas) losses on \" + str(CrunchLoss['O3PA'].sum()) + \" shots\"\n",
    "print \"Opponents shoot \" + str(round(O3PPNCW,2)) + \"% from 3 in all situations \" + str(DataTable['O3PA'].sum()) + \" shots\"\n",
    "\n",
    "print\n",
    "\n",
    "TJPCrW = float(CrunchWins['TJM'].sum())/float(CrunchWins['TJA'].sum())*100\n",
    "TJPCrL = float(CrunchLoss['TJM'].sum())/float(CrunchLoss['TJA'].sum())*100\n",
    "TJPNCW = float(DataTable['TJM'].sum())/float(DataTable['TJA'].sum())*100\n",
    "print \"Texas shoots \" + str(round(TJPCrW,2)) + \"% on 2-pt jumpers in crunch wins on \" + str(CrunchWins['TJA'].sum()) + \" shots\"\n",
    "print \"Texas shoots \" + str(round(TJPCrL,2)) + \"% on 2-pt jumpers in crunch losses on \" + str(CrunchLoss['TJA'].sum()) + \" shots\"\n",
    "print \"Texas shoots \" + str(round(TJPNCW,2)) + \"% on 2-pt jumpers in all situations on \" + str(DataTable['TJA'].sum()) + \" shots\"\n",
    "\n",
    "print\n",
    "\n",
    "OJPCrW = float(CrunchWins['OJM'].sum())/float(CrunchWins['OJA'].sum())*100\n",
    "OJPCrL = float(CrunchLoss['OJM'].sum())/float(CrunchLoss['OJA'].sum())*100\n",
    "OJPNCW = float(DataTable['OJM'].sum())/float(DataTable['OJA'].sum())*100\n",
    "print \"Opponents shoot \" + str(round(OJPCrW,2)) + \"% on 2-pt jumpers in crunch (Texas) wins on \" + str(CrunchWins['OJA'].sum()) + \" shots\"\n",
    "print \"Opponents shoot \" + str(round(OJPCrL,2)) + \"% on 2-pt jumpers in crunch (Texas) losses on \" + str(CrunchLoss['OJA'].sum()) + \" shots\"\n",
    "print \"Opponents shoot \" + str(round(OJPNCW,2)) + \"% on 2-pt jumpers in all situations on \" + str(DataTable['OJA'].sum()) + \" shots\"\n",
    "\n",
    "print\n",
    "\n",
    "TLDPCrW = float(CrunchWins['TLDM'].sum())/float(CrunchWins['TLDA'].sum())*100\n",
    "TLDPCrL = float(CrunchLoss['TLDM'].sum())/float(CrunchLoss['TLDA'].sum())*100\n",
    "TLDPNCW = float(DataTable['TLDM'].sum())/float(DataTable['TLDA'].sum())*100\n",
    "print \"Texas shoots \" + str(round(TLDPCrW,2)) + \"% on Layups/Dunks/Tip-ins in crunch wins on \" + str(CrunchWins['TLDA'].sum()) + \" shots\"\n",
    "print \"Texas shoots \" + str(round(TLDPCrL,2)) + \"% on Layups/Dunks/Tip-ins in crunch losses on \" + str(CrunchLoss['TLDA'].sum()) + \" shots\"\n",
    "print \"Texas shoots \" + str(round(TLDPCrW,2)) + \"% on Layups/Dunks/Tip-ins in all situations on \" + str(DataTable['TLDA'].sum()) + \" shots\"\n",
    "\n",
    "print\n",
    "\n",
    "OLDPCrW = float(CrunchWins['OLDM'].sum())/float(CrunchWins['OLDA'].sum())*100\n",
    "OLDPCrL = float(CrunchLoss['OLDM'].sum())/float(CrunchLoss['OLDA'].sum())*100\n",
    "OLDPNCW = float(DataTable['OLDM'].sum())/float(DataTable['OLDA'].sum())*100\n",
    "print \"Opponents shoot \" + str(round(OLDPCrW,2)) + \"% on Layups/Dunks/Tip-ins in crunch (Texas) wins on \" + str(CrunchWins['OLDA'].sum()) + \" shots\"\n",
    "print \"Opponents shoot \" + str(round(OLDPCrL,2)) + \"% on Layups/Dunks/Tip-ins in crunch (Texas) losses on \" + str(CrunchLoss['OLDA'].sum()) + \" shots\"\n",
    "print \"Opponents shoot \" + str(round(OLDPNCW,2)) + \"% on Layups/Dunks/Tip-ins in all situations on \" + str(DataTable['OLDA'].sum()) + \" shots\"\n",
    "\n",
    "TTSCrW = float(CrunchWins['T3PA'].sum() + CrunchWins['TJA'].sum() + CrunchWins['TLDA'].sum())\n",
    "TTSCrL = float(CrunchLoss['T3PA'].sum() + CrunchLoss['TJA'].sum() + CrunchLoss['TLDA'].sum())\n",
    "TTSNCW = float(DataTable['T3PA'].sum() + DataTable['TJA'].sum() + DataTable['TLDA'].sum())\n",
    "\n",
    "OTSCrW = float(CrunchWins['O3PA'].sum() + CrunchWins['OJA'].sum() + CrunchWins['OLDA'].sum())\n",
    "OTSCrL = float(CrunchLoss['O3PA'].sum() + CrunchLoss['OJA'].sum() + CrunchLoss['OLDA'].sum())\n",
    "OTSNCW = float(DataTable['O3PA'].sum() + DataTable['OJA'].sum() + DataTable['OLDA'].sum())\n",
    "\n",
    "print\n",
    "\n",
    "print \"Texas has taken \" + str(int(TTSCrW)) + \" shots in crunch wins in the Shaka Smart era\"\n",
    "print \"Texas has taken \" + str(int(TTSCrL)) + \" shots in crunch losses in the Shaka Smart era\"\n",
    "print \"In crunch wins, Texas takes \" + str(round((CrunchWins['T3PA'].sum()/TTSCrW)*100, 2)) + \"% 3-pointers vs \" + str(round((CrunchLoss['T3PA'].sum()/TTSCrL)*100, 2)) + \"% in crunch losses\"\n",
    "print \"In crunch wins, Texas takes \" + str(round((CrunchWins['TJA'].sum()/TTSCrW)*100, 2)) + \"% 2-pt jumpers vs \" + str(round((CrunchLoss['TJA'].sum()/TTSCrL)*100, 2)) + \"% in crunch losses\"\n",
    "print \"In crunch wins, Texas takes \" + str(round((CrunchWins['TLDA'].sum()/TTSCrW)*100, 2)) + \"% layups/dunks/tip-ins vs \" + str(round((CrunchLoss['TLDA'].sum()/TTSCL)*100, 2)) + \"% in crunch losses\"\n",
    "\n",
    "print\n",
    "\n",
    "print \"Opponents have taken \" + str(int(OTSCrW)) + \" shots in crunch (Texas) wins in the Shaka Smart era\"\n",
    "print \"Opponents have taken \" + str(int(OTSCrL)) + \" shots in crunch (Texas) losses in the Shaka Smart era\"\n",
    "print \"In crunch (Texas) wins, Opponents take \" + str(round((CrunchWins['O3PA'].sum()/OTSCrW)*100, 2)) + \"% 3-pointers vs \" + str(round((CrunchLoss['O3PA'].sum()/OTSCrL)*100, 2)) + \"% in crunch (Texas) losses\"\n",
    "print \"In crunch (Texas) wins, Opponents take \" + str(round((CrunchWins['OJA'].sum()/OTSCrW)*100, 2)) + \"% 2-pt jumpers vs \" + str(round((CrunchLoss['OJA'].sum()/OTSCrL)*100, 2)) + \"% in crunch (Texas) losses\"\n",
    "print \"In crunch (Texas) wins, Opponents take \" + str(round((CrunchWins['OLDA'].sum()/OTSCrW)*100, 2)) + \"% layups/dunks/tip-ins vs \" + str(round((CrunchLoss['OLDA'].sum()/OTSCrL)*100, 2)) + \"% in crunch (Texas) losses\"\n",
    "\n",
    "print\n",
    "\n",
    "print \"Texas has turned the ball over \" + str(round(float(CrunchWins['TTNV'].sum())/float(NumRllyCloseWins),2)) + \" times per game in crunch wins\"\n",
    "print \"Texas has turned the ball over \" + str(round(float(CrunchLoss['TTNV'].sum())/float(NumRllyCloseLosses),2)) + \" times per game in crunch losses\"\n",
    "print \"Texas has forced \" + str(round(float(CrunchWins['OTNV'].sum())/float(NumRllyCloseWins),2)) + \" turnovers per game in crunch wins\"\n",
    "print \"Texas has forced \" + str(round(float(CrunchLoss['OTNV'].sum())/float(NumRllyCloseLosses),2)) + \" turnovers per game in crunch losses\"\n",
    "\n",
    "print\n",
    "\n",
    "print \"Texas has allowed \" +  str(round(float(CrunchWins['OORB'].sum())/float(NumRllyCloseWins),2)) + \" offensive rebounds per game in crunch wins\"\n",
    "print \"Texas has allowed \" + str(round(float(CrunchLoss['OORB'].sum())/float(NumRllyCloseLosses),2)) + \" offensive rebounds per game in crunch losses\"\n",
    "print \"Texas has gained \" + str(round(float(CrunchWins['TORB'].sum())/float(NumRllyCloseWins),2)) + \" possessions per game through offensive rebounds in crunch wins\"\n",
    "print \"Texas has gained \" + str(round(float(CrunchLoss['TORB'].sum())/float(NumRllyCloseLosses),2)) + \" possessions per game through offensive rebounds in crunch losses\"\n",
    "\n",
    "print\n",
    "TexPossCrW = CrunchWins[CrunchWins['Possession'] == \"Texas\"]\n",
    "TexPossCrL = CrunchLoss[CrunchLoss['Possession'] == \"Texas\"]\n",
    "TexFoulsCrW = TexPossCrW['Foul'].sum()\n",
    "TexFoulsCrL = TexPossCrL['Foul'].sum()\n",
    "OppFoulsCrW = CrunchWins['Foul'].sum() - TexFoulsCrW\n",
    "OppFoulsCrL = CrunchLoss['Foul'].sum() - TexFoulsCrL\n",
    "\n",
    "print\n",
    "\n",
    "print \"Texas has fouled opponents \" + str(round(float(OppFoulsCrW)/float(NumRllyCloseWins),2)) + \" times per game in crunch wins, leading to \" + str(round(float(CrunchWins['OFTM'].sum())/float(NumRllyCloseWins),2)) + \" points per game\"\n",
    "print \"Texas has fouled opponents \" + str(round(float(OppFoulsCrL)/float(NumRllyCloseLosses),2)) + \" times per game in crunch losses, leading to \" + str(round(float(CrunchLoss['OFTM'].sum())/float(NumRllyCloseLosses),2)) + \" points per game\"\n",
    "print \"Texas has been fouled \" + str(round(float(TexFoulsCrW)/float(NumRllyCloseWins),2)) + \" times per game in crunch wins, leading to \" + str(round(float(CrunchWins['TFTM'].sum())/float(NumRllyCloseWins),2)) + \" points per game\"\n",
    "print \"Texas has been fouled \" + str(round(float(TexFoulsCrL)/float(NumRllyCloseLosses),2)) + \" times per game in crunch situations, leading to \" + str(round(float(CrunchLoss['TFTM'].sum())/float(NumRllyCloseLosses),2)) + \" points per game\""
   ]
  },
  {
   "cell_type": "code",
   "execution_count": 89,
   "metadata": {},
   "outputs": [
    {
     "name": "stdout",
     "output_type": "stream",
     "text": [
      "In crunch wins, Texas has an offensive officiency of 134.94\n",
      "In crunch losses, Texas has an offensive officiency of 104.47\n",
      "In crunch wins, Texas has a defensive officiency of 103.85\n",
      "In crunch losses, Texas has a defensive officiency of 120.88\n"
     ]
    }
   ],
   "source": [
    "TexCrWOffPts = float(CrunchWins['TJM'].sum()*2 + CrunchWins['TLDM'].sum()*2 + CrunchWins['T3PM'].sum()*3 + CrunchWins['TFTM'].sum())\n",
    "TexCrWPoss = float(CrunchWins['TJA'].sum() + CrunchWins['TLDA'].sum() + CrunchWins['T3PA'].sum() + CrunchWins['TTNV'].sum() - CrunchWins['TORB'].sum() +  float(CrunchWins['TFTA'].sum())/2)\n",
    "TexCrWOffEff = TexCrWOffPts/TexCrWPoss*100\n",
    "\n",
    "print \"In crunch wins, Texas has an offensive officiency of \" + str(round(TexCrWOffEff,2))\n",
    "\n",
    "TexCrLOffPts = float(CrunchLoss['TJM'].sum()*2 + CrunchLoss['TLDM'].sum()*2 + CrunchLoss['T3PM'].sum()*3 + CrunchLoss['TFTM'].sum())\n",
    "TexCrLPoss = float(CrunchLoss['TJA'].sum() + CrunchLoss['TLDA'].sum() + CrunchLoss['T3PA'].sum() + CrunchLoss['TTNV'].sum() - CrunchLoss['TORB'].sum() +  float(CrunchLoss['TFTA'].sum())/2)\n",
    "TexCrLOffEff = TexCrLOffPts/TexCrLPoss*100\n",
    "\n",
    "print \"In crunch losses, Texas has an offensive officiency of \" + str(round(TexCrLOffEff,2))\n",
    "\n",
    "OppCrWOffPts = float(CrunchWins['OJM'].sum()*2 + CrunchWins['OLDM'].sum()*2 + CrunchWins['O3PM'].sum()*3 + CrunchWins['OFTM'].sum())\n",
    "OppCrWPoss = float(CrunchWins['OJA'].sum() + CrunchWins['OLDA'].sum() + CrunchWins['O3PA'].sum() + CrunchWins['OTNV'].sum() - CrunchWins['OORB'].sum() +  float(CrunchWins['OFTA'].sum())/2)\n",
    "OppCrWOffEff = OppCrWOffPts/OppCrWPoss*100\n",
    "\n",
    "print \"In crunch wins, Texas has a defensive officiency of \" + str(round(OppCrWOffEff,2))\n",
    "\n",
    "OppCrLOffPts = float(CrunchLoss['OJM'].sum()*2 + CrunchLoss['OLDM'].sum()*2 + CrunchLoss['O3PM'].sum()*3 + CrunchLoss['OFTM'].sum())\n",
    "OppCrLPoss = float(CrunchLoss['OJA'].sum() + CrunchLoss['OLDA'].sum() + CrunchLoss['O3PA'].sum() + CrunchLoss['OTNV'].sum() - CrunchLoss['OORB'].sum() +  float(CrunchLoss['OFTA'].sum())/2)\n",
    "OppCrLOffEff = OppCrLOffPts/OppCrLPoss*100\n",
    "\n",
    "print \"In crunch losses, Texas has a defensive officiency of \" + str(round(OppCrLOffEff,2))"
   ]
  },
  {
   "cell_type": "code",
   "execution_count": 94,
   "metadata": {},
   "outputs": [
    {
     "name": "stdout",
     "output_type": "stream",
     "text": [
      "In his Texas career, Shaka holds a 65-65 record.\n",
      "In his Texas career, Shaka holds a 33-45 record in BigXII games.\n"
     ]
    },
    {
     "data": {
      "text/plain": [
       "array(['TTU', 'KSU', 'TCU', 'ISU', 'OKST', 'WVU', 'KU', 'BAY', 'OKLA'],\n",
       "      dtype=object)"
      ]
     },
     "execution_count": 94,
     "metadata": {},
     "output_type": "execute_result"
    }
   ],
   "source": [
    "AllWins = DataTable[DataTable['Win'] == 1]\n",
    "AllLosses = DataTable[DataTable['Win'] == 0]\n",
    "Big12 = DataTable[DataTable['Big12'] == 1]\n",
    "Big12Wins = Big12[Big12['Win'] == 1]\n",
    "Big12Losses = Big12[Big12['Win'] == 0]\n",
    "\n",
    "\n",
    "NumWins = AllWins['Unique'].nunique()\n",
    "NumLosses = AllLosses['Unique'].nunique()\n",
    "NumB12Wins = Big12Wins['Unique'].nunique()\n",
    "NumB12Losses = Big12Losses['Unique'].nunique()\n",
    "\n",
    "\n",
    "print \"In his Texas career, Shaka holds a \" + str(NumWins) + \"-\" + str(NumLosses) + \" record.\"\n",
    "print \"In his Texas career, Shaka holds a \" + str(NumB12Wins) + \"-\" + str(NumB12Losses) + \" record in BigXII games.\" \n",
    "\n",
    "DataTable[DataTable['Big12'] == 1]['Opponent'].unique()"
   ]
  }
 ],
 "metadata": {
  "kernelspec": {
   "display_name": "Python 2",
   "language": "python",
   "name": "python2"
  },
  "language_info": {
   "codemirror_mode": {
    "name": "ipython",
    "version": 2
   },
   "file_extension": ".py",
   "mimetype": "text/x-python",
   "name": "python",
   "nbconvert_exporter": "python",
   "pygments_lexer": "ipython2",
   "version": "2.7.15"
  }
 },
 "nbformat": 4,
 "nbformat_minor": 2
}
