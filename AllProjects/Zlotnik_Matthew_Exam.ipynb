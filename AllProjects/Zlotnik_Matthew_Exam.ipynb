{
 "cells": [
  {
   "cell_type": "code",
   "execution_count": 2,
   "metadata": {},
   "outputs": [
    {
     "name": "stdout",
     "output_type": "stream",
     "text": [
      "Populating the interactive namespace from numpy and matplotlib\n"
     ]
    }
   ],
   "source": [
    "from pandas import Series, DataFrame\n",
    "import pandas as pd\n",
    "import re\n",
    "%pylab inline"
   ]
  },
  {
   "cell_type": "markdown",
   "metadata": {},
   "source": [
    "---\n",
    "The exam is set up as follows:\n",
    "* Q1 has 4 parts, of 3 points each\n",
    "* Q2-Q9: 4 points each\n",
    "* Q10-Q13: 7 points each\n",
    "* Q14-Q15: 9 points each\n",
    "* Q16: 10 points\n",
    "\n",
    "The exam is open-book, open-notes, open-Google. You have 3 hours. Best of luck!"
   ]
  },
  {
   "cell_type": "markdown",
   "metadata": {},
   "source": [
    "---\n",
    "## Question 1\n",
    "\n",
    "![splotches](splotches.png)\n",
    "\n",
    "Consider the above classification problem. For each question below, answer using a percentage or a fraction, and give a brief justification. You may assume that each blob has the same number of points.\n",
    "\n",
    "### [Q1a 3 points] What accuracy can a logistic regression classifier achieve?"
   ]
  },
  {
   "cell_type": "markdown",
   "metadata": {},
   "source": [
    "A logistic regression classifier can achieve a 75% accuracy on these splotches by drawing a vertical line at x = 10 and classifying anything to the left as green and anything to the right as red. In this manner it will correctly classify the two splotches to the left as green and will correctly classify 4/6 splotches to the right as red, creating a 6/8 or 75% accuracy. "
   ]
  },
  {
   "cell_type": "markdown",
   "metadata": {},
   "source": [
    "### [Q1b 3 points] What is the accuracy of a decision tree with max_depth=1?\n",
    "\n",
    "Recall that a depth-1 decision tree looks like this:\n",
    "![depth1](depth1.png)"
   ]
  },
  {
   "cell_type": "markdown",
   "metadata": {},
   "source": [
    "A decision tree with max_depth = 1 would achieve the same accuracy as the logistic regression classified and use the same condition for splitting, which is that if x<-10, then classify as green, while if x>-10, classify as red. This will give you the same 6/8 or 75% accuracy"
   ]
  },
  {
   "cell_type": "markdown",
   "metadata": {},
   "source": [
    "### [Q1c 3 points] Best extension to depth-2 tree.\n",
    "Suppose you could extend the max_depth=1 tree you built above by an extra level to build a max_depth=2 tree. For example, your new tree can look like one of the following, with \"Condition 1\" being the same as the \"Condition\" in the tree you built for question (b).\n",
    "\n",
    "<table border=0 padding=0><tr><td> ![depth2a](depth2a.png) </td><td> or </td><td> ![depth2b](depth2b.png) </td></tr></table>\n",
    "\n",
    "What is the best accuracy you can get?"
   ]
  },
  {
   "cell_type": "markdown",
   "metadata": {},
   "source": [
    "Using the same condition 1 as in Q1b, we cannot improve the accuracy of our model, as we would need a depth of 3 to add any further predictive accuracy. Thus, the best accuracy we can get by adding one more condition to the condition from Q1b is also 75%"
   ]
  },
  {
   "cell_type": "markdown",
   "metadata": {},
   "source": [
    "### [Q1d 3 points] What is the best accuracy possible using a max_depth=2 decision tree?\n",
    "\n",
    "You are allowed to use any settings for Conditions 1, 2, and 3."
   ]
  },
  {
   "cell_type": "markdown",
   "metadata": {},
   "source": [
    "The max possible accuracy that can be obtained from using a tree of max depth = 2 is 100%. To do this, you would initially split on the condition x>0 or x<0. Then, if x>0, you split again on x>10 or x<10, and if x>10, classify as red, x<10 classify as green. For the x<0 side, you then use the condition x<-10, x>-10 and if it fits x<-10, classify as green, while if it fits x>-10, classify as red. Using this, you will correctly classify each splotch. The full rules are below\n",
    "\n",
    "if x>0 AND x>10, classify RED <br>\n",
    "if x>0 AND x<10, classify GREEN <br>\n",
    "if x<0 AND x<-10, classify GREEN <br>\n",
    "if x<0 AND x<0 AND x>>-10, classify RED"
   ]
  },
  {
   "cell_type": "markdown",
   "metadata": {},
   "source": [
    "---\n",
    "\n",
    "We will analyze a dataset about political consultants and the clients they work for. Each row records the particulars of one particular consultant working for one client in one reporting period. Here, we will describe some of the important columns:\n",
    "* **Reporting Period, Year, and Filing Date**: Political consultants must file records about the people they work for in every reporting period, e.g., July 1 - December 31. The year is self-explanatory. The \"Filing Date\" records the date on which the report was filed.\n",
    "* **Filing Type, Correction Type**: This specifies the kind of report being filed. If the Filing Type was CORRECTION, the Correction Type is noted.\n",
    "* **Political Consultant (PC) Name, PC Business Name**: The name of the dude doing the work, and the consulting company that he or she works for.\n",
    "* **Client Name, Client Type**: The name of the person or entity for whom the consultant is working, and the type of person or entity, e.g., \"public official\".\n",
    "* **Office Held/Sought**: The particulars of the public office that the client currently holds, or hopes to contest.\n",
    "* **Description of Services Provided**: What exactly is the consultant doing for the client?"
   ]
  },
  {
   "cell_type": "code",
   "execution_count": 12,
   "metadata": {},
   "outputs": [
    {
     "data": {
      "text/plain": [
       "2016"
      ]
     },
     "execution_count": 12,
     "metadata": {},
     "output_type": "execute_result"
    }
   ],
   "source": [
    "df = pd.read_csv('OneDrive/Documents/MSBA Summer 2018/Data Analytics Programming/consultant.csv')\n",
    "df.loc[0]['Year']"
   ]
  },
  {
   "cell_type": "markdown",
   "metadata": {},
   "source": [
    "### [Q2 4 points] What are the different types of \"Filing Type\"?"
   ]
  },
  {
   "cell_type": "code",
   "execution_count": 9,
   "metadata": {},
   "outputs": [
    {
     "data": {
      "text/plain": [
       "array(['PUBLIC DISCLOSURE', 'CORRECTION'], dtype=object)"
      ]
     },
     "execution_count": 9,
     "metadata": {},
     "output_type": "execute_result"
    }
   ],
   "source": [
    "df['Filing Type'].unique()"
   ]
  },
  {
   "cell_type": "markdown",
   "metadata": {},
   "source": [
    "### [Q3 4 points] Among the rows where \"Filing Type\" equals CORRECTION, what fraction have a valid \"Correction Type\"?\n",
    "\n",
    "The Correction Type entry is valid if it is not missing."
   ]
  },
  {
   "cell_type": "code",
   "execution_count": 307,
   "metadata": {},
   "outputs": [
    {
     "name": "stdout",
     "output_type": "stream",
     "text": [
      " Of the Correction filing type, 11.214953271028037% have valid correction types\n"
     ]
    }
   ],
   "source": [
    "CorrectionMask = df['Filing Type'] == 'CORRECTION'\n",
    "Correctiondf = df[CorrectionMask]\n",
    "print \"Of the Correction filing type,\", str(Correctiondf['Correction Type'].notnull().sum()/float(len(Correctiondf))*100) + \"% have valid correction types\"              "
   ]
  },
  {
   "cell_type": "markdown",
   "metadata": {},
   "source": [
    "### [Q4 4 points] Is it true that whenever \"Correction Type\" has valid (non-missing) entries, then the \"Filing Type\" is CORRECTION?"
   ]
  },
  {
   "cell_type": "code",
   "execution_count": 22,
   "metadata": {},
   "outputs": [
    {
     "name": "stdout",
     "output_type": "stream",
     "text": [
      "['CORRECTION']\n",
      "When the correction type is not missing, filing type is always correction\n"
     ]
    }
   ],
   "source": [
    "ValidCorrection = df[df['Correction Type'].notnull()]\n",
    "print ValidCorrection['Filing Type'].unique()\n",
    "\n",
    "print \"When the correction type is not missing, filing type is always correction\""
   ]
  },
  {
   "cell_type": "markdown",
   "metadata": {},
   "source": [
    "### [Q5 4 points] Convert the DataFrame into a time series with Filing Date as the index.\n",
    "\n",
    "Make sure the index is of type \"datetime\" and not \"string\". Also remember to sort the dates."
   ]
  },
  {
   "cell_type": "code",
   "execution_count": 52,
   "metadata": {},
   "outputs": [
    {
     "data": {
      "text/plain": [
       "Filing Date\n",
       "2017-02-03    DIRECT VOTER CONTACT - MAIL AND MEDIA\n",
       "2017-02-03                            TV COMMERCIAL\n",
       "2017-02-03                             DIRECT MAIL \n",
       "2017-02-03                              DIRECT MAIL\n",
       "2017-02-03                               COMPLIANCE\n",
       "Name: Description of Services Provided, dtype: object"
      ]
     },
     "execution_count": 52,
     "metadata": {},
     "output_type": "execute_result"
    }
   ],
   "source": [
    "Timedf = df.copy()\n",
    "Timedf['Filing Date'] = pd.to_datetime(Timedf['Filing Date'])\n",
    "Timedf.set_index('Filing Date', inplace = True)\n",
    "Timedf['Description of Services Provided'][:5]"
   ]
  },
  {
   "cell_type": "markdown",
   "metadata": {},
   "source": [
    "### [Q6 4 points] When the \"Client Type\" is \"PUBLIC OFFICIAL/CANDIDATE\", who are the top 10 most frequently mentioned clients (\"Client Name\")?"
   ]
  },
  {
   "cell_type": "code",
   "execution_count": 93,
   "metadata": {},
   "outputs": [
    {
     "data": {
      "text/plain": [
       "LANDER, BRAD           43\n",
       "DE BLASIO, BILL        39\n",
       "POWERS, KEITH          33\n",
       "DOYLE, JOHN            32\n",
       "VAN BRAMER, JIMMY      28\n",
       "CURRAN, LAURA          28\n",
       "WALTER, RUTH           28\n",
       "SILVER, MARY           28\n",
       "KALLOS, BEN            28\n",
       "SINGAS, MADELINE       28\n",
       "Name: Client Name, dtype: int64"
      ]
     },
     "execution_count": 93,
     "metadata": {},
     "output_type": "execute_result"
    }
   ],
   "source": [
    "PubOffCand = df[df['Client Type'] == 'PUBLIC OFFICIAL/CANDIDATE']\n",
    "PubOffCand['Client Name'].value_counts()[:10]"
   ]
  },
  {
   "cell_type": "markdown",
   "metadata": {},
   "source": [
    "### [Q7 4 points] Which 5 political offices (\"Office Held/Sought\") attract the most number of clients (\"Client Name\")?"
   ]
  },
  {
   "cell_type": "code",
   "execution_count": 44,
   "metadata": {},
   "outputs": [
    {
     "data": {
      "text/plain": [
       "NYC COUNCIL        171\n",
       "CITY COUNCIL       152\n",
       "CITY COUNCIL        58\n",
       "NY STATE SENATE     47\n",
       "MAYOR               40\n",
       "Name: Office Held/Sought, dtype: int64"
      ]
     },
     "execution_count": 44,
     "metadata": {},
     "output_type": "execute_result"
    }
   ],
   "source": [
    "df['Office Held/Sought'].value_counts()[:5]\n"
   ]
  },
  {
   "cell_type": "markdown",
   "metadata": {},
   "source": [
    "### [Q8 4 points] \"PAID COMMUNICATIONS\" and \"FIELD SERVICES\".\n",
    "\n",
    "Under \"Description of Services Provided\", you will find many strings containing the words \"PAID COMMUNICATIONS\" and also the words \"FIELD SERVICES\". Find all the different ways in which these services are described.\n",
    "* For example, you may find \"PAID COMMUNICATIONS & FIELD SERVICES\" and \"PAID COMMUNICATIONS AND FIELD SERVICES\".\n",
    "* What other variants are there?\n",
    "* NOTE: There are descriptions called just \"PAID COMMUNICATIONS\", that don't include \"FIELD SERVICES.\" We are not talking about these."
   ]
  },
  {
   "cell_type": "code",
   "execution_count": 83,
   "metadata": {},
   "outputs": [
    {
     "name": "stdout",
     "output_type": "stream",
     "text": [
      "There are 9 different ways that paid communications and field services are entered in the data frame\n",
      "['PAID COMMUNICATIONS AND FIELD SERVICES '\n",
      " 'PAID COMMUNICATIONS AND FIELD SERVICES'\n",
      " 'PAID COMMUNICATIONS AND FIELD SERVICES.  '\n",
      " 'PAID COMMUNICATIONS AND FIELD SERVICES.'\n",
      " 'PAID COMMUNICATIONS AND FIELD SERVICES. '\n",
      " 'PAID COMMUNICATIONS & FIELD SERVICES'\n",
      " 'PAID COMMUNICATIONS & FIELD SERVICES. '\n",
      " 'PAID COMMUNICATIONS & FIELD SERVICES '\n",
      " 'PAID COMMUNICATIONS & FIELD SERVICES.']\n"
     ]
    }
   ],
   "source": [
    "def findall (s):\n",
    "    found = re.findall('.*PAID COMMUNICATIONS.*FIELD SERVICES.*', s)\n",
    "    if len(found)>0:\n",
    "        return True\n",
    "    else:\n",
    "        return False\n",
    "\n",
    "df['PC FS'] = df['Description of Services Provided'].map(findall)\n",
    "PCFS = df[df['PC FS'] == True]\n",
    "print \"There are\", len(PCFS['Description of Services Provided'].unique()), \"different ways that paid communications and field services are entered in the data frame\"\n",
    "print PCFS['Description of Services Provided'].unique()"
   ]
  },
  {
   "cell_type": "markdown",
   "metadata": {},
   "source": [
    "### [Q9 4 points] Who uses the most different consultant companies?\n",
    "\n",
    "A candidate can have many different political consultants, but they may be from the same company. For each \"Client Name\" whose \"Client Type\" is \"PUBLIC OFFICIAL/CANDIDATE\", find out the number of unique consulting companies (\"PC Business Name\") with whom he or she has engaged. Print out the top 10 client names who have engaged with the most consulting companies."
   ]
  },
  {
   "cell_type": "code",
   "execution_count": 121,
   "metadata": {},
   "outputs": [
    {
     "data": {
      "text/plain": [
       "Client Name\n",
       "GONZALEZ, ERIC                  7\n",
       "ALCANTARA, MARISOL              6\n",
       "KLEIN, JEFFREY D                5\n",
       "DE LA ROSA, CARMEN              5\n",
       "GJONAJ, MARK                    4\n",
       "CARLUCCI, DAVID                 4\n",
       "AVELLA, TONY                    4\n",
       "KAMINSKY, TODD                  4\n",
       "LANDER, BRAD                    4\n",
       "FERRERAS-COPELAND, JULISSA      4\n",
       "Name: PC Business Name, dtype: int64"
      ]
     },
     "execution_count": 121,
     "metadata": {},
     "output_type": "execute_result"
    }
   ],
   "source": [
    "PublicOfficeCand = df[df['Client Type'] == 'PUBLIC OFFICIAL/CANDIDATE']\n",
    "pivot = pd.pivot_table(PublicOfficeCand, values = 'PC Business Name', aggfunc=lambda x: len(x.unique()), index = 'Client Name')\n",
    "pivot['PC Business Name'].sort_values(ascending = False)[:10]"
   ]
  },
  {
   "cell_type": "markdown",
   "metadata": {},
   "source": [
    "### [Q10 7 points] Plot the top 10  \"Description of Services Provided\", after cleaning up these descriptions.\n",
    "\n",
    "As we saw with \"PAID COMMUNICATIONS\" and , there are many ways of saying the same thing. So, we will try to come up with canonical descriptions.\n",
    "\n",
    "For each string under \"Description of Services Provided\", do the following steps (in this particular order):\n",
    "* Remove any spaces from the beginning of the string\n",
    "* Remove any spaces at the end of the string\n",
    "* Remove any full-stop ('.') at the end of the string\n",
    "\n",
    "Store these cleaned description in a new column called \"Cleaned Descriptions\", and plot the top 10 most frequent \"Cleaned Descriptions\"."
   ]
  },
  {
   "cell_type": "code",
   "execution_count": 127,
   "metadata": {},
   "outputs": [
    {
     "data": {
      "text/plain": [
       "<matplotlib.axes._subplots.AxesSubplot at 0xc825b38>"
      ]
     },
     "execution_count": 127,
     "metadata": {},
     "output_type": "execute_result"
    },
    {
     "data": {
      "image/png": "[encoded data removed]",
      "text/plain": [
       "<Figure size 432x288 with 1 Axes>"
      ]
     },
     "metadata": {},
     "output_type": "display_data"
    }
   ],
   "source": [
    "def cleaner (s):\n",
    "    s = s.lstrip(\" \")\n",
    "    s = s.strip(\" \")\n",
    "    s = s.lstrip(\".\")\n",
    "    return s\n",
    "\n",
    "df['Cleaned Descriptions'] = df['Description of Services Provided'].map(cleaner)\n",
    "df['Cleaned Descriptions'].value_counts()[:10].plot(kind='bar')"
   ]
  },
  {
   "cell_type": "markdown",
   "metadata": {},
   "source": [
    "### [Q11 7 points] Plot the number of filings for each month in the dataset.\n",
    "\n",
    "The x-axis should go from Jan 2017 to July 2018. Use the \"Filing Date\" as the date of filing."
   ]
  },
  {
   "cell_type": "code",
   "execution_count": 315,
   "metadata": {},
   "outputs": [
    {
     "data": {
      "image/png": "[encoded data removed]",
      "text/plain": [
       "<Figure size 432x288 with 1 Axes>"
      ]
     },
     "metadata": {},
     "output_type": "display_data"
    },
    {
     "name": "stdout",
     "output_type": "stream",
     "text": [
      "I am aware that this shows the total filings just sorted by month, not by month and by year, but I did not know how to sort by month and by year\n"
     ]
    }
   ],
   "source": [
    "TIMEDF = df.copy()\n",
    "TIMEDF['Filing Date'] = pd.to_datetime(TIMEDF['Filing Date'])\n",
    "df.groupby(TIMEDF['Filing Date'].dt.month).size().plot()\n",
    "show()\n",
    "\n",
    "print \"I am aware that this shows the total filings just sorted by month, not by month and by year, but I did not know how to sort by month and by year\""
   ]
  },
  {
   "cell_type": "markdown",
   "metadata": {},
   "source": [
    "### [Q12 7 points] What are the programs where consultants help with media relations and messaging support?\n",
    "\n",
    "In the \"Cleaned Descriptions\", you will find several strings of the form \"MEDIA RELATIONS AND MESSAGING SUPPORT\". Each such string lists the \"program\" which is getting the support. For example:\n",
    "* MEDIA RELATIONS AND MESSAGING SUPPORT FOR PACIFIC PARK BROOKLYN\n",
    "    * The program is \"FOR PACIFIC PARK BROOKLYN\"\n",
    "* MEDIA RELATIONS AND MESSAGING SUPPORT FOR LINKNYC\n",
    "    * The program is \"FOR LINKNYC\"\n",
    "* MEDIA RELATIONS AND MESSAGING SUPPORT AROUND FREELANCER ISSUES\n",
    "    * The program is \"AROUND FREELANCER ISSUES\"\n",
    "\n",
    "Print out all the unique programs getting such public relations support.\n",
    "\n",
    "**NOTE**: If you were unable to compute the Cleaned Descriptions in Q10, just say so in a comment, and use\n",
    "> df['Cleaned Descriptions'] = df['Description of Services Provided']"
   ]
  },
  {
   "cell_type": "code",
   "execution_count": 206,
   "metadata": {},
   "outputs": [
    {
     "name": "stdout",
     "output_type": "stream",
     "text": [
      "There are 25 different programs\n"
     ]
    },
    {
     "data": {
      "text/plain": [
       "{' AROUND FREELANCER ISSUES',\n",
       " ' AROUND FREELANCER ISSUES, INCLUDING NONPAYMENT PROTECTION',\n",
       " ' AROUND FREELANCER ISSUES, INCLUDING NONPAYMENT PROTECTION.',\n",
       " ' AROUND FREELANCER ISSUES.',\n",
       " ' FOR ADVOCACY CAMPAIGNS TO FIGHT HOMELESSNESS',\n",
       " ' FOR ADVOCACY CAMPAIGNS TO FIGHT HOMELESSNESS.',\n",
       " ' FOR CITI BIKE',\n",
       " ' FOR CITI BIKE.',\n",
       " ' FOR CRIMINAL JUSTICE REFORM EFFORTS IN NY.',\n",
       " ' FOR LIBRARY REDEVELOPMENT',\n",
       " ' FOR LIBRARY REDEVELOPMENT.',\n",
       " ' FOR LINKNYC',\n",
       " ' FOR LINKNYC.',\n",
       " ' FOR PACIFIC PARK BROOKLYN',\n",
       " ' FOR PACIFIC PARK BROOKLYN.',\n",
       " ' FOR PARK BROOKLYN',\n",
       " ' FOR SEVERAL NON-PROFIT PROGRAMS  AND PROJECTS, AND ADVOCACY FOR PEOPLE WITH HIV/AIDS.',\n",
       " ' FOR SEVERAL NON-PROFIT PROGRAMS AND ADVOCACY FOR PEOPLE WITH HIV/AIDS.',\n",
       " ' FOR SEVERAL NON-PROFIT PROGRAMS AND PROJECTS',\n",
       " ' FOR SEVERAL NON-PROFIT PROGRAMS AND PROJECTS AND ADVOCACY FOR PEOPLE WITH HIV/AIDS.',\n",
       " ' FOR SEVERAL NON-PROFIT PROGRAMS AND PROJECTS, AND ADVOCACY FOR PEOPLE WITH HIV/AIDS',\n",
       " ' FOR SEVERAL NON-PROFIT PROGRAMS AND PROJECTS, AND ADVOCACY FOR PEOPLE WITH HIV/AIDS.',\n",
       " ' FOR SEVERAL NON-PROFIT PROGRAMS AND PROJECTS.',\n",
       " ' FOR SEVERAL NON-PROFIT PROGRAMS, PROJECTS AND ADVOCACY FOR PEOPLE WITH HIV/AIDS.',\n",
       " ' FOR THE LIBRARY REDEVELOPMENT'}"
      ]
     },
     "execution_count": 206,
     "metadata": {},
     "output_type": "execute_result"
    }
   ],
   "source": [
    "descrlist = df['Cleaned Descriptions'].unique()\n",
    "\n",
    "Media_Rel = []\n",
    "for descr in descrlist:\n",
    "    unsplit = re.findall('.*MEDIA RELATIONS AND MESSAGING SUPPORT.*', descr)\n",
    "    if len(unsplit)>0:\n",
    "        program = unsplit[0].split('MEDIA RELATIONS AND MESSAGING SUPPORT')[-1]\n",
    "        Media_Rel.append(program)\n",
    "\n",
    "Media_Rel = set(Media_Rel)\n",
    "print \"There are\", len(Media_Rel), \"different programs\"\n",
    "Media_Rel\n",
    "                    "
   ]
  },
  {
   "cell_type": "markdown",
   "metadata": {},
   "source": [
    "### [Q13 7 points] Unique senate districts.\n",
    "\n",
    "Consider all \"Office Held/Sought\" fields of the form \"NYS SENATE *blah* DISTRICT\". Extract the district identifier (*blah*) and figure out the number of unique districts represented in the data. For example:\n",
    "* \"NYS SENATE 31ST DISTRICT\" $\\Rightarrow$ district identifier is \"31ST\""
   ]
  },
  {
   "cell_type": "code",
   "execution_count": 234,
   "metadata": {},
   "outputs": [
    {
     "name": "stdout",
     "output_type": "stream",
     "text": [
      "There are 11 unique senate districts in the data set\n",
      "['31' '38' '34' '11' '36' '18' '80' '20' '13' '23' '53']\n"
     ]
    },
    {
     "name": "stderr",
     "output_type": "stream",
     "text": [
      "C:\\Users\\blueh\\Anaconda2\\lib\\site-packages\\ipykernel_launcher.py:25: SettingWithCopyWarning: \n",
      "A value is trying to be set on a copy of a slice from a DataFrame.\n",
      "Try using .loc[row_indexer,col_indexer] = value instead\n",
      "\n",
      "See the caveats in the documentation: http://pandas.pydata.org/pandas-docs/stable/indexing.html#indexing-view-versus-copy\n"
     ]
    }
   ],
   "source": [
    "def senateornot(s):\n",
    "    string = re.findall('NYS SENATE.*[0-9].*DISTRICT', s)\n",
    "    if len(string) >0:\n",
    "        return True\n",
    "    else:\n",
    "        return False\n",
    "\n",
    "\n",
    "def getdistrict(s):\n",
    "    s = s.split(\"SENATE\")[-1]\n",
    "    s = s.lstrip('-')\n",
    "    s = s.rstrip(\" DISTRICT\")\n",
    "    s = s.rstrip(\"TH\")\n",
    "    s = s.rstrip(\"RD\")\n",
    "    s = s.lstrip(\" \")\n",
    "    return s\n",
    "\n",
    "Senatedf = df.copy()\n",
    "\n",
    "Senatedf['Senate'] = Senatedf['Office Held/Sought'].dropna().map(senateornot)\n",
    "\n",
    "JustSenate = Senatedf[Senatedf['Senate'] == True]\n",
    "JustSenate['Office Held/Sought'].unique()\n",
    "\n",
    "JustSenate['District'] = JustSenate['Office Held/Sought'].map(getdistrict)\n",
    "\n",
    "print \"There are\", len(JustSenate['District'].unique()), \"unique senate districts in the data set\"\n",
    "\n",
    "print JustSenate['District'].unique()\n",
    "\n",
    "\n"
   ]
  },
  {
   "cell_type": "markdown",
   "metadata": {},
   "source": [
    "### [Q14 9 points] Find clients who hire multiple consultant firms for the same job.\n",
    "\n",
    "For each pair of \"Client Name\" and \"Cleaned Descriptions\", figure out the number of unique \"PC Business Names\" who have done work of that description for that client. List the clients who had 4 or more PC Businesses work on some \"Cleaned Description.\"\n",
    "For example:\n",
    "* If client BILL BLASIO had 3 consulting firms for \"DIRECT VOTER CONTACT\", 2 firms for \"DIRECT MAIL\" and 5 firms for \"PAID COMMUNICATIONS\", we want to list BILL BLASIO in the output since \"PAID COMMUNICATIONS\" had 5 firms.\n",
    "* If client ERIC GONZALEZ had 3 firms for \"DIRECT VOTER CONTACT\" and 3 firms for \"DIRECT MAIL\", we won't output ERIC GONZALEZ since all Cleaned Descriptions had fewer than 4 associated firms."
   ]
  },
  {
   "cell_type": "code",
   "execution_count": 329,
   "metadata": {},
   "outputs": [
    {
     "name": "stdout",
     "output_type": "stream",
     "text": [
      "All listed client description pairs with True listed have more than 4, I did not have time to clean the output to only show client\n"
     ]
    },
    {
     "data": {
      "text/plain": [
       "COALITION FOR THE HOMELESS, MEDIA RELATIONS AND MESSAGING SUPPORT FOR ADVOCACY CAMPAIGNS TO FIGHT HOMELESSNESS.                                                                                                                       True\n",
       "ARCHDIOCESE OF NEW YORK, MEDIA RELATIONS, CREATIVE DESIGN SERVICES SUPPORT.                                                                                                                                                           True\n",
       "PROFESSIONAL STAFF CONGRESS, MESSAGING STRATEGY AND MEDIA RELATIONS IN SUPPORT OF INCREASED HIGHER EDUCATION FUNDING.                                                                                                                 True\n",
       "THE FREELANCERS UNION, MEDIA RELATIONS AND MESSAGING SUPPORT AROUND FREELANCER ISSUES, INCLUDING NONPAYMENT PROTECTION.                                                                                                               True\n",
       "FRIENDS OF THE BQX, MESSAGING STRATEGY AND MEDIA RELATIONS IN SUPPORT OF THE BQX STREETCAR.                                                                                                                                           True\n",
       "PACIFIC PARK 615 DEAN, LLC (FOREST CITY RATNER COMPANIES), MEDIA RELATIONS AND MESSAGING SUPPORT FOR PACIFIC PARK BROOKLYN.                                                                                                           True\n",
       "ONE PENN PLAZA, LLC - VORNADO REALTY TRUST, MESSAGING STRATEGY AND MEDIA RELATIONS IN SUPPORT OF RENOVATION OF PENN STATION.                                                                                                          True\n",
       "VALLEY STREAM GREEN ACRES LLC (MACERICH), MESSAGING STRATEGY AND MEDIA RELATIONS SUPPORT IN RELATION TO GREEN ACRES MALL.                                                                                                             True\n",
       "MGM RESORTS INTERNATIONAL, MESSAGING STRATEGY AND MEDIA RELATIONS IN SUPPORT OF GAMING RELATED ISSUES.                                                                                                                                True\n",
       "MCR DEVELOPMENT LLC, MESSAGING STRATEGY AND MEDIA RELATIONS SUPPORT IN RELATION TO TWA HOTEL DEVELOPMENT AT JFK AIRPORT.                                                                                                              True\n",
       "TWO TREES MANAGEMENT, MEDIA RELATIONS IN SUPPORT OF DEVELOPMENT.                                                                                                                                                                      True\n",
       "BROOKLYN PUBLIC LIBRARY, MEDIA RELATIONS AND MESSAGING SUPPORT FOR LIBRARY REDEVELOPMENT.                                                                                                                                             True\n",
       "DIEGO BEEKMAN MUTUAL HOUSING ASSOCIATION, MESSAGING STRATEGY AND MEDIA RELATIONS.                                                                                                                                                     True\n",
       "GAY MEN'S HEALTH CRISIS, MEDIA RELATIONS AND MESSAGING SUPPORT FOR SEVERAL NON-PROFIT PROGRAMS AND PROJECTS, AND ADVOCACY FOR PEOPLE WITH HIV/AIDS.                                                                                   True\n",
       "WEST SIDE FEDERATION FOR SENIOR AND SUPPORTIVE HOUSING, MESSAGING STRATEGY AND MEDIA RELATIONS SUPPORT IN RELATION TO PROPOSED DEVELOPMENT ON WEST 108TH ST.                                                                          True\n",
       "LYFT, INC., MESSAGING STRATEGY AND MEDIA RELATIONS IN SUPPORT OF RIDESHARING.                                                                                                                                                         True\n",
       "CUBIC TRANSPORTATION SYSTEMS, INC., MESSAGING STRATEGY AND MEDIA RELATIONS SUPPORT IN RELATION TO MTA FARE PAYMENT PROCUREMENT.                                                                                                       True\n",
       "POWERS, KEITH  , POLITICAL CONSULTING SERVICES, INCLUDING PRODUCTION OF DIRECT MAIL AND/OR CAMPAIGN LITERATURE.                                                                                                                       True\n",
       "LANDER, BRAD  , POLITICAL CONSULTING SERVICES, INCLUDING PRODUCTION OF DIRECT MAIL AND/OR CAMPAIGN LITERATURE.                                                                                                                        True\n",
       "BRANDWORKERS, MEDIA OUTREACH AT WORKER RALLIES WHERE CITY ELECTED OFFICIALS SPOKE.                                                                                                                                                    True\n",
       "MOTIVATE INTERNATIONAL INC. (CITIBIKE), MEDIA RELATIONS AND MESSAGING SUPPORT FOR CITI BIKE.                                                                                                                                          True\n",
       "CLIMATE JOBS NEW YORK, MESSAGING STRATEGY IN SUPPORT OF POTENTIAL CLEAN ENERGY PROGRAM.                                                                                                                                               True\n",
       "SL GREEN, MESSAGING STRATEGY AND MEDIA RELATIONS REGARDING ONE VANDERBILT AND 125 PARK AVENUE.                                                                                                                                        True\n",
       "FAMILY VALUES AT WORK, MESSAGING STRATEGY AND MEDIA RELATIONS SUPPORT RELATED TO PAID SICK AND SAFE DAYS POLICY.                                                                                                                      True\n",
       "COMMUNICATIONS WORKERS OF AMERICA DISTRICT 1, PUBLIC COMMUNICATION AROUND STATE LEGISLATIVE ISSUES.                                                                                                                                   True\n",
       "DOYLE, JOHN  , BERLINROSEN PROVIDES POLITICAL CONSULTING SERVICES, INCLUDING PRODUCTION OF DIRECT MAIL AND/OR CAMPAIGN LITERATURE.                                                                                                    True\n",
       "OAC 550 OWNER LLC, MESSAGING AND STRATEGY RELATED TO 550 MADISON AVENUE.                                                                                                                                                              True\n",
       "COLOR OF CHANGE, MEDIA RELATIONS AND MESSAGING SUPPORT FOR CRIMINAL JUSTICE REFORM EFFORTS IN NY.                                                                                                                                     True\n",
       "SL GREEN - 175-225 THIRD STREET OWNER, LLC, MESSAGING STRATEGY AND MEDIA RELATIONS SUPPORT IN RELATION TO DEVELOPMENT.                                                                                                                True\n",
       "CURRAN, LAURA  , POLITICAL CONSULTING SERVICES, INCLUDING PRODUCTION OF DIRECT MAIL AND/OR CAMPAIGN LITERATURE.                                                                                                                       True\n",
       "                                                                                                                                                                                                                                     ...  \n",
       "GENTILE, VINCENT  , HILLTOP-NY SERVED AS THE GENERAL CONSULTANT TO GENTILE FOR DA, ADVISING THE CANDIDATE ON ALL ASPECTS OF HIS CAMPAIGN, INCLUDING MESSAGING, CONTENT DEVELOPEMENT, MEDIA RELATIONS, DEBATE PREP AND MEDIA BUYS.    False\n",
       "SERVICE EMPLOYEES INTERNATIONAL UNION, BERLINROSEN DOES MEDIA RELATIONS IN SUPPORT THE FIGHT FOR 15 INCLUDING SUPORT OF WORKWEEK LEGISLATION.                                                                                        False\n",
       "GAY MEN'S HEALTH CRISIS, MEDIA RELATIONS AND MEDIA SUPPORT FOR SEVERAL NON-PROFIT PROGRAMS AND PROJECTS, AND ADVOCACY FOR PEOPLE WITH HIV/AIDS.                                                                                      False\n",
       "ESPINAL, ARI  , GENERAL ADVICE & MEDIA/MAIL.                                                                                                                                                                                         False\n",
       "CARLUCCI, DAVID  , TV COMMERCIAL, LITERATURE, SIGNAGE                                                                                                                                                                                False\n",
       "ONE PENN PLAZA,LLC-VORNADO REALTY TRUST, BERLINROSEN DOES MESSAGING STRATEGY AND MEDIA RELATIONS IN SUPPORT OF RENOVATION OF PENN STATION                                                                                            False\n",
       "LEND LEASE (US) CONSTRUCTION LMB INC, PUBLIC AND GOVERNMENT RELATIONS SERVICES                                                                                                                                                       False\n",
       "NICOLLI, SARA  , VOTER CONTACT SOURCES, POLLING SERVICES, DIRECT MAIL                                                                                                                                                                False\n",
       "GILBANE BUILDING COMPANY, PUBLIC AND GOVERNMENT RELATIONS                                                                                                                                                                            False\n",
       "WESTCHESTER AMBULETTE SERVICE, TO PROVIDE LEGISLATIVE AND STRATEGIC COUNSEL - NYC COUNCIL AND CITY AGENCIES                                                                                                                          False\n",
       "THE ELEVATOR INDUSTRIES ASSOC. INC., LOBBYING                                                                                                                                                                                        False\n",
       "THE CHILDREN'S DEFENSE FUND, MEDIA RELATIONS IN SUPPORT OF THE RAISE THE AGE CAMPAIGN AND OTHER ISSUES RELATION TO YOUTH.                                                                                                            False\n",
       "GLICK, DEBORAH  , BERLINROSEN DOES POLITICAL CONSULTING SERVICES, INCLUDING PRODUCTION OF DIRECT MAIL AND/OR CAMPAIGN LITERATURE.                                                                                                    False\n",
       "PACIFIC PARK 615 DEAN, LLC(FOREST CITY RATNER COMPANIES), BERLINROSEN DOES MEDIA RELATIONS AND MESSAGING SUPPORT FOR PACIFIC PARK BROOKLYN                                                                                           False\n",
       "NICOLLI, SARA  , VOTER CONTACT SOURCES , POLLING SERVICES, DIRECT MAIL                                                                                                                                                               False\n",
       "BARR, NANCY  , GENERAL MEDIA & CONSULTING                                                                                                                                                                                            False\n",
       "UNIVISION COMMUNICATIONS, INC., IDENTIFYING FUNDING OPPORTUNITIES WITHIN NYS, NYC AND LOCAL AGENCIES RELATING TO MULTICULTURAL AND MEDIA CAMPAIGNS RELEVANT TO UNIVISION; LOBBYING SERVICES.                                         False\n",
       "GLOBAL STRATEGY GROUP, GENERAL CONSULTING                                                                                                                                                                                            False\n",
       "ADDABBO, JOSEPH  , VOTER CONTACT SOURCES , DIRECT MAIL                                                                                                                                                                               False\n",
       "1199 SEIU LABOR MANAGEMENT INITIATIVES, INC. HEALTHCARE EDUCATION PROJECT, LOBBYING                                                                                                                                                  False\n",
       "TRANSPORT WORKERS UNION, LOCAL 100, STRATEGIC CONSULTING - NYS LEGISLATURE AND STATE AGENCIES.                                                                                                                                       False\n",
       "NRG ENERGY, INC., LOBBYING                                                                                                                                                                                                           False\n",
       "ASIA AMERICANS FOR EQUALITY INC, LOBBYING                                                                                                                                                                                            False\n",
       "BARRY, RUPERT  , STRATEGIC PLANNING-COMPLIANCE WITH ELECTION LAW-BIND AND SUBMIT PETITION TO NYC BOARD OF ELECTIONS-VOTER TARGETING FOR CAMPAIGN LITERATURE                                                                          False\n",
       "MONTEFIORE HEALTH SYSTEMS INC, STRATEGIC COUNSEL- NYC COUNCIL AND CITY AGENCIES                                                                                                                                                      False\n",
       "SL GREEN - 175-225 THIRD STREET OWNER, LLC, BERLINROSEN DOES MESSAGING STRATEGY AND MEDIA RELATIONS SUPPORT IN RELATION TO DEVELOPMENT.                                                                                              False\n",
       "MOTIVATE INTERNATIONAL INC (CITIBIKE), MEDIA RELATIONS AND MESSAGING SUPPORT FOR CITI BIKE.                                                                                                                                          False\n",
       "ONE PENN PLAZA, LLC-VORNADO REALTY TRUST, BERLINROSEN DOES MESSAGING STRATEGY AND MEDIA RELATIONS IN SUPPORT OF RENOVATION OF PENN STATION                                                                                           False\n",
       "MID-BRONX, STRATEGIC COUNSEL- NYC COUNCIL AND CITY AGENCIES                                                                                                                                                                          False\n",
       "EMPIRE STATE AIRPORT HOLDINGS, LLC, LOBBYING                                                                                                                                                                                         False\n",
       "Name: CliendANDDesc, Length: 1391, dtype: bool"
      ]
     },
     "execution_count": 329,
     "metadata": {},
     "output_type": "execute_result"
    }
   ],
   "source": [
    "NewDF = df.copy()\n",
    "\n",
    "NewDF['CliendANDDesc'] = NewDF['Client Name'] + \", \" +  NewDF['Cleaned Descriptions']\n",
    "\n",
    "print(\"All listed client description pairs with True listed have more than 4, I did not have time to clean the output to only show client\")\n",
    "\n",
    "\n",
    "NewDF['CliendANDDesc'].value_counts()>4\n",
    "\n"
   ]
  },
  {
   "cell_type": "markdown",
   "metadata": {},
   "source": [
    "### [Q15 9 points] Busy seasons\n",
    "\n",
    "For each \"Political Consultant (PC) Name\", do the following:\n",
    "* Figure out the number of unique Client Names associated with this Political Consultant (PC) Name in each Reporting Period.\n",
    "* Find the Reporting Period when he/she had the most unique Client Names. Call this the \"busy season\" for this particular Political Consultant.\n",
    "\n",
    "Now, for each Reporting Period, figure out how many Political Consultant (PC) Names call it their busy season.\n",
    "\n",
    "Note: A Political Consultant may do multiple jobs for a given Client in each Reporting Period."
   ]
  },
  {
   "cell_type": "code",
   "execution_count": 280,
   "metadata": {},
   "outputs": [
    {
     "data": {
      "text/plain": [
       "JULY 1 - DECEMBER 31    31\n",
       "JANUARY 1 - JUNE 30     27\n",
       "dtype: int64"
      ]
     },
     "execution_count": 280,
     "metadata": {},
     "output_type": "execute_result"
    }
   ],
   "source": [
    "CT = pd.crosstab(df['Political Consultant (PC) Name'], df['Reporting Period'], values = df['Client Name'], aggfunc=lambda x: len(x.unique()))\n",
    "\n",
    "tab = CT.T.idxmax()\n",
    "\n",
    "tab.value_counts()\n"
   ]
  },
  {
   "cell_type": "markdown",
   "metadata": {},
   "source": [
    "### [Q16 10 points] Connections between public officials and businesses\n",
    "\n",
    "Let's say a politician P and a business B are *connected* if there is a consultant firm C that is consulting for both P and B. If there is only one such consulting firm, the \"strength\" of the connection is 1. If there are two different consulting firms consulting for both P and B, the strength of the connection between P and B is 2, and so on. If the same consultant firm is linked to P and B in two different \"Reporting Periods\", that still counts as 1 when computing connection strength between P and B.\n",
    "\n",
    "Find the public official and the business with the strongest connection.\n",
    "\n",
    "Note: A politician has \"Client Type\" as \"PUBLIC OFFICIAL/CANDIDATE\", while every other \"Client Type\" is a business. The consultant firm is specified by \"PC Business Name\"."
   ]
  },
  {
   "cell_type": "code",
   "execution_count": 303,
   "metadata": {},
   "outputs": [
    {
     "name": "stdout",
     "output_type": "stream",
     "text": [
      "The business and public official with the strongest connection are BROOKLYN PUBLIC LIBRARY and LANDER, BRAD      17\n",
      "Name: BusinessANDPolitician, dtype: int64\n"
     ]
    }
   ],
   "source": [
    "PoliticianMask = df['Client Type'] == 'PUBLIC OFFICIAL/CANDIDATE'\n",
    "\n",
    "Business = df[-PoliticianMask]\n",
    "Politician = df[PoliticianMask]\n",
    "\n",
    "Business = Business.drop_duplicates(subset = ['Client Name', 'Political Consultant (PC) Name'])\n",
    "Politician = Politician.drop_duplicates(subset = ['Client Name', 'Political Consultant (PC) Name'])\n",
    "\n",
    "Merged = Business.merge(Politician, left_on = 'Political Consultant (PC) Name', right_on = 'Political Consultant (PC) Name')\n",
    "Merged['BusinessANDPolitician'] = Merged['Client Name_x'] + \" and \" + Merged['Client Name_y']\n",
    "print \"The business and public official with the strongest connection are\", Merged['BusinessANDPolitician'].value_counts()[:1]\n"
   ]
  }
 ],
 "metadata": {
  "kernelspec": {
   "display_name": "Python 2",
   "language": "python",
   "name": "python2"
  },
  "language_info": {
   "codemirror_mode": {
    "name": "ipython",
    "version": 2
   },
   "file_extension": ".py",
   "mimetype": "text/x-python",
   "name": "python",
   "nbconvert_exporter": "python",
   "pygments_lexer": "ipython2",
   "version": "2.7.15"
  }
 },
 "nbformat": 4,
 "nbformat_minor": 2
}
