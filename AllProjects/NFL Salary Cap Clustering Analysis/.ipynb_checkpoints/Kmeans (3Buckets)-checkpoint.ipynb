{
 "cells": [
  {
   "cell_type": "code",
   "execution_count": 150,
   "metadata": {},
   "outputs": [],
   "source": [
    "import pandas as pd\n",
    "import sklearn as sk\n",
    "from sklearn.cluster import KMeans\n",
    "import matplotlib.pyplot as plt\n",
    "import numpy as np\n",
    "import seaborn as sns\n",
    "pd.set_option('display.max_columns', None)\n",
    "pd.set_option('display.max_rows', None)"
   ]
  },
  {
   "cell_type": "code",
   "execution_count": 151,
   "metadata": {},
   "outputs": [],
   "source": [
    "Df3 = pd.read_csv('3Buckets.csv')\n",
    "Df5 = pd.read_csv('5Buckets.csv')\n",
    "Df8 = pd.read_csv('8Buckets.csv')\n",
    "Df12 = pd.read_csv('12Buckets.csv')"
   ]
  },
  {
   "cell_type": "markdown",
   "metadata": {},
   "source": [
    "## Initial Model (Offense, Defense, Special Teams)"
   ]
  },
  {
   "cell_type": "code",
   "execution_count": 152,
   "metadata": {},
   "outputs": [],
   "source": [
    "X = Df3[['Off','Def','Special']]\n",
    "NonPredictorX = Df3[['Year','Team']]\n",
    "Y = Df3[['Wins', 'Playoff Wins', 'SuperBowl Win']]"
   ]
  },
  {
   "cell_type": "code",
   "execution_count": 153,
   "metadata": {
    "scrolled": true
   },
   "outputs": [
    {
     "data": {
      "image/png": "[encoded data removed]",
      "text/plain": [
       "<Figure size 432x288 with 1 Axes>"
      ]
     },
     "metadata": {
      "needs_background": "light"
     },
     "output_type": "display_data"
    },
    {
     "name": "stdout",
     "output_type": "stream",
     "text": [
      "Seemingly the best number of clusters is around 4-6\n"
     ]
    }
   ],
   "source": [
    "## Elbow Plot\n",
    "models = []\n",
    "wcss = []\n",
    "for i in range(1,10): \n",
    "    i = int(i)\n",
    "    KM = KMeans(n_clusters = i, random_state = 0, init = \"k-means++\", n_init = 10)\n",
    "    KM.fit(X)\n",
    "    wcss.append(KM.inertia_)\n",
    "    \n",
    "plt.plot(range(1,10),wcss)\n",
    "plt.title(\"Elbow Plot\")\n",
    "plt.xlabel(\"Num Clusters\")\n",
    "plt.ylabel(\"Within Cluster Sum of Squares\")\n",
    "\n",
    "plt.show()\n",
    "print(\"Seemingly the best number of clusters is around 4-6\")"
   ]
  },
  {
   "cell_type": "code",
   "execution_count": 154,
   "metadata": {},
   "outputs": [
    {
     "name": "stdout",
     "output_type": "stream",
     "text": [
      "Index(['Off', 'Def', 'Special'], dtype='object')\n"
     ]
    }
   ],
   "source": [
    "## 4 clusters\n",
    "KM3_4 = KMeans(n_clusters = 4, random_state = 0, init = \"k-means++\", n_init = 10)\n",
    "KM3_4.fit(X)\n",
    "Df3_4Clust = Df3.copy()\n",
    "Df3_4Clust['Cluster'] = KM3_4.labels_\n",
    "KM3_4.cluster_centers_\n",
    "print(X.columns)"
   ]
  },
  {
   "cell_type": "code",
   "execution_count": 155,
   "metadata": {},
   "outputs": [
    {
     "name": "stderr",
     "output_type": "stream",
     "text": [
      "C:\\Users\\blueh\\Anaconda3\\lib\\site-packages\\ipykernel_launcher.py:13: FutureWarning: set_value is deprecated and will be removed in a future release. Please use .at[] or .iat[] accessors instead\n",
      "  del sys.path[0]\n"
     ]
    },
    {
     "data": {
      "text/html": [
       "<div>\n",
       "<style scoped>\n",
       "    .dataframe tbody tr th:only-of-type {\n",
       "        vertical-align: middle;\n",
       "    }\n",
       "\n",
       "    .dataframe tbody tr th {\n",
       "        vertical-align: top;\n",
       "    }\n",
       "\n",
       "    .dataframe thead th {\n",
       "        text-align: right;\n",
       "    }\n",
       "</style>\n",
       "<table border=\"1\" class=\"dataframe\">\n",
       "  <thead>\n",
       "    <tr style=\"text-align: right;\">\n",
       "      <th></th>\n",
       "      <th>Cluster</th>\n",
       "      <th>SuperBowl Win</th>\n",
       "      <th>Playoff Wins</th>\n",
       "      <th>Wins</th>\n",
       "      <th>Off</th>\n",
       "      <th>Def</th>\n",
       "      <th>Special</th>\n",
       "      <th>TotCap</th>\n",
       "      <th>Count</th>\n",
       "    </tr>\n",
       "  </thead>\n",
       "  <tbody>\n",
       "    <tr>\n",
       "      <td>0</td>\n",
       "      <td>0</td>\n",
       "      <td>0.012658</td>\n",
       "      <td>0.455696</td>\n",
       "      <td>8.360759</td>\n",
       "      <td>40</td>\n",
       "      <td>47</td>\n",
       "      <td>2</td>\n",
       "      <td>89</td>\n",
       "      <td>158</td>\n",
       "    </tr>\n",
       "    <tr>\n",
       "      <td>1</td>\n",
       "      <td>1</td>\n",
       "      <td>0.052174</td>\n",
       "      <td>0.547826</td>\n",
       "      <td>8.182609</td>\n",
       "      <td>52</td>\n",
       "      <td>41</td>\n",
       "      <td>2</td>\n",
       "      <td>95</td>\n",
       "      <td>115</td>\n",
       "    </tr>\n",
       "    <tr>\n",
       "      <td>2</td>\n",
       "      <td>2</td>\n",
       "      <td>0.020619</td>\n",
       "      <td>0.402062</td>\n",
       "      <td>7.484536</td>\n",
       "      <td>28</td>\n",
       "      <td>25</td>\n",
       "      <td>1</td>\n",
       "      <td>54</td>\n",
       "      <td>97</td>\n",
       "    </tr>\n",
       "    <tr>\n",
       "      <td>3</td>\n",
       "      <td>3</td>\n",
       "      <td>0.036364</td>\n",
       "      <td>0.436364</td>\n",
       "      <td>7.663636</td>\n",
       "      <td>45</td>\n",
       "      <td>31</td>\n",
       "      <td>2</td>\n",
       "      <td>78</td>\n",
       "      <td>110</td>\n",
       "    </tr>\n",
       "  </tbody>\n",
       "</table>\n",
       "</div>"
      ],
      "text/plain": [
       "   Cluster  SuperBowl Win  Playoff Wins      Wins  Off  Def  Special  TotCap  \\\n",
       "0        0       0.012658      0.455696  8.360759   40   47        2      89   \n",
       "1        1       0.052174      0.547826  8.182609   52   41        2      95   \n",
       "2        2       0.020619      0.402062  7.484536   28   25        1      54   \n",
       "3        3       0.036364      0.436364  7.663636   45   31        2      78   \n",
       "\n",
       "   Count  \n",
       "0    158  \n",
       "1    115  \n",
       "2     97  \n",
       "3    110  "
      ]
     },
     "execution_count": 155,
     "metadata": {},
     "output_type": "execute_result"
    }
   ],
   "source": [
    "##Match Average Offense, Defense, Special spending back to groupby to gain cluster averages for all metrics\n",
    "Df3_4_GB = Df3_4Clust.groupby(by = \"Cluster\")[['SuperBowl Win', \"Playoff Wins\",'Wins']].mean()\n",
    "Df3_4_GB.reset_index(inplace = True)\n",
    "labs = X.columns\n",
    "for lab in labs:\n",
    "    Df3_4_GB[lab] = 0\n",
    "\n",
    "for i in range (0,len(KM3_4.cluster_centers_)):\n",
    "    m = 4\n",
    "    k_m = 0\n",
    "    for lab in labs:\n",
    "        val = KM3_4.cluster_centers_[i][k_m]\n",
    "        Df3_4_GB.set_value(i,lab,val)\n",
    "        m+=1\n",
    "        k_m+=1\n",
    "        \n",
    "Df3_4_GB['TotCap'] = Df3_4_GB['Off'] + Df3_4_GB['Def'] + Df3_4_GB['Special']\n",
    "Df3_4_GB['Count'] = Df3_4Clust.groupby(by = \"Cluster\")['Year'].count()\n",
    "Df3_4_GB"
   ]
  },
  {
   "cell_type": "code",
   "execution_count": null,
   "metadata": {},
   "outputs": [],
   "source": [
    "## Calculate Average Prediction Error\n",
    "for i in range(0,4):\n",
    "    Df3_4Clust[i] = 0\n",
    "\n",
    "def DistFunc(x):\n",
    "    D0 = np.sqrt((x['Off']-Df3_4_GB.iat[0,4])**2+(x['Def'] - Df3_4_GB.iat[0,5])**2 + (x['Special'] - Df3_4_GB.iat[0,6])**2)\n",
    "    D1 = np.sqrt((x['Off']-Df3_4_GB.iat[1,4])**2+(x['Def'] - Df3_4_GB.iat[1,5])**2 + (x['Special'] - Df3_4_GB.iat[1,6])**2)\n",
    "    D2 = np.sqrt((x['Off']-Df3_4_GB.iat[2,4])**2+(x['Def'] - Df3_4_GB.iat[2,5])**2 + (x['Special'] - Df3_4_GB.iat[2,6])**2)\n",
    "    D3 = np.sqrt((x['Off']-Df3_4_GB.iat[3,4])**2+(x['Def'] - Df3_4_GB.iat[3,5])**2 + (x['Special'] - Df3_4_GB.iat[3,6])**2)\n",
    "    Tot = D0 + D1 + D2 + D3\n",
    "    N0 = 1/((D0/Tot))\n",
    "    N1 = 1/((D1/Tot))\n",
    "    N2 = 1/((D2/Tot))\n",
    "    N3 = 1/((D3/Tot))\n",
    "    TotN = N0 + N1 + N2 + N3\n",
    "    Perc0 = N0/TotN*100\n",
    "    Perc1 = N1/TotN*100\n",
    "    Perc2 = N2/TotN*100\n",
    "    Perc3 = N3/TotN*100\n",
    "    \n",
    "    return pd.Series([Perc0,Perc1,Perc2,Perc3])\n",
    "\n",
    "def ExpectedWins(x):\n",
    "    WinShares0 = x[0]/100*Df3_4_GB.iat[0,3]\n",
    "    WinShares1 = x[1]/100*Df3_4_GB.iat[1,3]\n",
    "    WinShares2 = x[2]/100*Df3_4_GB.iat[2,3]\n",
    "    WinShares3 = x[3]/100*Df3_4_GB.iat[3,3]\n",
    "    ExpWins = WinShares0 + WinShares1 + WinShares2 + WinShares3\n",
    "    return ExpWins\n",
    "\n",
    "Df3_4Clust[[0,1,2,3]] = Df3_4Clust.apply(DistFunc, axis = 1)\n",
    "    \n",
    "Df3_4Clust['ExpWins'] = Df3_4Clust.apply(ExpectedWins, axis = 1)\n",
    "Df3_4Clust['Error'] = abs(Df3_4Clust['Wins'] - Df3_4Clust['ExpWins'])\n",
    "AvgError = sum(Df3_4Clust['Error'])/len(Df3_4Clust)"
   ]
  },
  {
   "cell_type": "code",
   "execution_count": 158,
   "metadata": {},
   "outputs": [
    {
     "data": {
      "text/plain": [
       "2.5509003539119033"
      ]
     },
     "execution_count": 158,
     "metadata": {},
     "output_type": "execute_result"
    }
   ],
   "source": [
    "AvgError"
   ]
  },
  {
   "cell_type": "markdown",
   "metadata": {},
   "source": [
    "## 5 clusters"
   ]
  },
  {
   "cell_type": "code",
   "execution_count": 161,
   "metadata": {},
   "outputs": [
    {
     "data": {
      "text/plain": [
       "array([[47.89512195, 29.73085366,  2.47231707],\n",
       "       [34.78930233, 39.42651163,  2.46186047],\n",
       "       [51.28535433, 41.53023622,  2.80472441],\n",
       "       [42.72180952, 50.50038095,  3.04333333],\n",
       "       [28.4495    , 22.866     ,  1.856875  ]])"
      ]
     },
     "execution_count": 161,
     "metadata": {},
     "output_type": "execute_result"
    }
   ],
   "source": [
    "## 5 clusters\n",
    "KM3_5 = KMeans(n_clusters = 5, random_state = 0, init = \"k-means++\", n_init = 10)\n",
    "KM3_5.fit(X)\n",
    "Df3_5Clust = Df3.copy()\n",
    "Df3_5Clust['Cluster'] = KM3_5.labels_\n",
    "KM3_5.cluster_centers_"
   ]
  },
  {
   "cell_type": "code",
   "execution_count": 178,
   "metadata": {},
   "outputs": [
    {
     "name": "stderr",
     "output_type": "stream",
     "text": [
      "C:\\Users\\blueh\\Anaconda3\\lib\\site-packages\\ipykernel_launcher.py:12: FutureWarning: set_value is deprecated and will be removed in a future release. Please use .at[] or .iat[] accessors instead\n",
      "  if sys.path[0] == '':\n"
     ]
    },
    {
     "data": {
      "text/html": [
       "<div>\n",
       "<style scoped>\n",
       "    .dataframe tbody tr th:only-of-type {\n",
       "        vertical-align: middle;\n",
       "    }\n",
       "\n",
       "    .dataframe tbody tr th {\n",
       "        vertical-align: top;\n",
       "    }\n",
       "\n",
       "    .dataframe thead th {\n",
       "        text-align: right;\n",
       "    }\n",
       "</style>\n",
       "<table border=\"1\" class=\"dataframe\">\n",
       "  <thead>\n",
       "    <tr style=\"text-align: right;\">\n",
       "      <th></th>\n",
       "      <th>Cluster</th>\n",
       "      <th>SuperBowl Win</th>\n",
       "      <th>Playoff Wins</th>\n",
       "      <th>Wins</th>\n",
       "      <th>Off</th>\n",
       "      <th>Def</th>\n",
       "      <th>Special</th>\n",
       "      <th>TotCap</th>\n",
       "      <th>Count</th>\n",
       "    </tr>\n",
       "  </thead>\n",
       "  <tbody>\n",
       "    <tr>\n",
       "      <td>0</td>\n",
       "      <td>0</td>\n",
       "      <td>0.036585</td>\n",
       "      <td>0.463415</td>\n",
       "      <td>7.878049</td>\n",
       "      <td>47</td>\n",
       "      <td>29</td>\n",
       "      <td>2</td>\n",
       "      <td>78</td>\n",
       "      <td>82</td>\n",
       "    </tr>\n",
       "    <tr>\n",
       "      <td>1</td>\n",
       "      <td>1</td>\n",
       "      <td>0.000000</td>\n",
       "      <td>0.337209</td>\n",
       "      <td>7.790698</td>\n",
       "      <td>34</td>\n",
       "      <td>39</td>\n",
       "      <td>2</td>\n",
       "      <td>75</td>\n",
       "      <td>86</td>\n",
       "    </tr>\n",
       "    <tr>\n",
       "      <td>2</td>\n",
       "      <td>2</td>\n",
       "      <td>0.047244</td>\n",
       "      <td>0.543307</td>\n",
       "      <td>8.204724</td>\n",
       "      <td>51</td>\n",
       "      <td>41</td>\n",
       "      <td>2</td>\n",
       "      <td>94</td>\n",
       "      <td>127</td>\n",
       "    </tr>\n",
       "    <tr>\n",
       "      <td>3</td>\n",
       "      <td>3</td>\n",
       "      <td>0.019048</td>\n",
       "      <td>0.476190</td>\n",
       "      <td>8.457143</td>\n",
       "      <td>42</td>\n",
       "      <td>50</td>\n",
       "      <td>3</td>\n",
       "      <td>95</td>\n",
       "      <td>105</td>\n",
       "    </tr>\n",
       "    <tr>\n",
       "      <td>4</td>\n",
       "      <td>4</td>\n",
       "      <td>0.037500</td>\n",
       "      <td>0.450000</td>\n",
       "      <td>7.312500</td>\n",
       "      <td>28</td>\n",
       "      <td>22</td>\n",
       "      <td>1</td>\n",
       "      <td>51</td>\n",
       "      <td>80</td>\n",
       "    </tr>\n",
       "  </tbody>\n",
       "</table>\n",
       "</div>"
      ],
      "text/plain": [
       "   Cluster  SuperBowl Win  Playoff Wins      Wins  Off  Def  Special  TotCap  \\\n",
       "0        0       0.036585      0.463415  7.878049   47   29        2      78   \n",
       "1        1       0.000000      0.337209  7.790698   34   39        2      75   \n",
       "2        2       0.047244      0.543307  8.204724   51   41        2      94   \n",
       "3        3       0.019048      0.476190  8.457143   42   50        3      95   \n",
       "4        4       0.037500      0.450000  7.312500   28   22        1      51   \n",
       "\n",
       "   Count  \n",
       "0     82  \n",
       "1     86  \n",
       "2    127  \n",
       "3    105  \n",
       "4     80  "
      ]
     },
     "execution_count": 178,
     "metadata": {},
     "output_type": "execute_result"
    }
   ],
   "source": [
    "##Match Average Offense, Defense, Special spending back to groupby to gain cluster averages for all metrics\n",
    "Df3_5_GB = Df3_5Clust.groupby(by = \"Cluster\")[['SuperBowl Win', \"Playoff Wins\",'Wins']].mean()\n",
    "Df3_5_GB.reset_index(inplace = True)\n",
    "labs = X.columns\n",
    "for lab in labs:\n",
    "    Df3_5_GB[lab] = 0\n",
    "\n",
    "for i in range (0,len(KM3_5.cluster_centers_)):\n",
    "    k_m = 0\n",
    "    for lab in labs:\n",
    "        val = KM3_5.cluster_centers_[i][k_m]\n",
    "        Df3_5_GB.set_value(i,lab,val)\n",
    "        k_m+=1\n",
    "        \n",
    "Df3_5_GB['TotCap'] = Df3_5_GB['Off'] + Df3_5_GB['Def'] + Df3_5_GB['Special']\n",
    "Df3_5_GB['Count'] = Df3_5Clust.groupby(by = \"Cluster\")['Year'].count()\n",
    "Df3_5_GB"
   ]
  },
  {
   "cell_type": "code",
   "execution_count": 185,
   "metadata": {},
   "outputs": [],
   "source": [
    "## Calculate Average Prediction Error\n",
    "for i in range(0,5):\n",
    "    Df3_5Clust[i] = 0\n",
    "\n",
    "def DistFunc(x):\n",
    "    D0 = np.sqrt((x['Off']-Df3_5_GB.iat[0,4])**2+(x['Def'] - Df3_5_GB.iat[0,5])**2 + (x['Special'] - Df3_5_GB.iat[0,6])**2)\n",
    "    D1 = np.sqrt((x['Off']-Df3_5_GB.iat[1,4])**2+(x['Def'] - Df3_5_GB.iat[1,5])**2 + (x['Special'] - Df3_5_GB.iat[1,6])**2)\n",
    "    D2 = np.sqrt((x['Off']-Df3_5_GB.iat[2,4])**2+(x['Def'] - Df3_5_GB.iat[2,5])**2 + (x['Special'] - Df3_5_GB.iat[2,6])**2)\n",
    "    D3 = np.sqrt((x['Off']-Df3_5_GB.iat[3,4])**2+(x['Def'] - Df3_5_GB.iat[3,5])**2 + (x['Special'] - Df3_5_GB.iat[3,6])**2)\n",
    "    D4 = np.sqrt((x['Off']-Df3_5_GB.iat[4,4])**2+(x['Def'] - Df3_5_GB.iat[4,5])**2 + (x['Special'] - Df3_5_GB.iat[4,6])**2)\n",
    "    Tot = D0 + D1 + D2 + D3 + D4\n",
    "    N0 = 1/((D0/Tot))\n",
    "    N1 = 1/((D1/Tot))\n",
    "    N2 = 1/((D2/Tot))\n",
    "    N3 = 1/((D3/Tot))\n",
    "    N4 = 1/((D4/Tot))\n",
    "    TotN = N0 + N1 + N2 + N3 + N4\n",
    "    Perc0 = N0/TotN*100\n",
    "    Perc1 = N1/TotN*100\n",
    "    Perc2 = N2/TotN*100\n",
    "    Perc3 = N3/TotN*100\n",
    "    Perc4 = N4/TotN*100\n",
    "    \n",
    "    return pd.Series([Perc0,Perc1,Perc2,Perc3,Perc4])\n",
    "\n",
    "def ExpectedWins(x):\n",
    "    WinShares0 = x[0]/100*Df3_5_GB.iat[0,3]\n",
    "    WinShares1 = x[1]/100*Df3_5_GB.iat[1,3]\n",
    "    WinShares2 = x[2]/100*Df3_5_GB.iat[2,3]\n",
    "    WinShares3 = x[3]/100*Df3_5_GB.iat[3,3]\n",
    "    WinShares4 = x[4]/100*Df3_5_GB.iat[4,3]\n",
    "    ExpWins = WinShares0 + WinShares1 + WinShares2 + WinShares3 + WinShares4\n",
    "    return ExpWins\n",
    "\n",
    "Df3_5Clust[[0,1,2,3,4]] = Df3_5Clust.apply(DistFunc, axis = 1)\n",
    "    \n",
    "Df3_5Clust['ExpWins'] = Df3_5Clust.apply(ExpectedWins, axis = 1)\n",
    "Df3_5Clust['Error'] = Df3_5Clust['Wins'] - Df3_5Clust['ExpWins']\n",
    "AvgError = sum(abs(Df3_5Clust['Error']))/len(Df3_5Clust)"
   ]
  },
  {
   "cell_type": "code",
   "execution_count": 186,
   "metadata": {},
   "outputs": [
    {
     "data": {
      "text/plain": [
       "2.5489367717850566"
      ]
     },
     "execution_count": 186,
     "metadata": {},
     "output_type": "execute_result"
    }
   ],
   "source": [
    "AvgError"
   ]
  },
  {
   "cell_type": "markdown",
   "metadata": {},
   "source": [
    "## 6 clusters"
   ]
  },
  {
   "cell_type": "code",
   "execution_count": 181,
   "metadata": {},
   "outputs": [
    {
     "data": {
      "text/plain": [
       "array([[26.21763158, 35.82394737,  1.78631579],\n",
       "       [42.80021505, 51.28548387,  3.00795699],\n",
       "       [48.39      , 29.45493506,  2.52194805],\n",
       "       [52.39277778, 41.83851852,  2.87990741],\n",
       "       [29.4319403 , 21.3819403 ,  1.83955224],\n",
       "       [39.80608247, 40.04876289,  2.70783505]])"
      ]
     },
     "execution_count": 181,
     "metadata": {},
     "output_type": "execute_result"
    }
   ],
   "source": [
    "KM3_6 = KMeans(n_clusters = 6, random_state = 0, init = \"k-means++\", n_init = 10)\n",
    "KM3_6.fit(X)\n",
    "Df3_6Clust = Df3.copy()\n",
    "Df3_6Clust['Cluster'] = KM3_6.labels_\n",
    "KM3_6.cluster_centers_"
   ]
  },
  {
   "cell_type": "code",
   "execution_count": 182,
   "metadata": {},
   "outputs": [
    {
     "name": "stderr",
     "output_type": "stream",
     "text": [
      "C:\\Users\\blueh\\Anaconda3\\lib\\site-packages\\ipykernel_launcher.py:12: FutureWarning: set_value is deprecated and will be removed in a future release. Please use .at[] or .iat[] accessors instead\n",
      "  if sys.path[0] == '':\n"
     ]
    },
    {
     "data": {
      "text/html": [
       "<div>\n",
       "<style scoped>\n",
       "    .dataframe tbody tr th:only-of-type {\n",
       "        vertical-align: middle;\n",
       "    }\n",
       "\n",
       "    .dataframe tbody tr th {\n",
       "        vertical-align: top;\n",
       "    }\n",
       "\n",
       "    .dataframe thead th {\n",
       "        text-align: right;\n",
       "    }\n",
       "</style>\n",
       "<table border=\"1\" class=\"dataframe\">\n",
       "  <thead>\n",
       "    <tr style=\"text-align: right;\">\n",
       "      <th></th>\n",
       "      <th>Cluster</th>\n",
       "      <th>SuperBowl Win</th>\n",
       "      <th>Playoff Wins</th>\n",
       "      <th>Wins</th>\n",
       "      <th>Off</th>\n",
       "      <th>Def</th>\n",
       "      <th>Special</th>\n",
       "      <th>TotCap</th>\n",
       "      <th>Count</th>\n",
       "    </tr>\n",
       "  </thead>\n",
       "  <tbody>\n",
       "    <tr>\n",
       "      <td>0</td>\n",
       "      <td>0</td>\n",
       "      <td>0.026316</td>\n",
       "      <td>0.368421</td>\n",
       "      <td>7.736842</td>\n",
       "      <td>26</td>\n",
       "      <td>35</td>\n",
       "      <td>1</td>\n",
       "      <td>62</td>\n",
       "      <td>38</td>\n",
       "    </tr>\n",
       "    <tr>\n",
       "      <td>1</td>\n",
       "      <td>1</td>\n",
       "      <td>0.021505</td>\n",
       "      <td>0.516129</td>\n",
       "      <td>8.559140</td>\n",
       "      <td>42</td>\n",
       "      <td>51</td>\n",
       "      <td>3</td>\n",
       "      <td>96</td>\n",
       "      <td>93</td>\n",
       "    </tr>\n",
       "    <tr>\n",
       "      <td>2</td>\n",
       "      <td>2</td>\n",
       "      <td>0.025974</td>\n",
       "      <td>0.428571</td>\n",
       "      <td>7.740260</td>\n",
       "      <td>48</td>\n",
       "      <td>29</td>\n",
       "      <td>2</td>\n",
       "      <td>79</td>\n",
       "      <td>77</td>\n",
       "    </tr>\n",
       "    <tr>\n",
       "      <td>3</td>\n",
       "      <td>3</td>\n",
       "      <td>0.055556</td>\n",
       "      <td>0.555556</td>\n",
       "      <td>8.166667</td>\n",
       "      <td>52</td>\n",
       "      <td>41</td>\n",
       "      <td>2</td>\n",
       "      <td>95</td>\n",
       "      <td>108</td>\n",
       "    </tr>\n",
       "    <tr>\n",
       "      <td>4</td>\n",
       "      <td>4</td>\n",
       "      <td>0.029851</td>\n",
       "      <td>0.477612</td>\n",
       "      <td>7.343284</td>\n",
       "      <td>29</td>\n",
       "      <td>21</td>\n",
       "      <td>1</td>\n",
       "      <td>51</td>\n",
       "      <td>67</td>\n",
       "    </tr>\n",
       "    <tr>\n",
       "      <td>5</td>\n",
       "      <td>5</td>\n",
       "      <td>0.010309</td>\n",
       "      <td>0.360825</td>\n",
       "      <td>7.948454</td>\n",
       "      <td>39</td>\n",
       "      <td>40</td>\n",
       "      <td>2</td>\n",
       "      <td>81</td>\n",
       "      <td>97</td>\n",
       "    </tr>\n",
       "  </tbody>\n",
       "</table>\n",
       "</div>"
      ],
      "text/plain": [
       "   Cluster  SuperBowl Win  Playoff Wins      Wins  Off  Def  Special  TotCap  \\\n",
       "0        0       0.026316      0.368421  7.736842   26   35        1      62   \n",
       "1        1       0.021505      0.516129  8.559140   42   51        3      96   \n",
       "2        2       0.025974      0.428571  7.740260   48   29        2      79   \n",
       "3        3       0.055556      0.555556  8.166667   52   41        2      95   \n",
       "4        4       0.029851      0.477612  7.343284   29   21        1      51   \n",
       "5        5       0.010309      0.360825  7.948454   39   40        2      81   \n",
       "\n",
       "   Count  \n",
       "0     38  \n",
       "1     93  \n",
       "2     77  \n",
       "3    108  \n",
       "4     67  \n",
       "5     97  "
      ]
     },
     "execution_count": 182,
     "metadata": {},
     "output_type": "execute_result"
    }
   ],
   "source": [
    "##Match Average Offense, Defense, Special spending back to groupby to gain cluster averages for all metrics\n",
    "Df3_6_GB = Df3_6Clust.groupby(by = \"Cluster\")[['SuperBowl Win', \"Playoff Wins\",'Wins']].mean()\n",
    "Df3_6_GB.reset_index(inplace = True)\n",
    "labs = X.columns\n",
    "for lab in labs:\n",
    "    Df3_6_GB[lab] = 0\n",
    "\n",
    "for i in range (0,len(KM3_6.cluster_centers_)):\n",
    "    k_m = 0\n",
    "    for lab in labs:\n",
    "        val = KM3_6.cluster_centers_[i][k_m]\n",
    "        Df3_6_GB.set_value(i,lab,val)\n",
    "        k_m+=1\n",
    "        \n",
    "Df3_6_GB['TotCap'] = Df3_6_GB['Off'] + Df3_6_GB['Def'] + Df3_6_GB['Special']\n",
    "Df3_6_GB['Count'] = Df3_6Clust.groupby(by = \"Cluster\")['Year'].count()\n",
    "Df3_6_GB"
   ]
  },
  {
   "cell_type": "code",
   "execution_count": 187,
   "metadata": {},
   "outputs": [],
   "source": [
    "## Calculate Average Prediction Error\n",
    "for i in range(0,6):\n",
    "    Df3_6Clust[i] = 0\n",
    "\n",
    "def DistFunc(x):\n",
    "    D0 = np.sqrt((x['Off']-Df3_6_GB.iat[0,4])**2+(x['Def'] - Df3_6_GB.iat[0,5])**2 + (x['Special'] - Df3_6_GB.iat[0,6])**2)\n",
    "    D1 = np.sqrt((x['Off']-Df3_6_GB.iat[1,4])**2+(x['Def'] - Df3_6_GB.iat[1,5])**2 + (x['Special'] - Df3_6_GB.iat[1,6])**2)\n",
    "    D2 = np.sqrt((x['Off']-Df3_6_GB.iat[2,4])**2+(x['Def'] - Df3_6_GB.iat[2,5])**2 + (x['Special'] - Df3_6_GB.iat[2,6])**2)\n",
    "    D3 = np.sqrt((x['Off']-Df3_6_GB.iat[3,4])**2+(x['Def'] - Df3_6_GB.iat[3,5])**2 + (x['Special'] - Df3_6_GB.iat[3,6])**2)\n",
    "    D4 = np.sqrt((x['Off']-Df3_6_GB.iat[4,4])**2+(x['Def'] - Df3_6_GB.iat[4,5])**2 + (x['Special'] - Df3_6_GB.iat[4,6])**2)\n",
    "    D5 = np.sqrt((x['Off']-Df3_6_GB.iat[5,4])**2+(x['Def'] - Df3_6_GB.iat[5,5])**2 + (x['Special'] - Df3_6_GB.iat[5,6])**2)\n",
    "    Tot = D0 + D1 + D2 + D3 + D4 + D5\n",
    "    N0 = 1/((D0/Tot))\n",
    "    N1 = 1/((D1/Tot))\n",
    "    N2 = 1/((D2/Tot))\n",
    "    N3 = 1/((D3/Tot))\n",
    "    N4 = 1/((D4/Tot))\n",
    "    N5 = 1/((D5/Tot))\n",
    "    TotN = N0 + N1 + N2 + N3 + N4 + N5\n",
    "    Perc0 = N0/TotN*100\n",
    "    Perc1 = N1/TotN*100\n",
    "    Perc2 = N2/TotN*100\n",
    "    Perc3 = N3/TotN*100\n",
    "    Perc4 = N4/TotN*100\n",
    "    Perc5 = N5/TotN*100\n",
    "    \n",
    "    return pd.Series([Perc0,Perc1,Perc2,Perc3,Perc4,Perc5])\n",
    "\n",
    "def ExpectedWins(x):\n",
    "    WinShares0 = x[0]/100*Df3_6_GB.iat[0,3]\n",
    "    WinShares1 = x[1]/100*Df3_6_GB.iat[1,3]\n",
    "    WinShares2 = x[2]/100*Df3_6_GB.iat[2,3]\n",
    "    WinShares3 = x[3]/100*Df3_6_GB.iat[3,3]\n",
    "    WinShares4 = x[2]/100*Df3_6_GB.iat[4,3]\n",
    "    WinShares5 = x[3]/100*Df3_6_GB.iat[5,3]\n",
    "    ExpWins = WinShares0 + WinShares1 + WinShares2 + WinShares3 + WinShares4 + WinShares5\n",
    "    return ExpWins\n",
    "\n",
    "Df3_6Clust[[0,1,2,3,4,5]] = Df3_6Clust.apply(DistFunc, axis = 1)\n",
    "    \n",
    "Df3_6Clust['ExpWins'] = Df3_6Clust.apply(ExpectedWins, axis = 1)\n",
    "Df3_6Clust['Error'] = Df3_6Clust['Wins'] - Df3_6Clust['ExpWins']\n",
    "AvgError = sum(abs(Df3_6Clust['Error']))/len(Df3_6Clust)"
   ]
  },
  {
   "cell_type": "code",
   "execution_count": 191,
   "metadata": {},
   "outputs": [
    {
     "data": {
      "text/plain": [
       "2.965905009772777"
      ]
     },
     "execution_count": 191,
     "metadata": {},
     "output_type": "execute_result"
    }
   ],
   "source": [
    "AvgError"
   ]
  },
  {
   "cell_type": "markdown",
   "metadata": {},
   "source": [
    "#### In summary, these kmeans models were effective at distinguishing between basic spending patterns concerning offense, defense, and special teams, but were not effective at predicting the wins or playoff success, as each cluster had average wins right around 8. The clusters being distinct and the algorithm to determine % chance of belonging to a cluster were both successful"
   ]
  },
  {
   "cell_type": "code",
   "execution_count": null,
   "metadata": {},
   "outputs": [],
   "source": []
  }
 ],
 "metadata": {
  "kernelspec": {
   "display_name": "Python 3",
   "language": "python",
   "name": "python3"
  },
  "language_info": {
   "codemirror_mode": {
    "name": "ipython",
    "version": 3
   },
   "file_extension": ".py",
   "mimetype": "text/x-python",
   "name": "python",
   "nbconvert_exporter": "python",
   "pygments_lexer": "ipython3",
   "version": "3.7.4"
  }
 },
 "nbformat": 4,
 "nbformat_minor": 2
}
